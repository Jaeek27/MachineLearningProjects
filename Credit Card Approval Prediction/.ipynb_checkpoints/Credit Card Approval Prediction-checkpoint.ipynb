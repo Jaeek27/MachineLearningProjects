{
 "cells": [
  {
   "cell_type": "markdown",
   "id": "1c54c595",
   "metadata": {},
   "source": [
    "# Credit Card Approval Prediction"
   ]
  },
  {
   "cell_type": "markdown",
   "id": "30a53acb",
   "metadata": {},
   "source": [
    "### Business Problem: \n",
    "<b> Credit card approval prediction is an important business problem for financial institutions, such as banks and credit card companies, because it helps them to make informed decisions about whether or not to approve credit card applications from potential customers. <b>"
   ]
  },
  {
   "cell_type": "markdown",
   "id": "c48c27f0",
   "metadata": {
    "papermill": {
     "duration": 0.014899,
     "end_time": "2023-02-18T06:11:37.377503",
     "exception": false,
     "start_time": "2023-02-18T06:11:37.362604",
     "status": "completed"
    },
    "tags": []
   },
   "source": [
    "## Importing Libraries"
   ]
  },
  {
   "cell_type": "code",
   "execution_count": 1,
   "id": "3124f389",
   "metadata": {
    "execution": {
     "iopub.execute_input": "2023-02-18T06:11:37.412583Z",
     "iopub.status.busy": "2023-02-18T06:11:37.412063Z",
     "iopub.status.idle": "2023-02-18T06:11:37.428367Z",
     "shell.execute_reply": "2023-02-18T06:11:37.427559Z"
    },
    "papermill": {
     "duration": 0.037769,
     "end_time": "2023-02-18T06:11:37.433244",
     "exception": false,
     "start_time": "2023-02-18T06:11:37.395475",
     "status": "completed"
    },
    "tags": []
   },
   "outputs": [],
   "source": [
    "import pandas as pd\n",
    "import numpy as np"
   ]
  },
  {
   "cell_type": "markdown",
   "id": "00e698ee",
   "metadata": {
    "papermill": {
     "duration": 0.014165,
     "end_time": "2023-02-18T06:11:37.461887",
     "exception": false,
     "start_time": "2023-02-18T06:11:37.447722",
     "status": "completed"
    },
    "tags": []
   },
   "source": [
    "## Importing Datasets"
   ]
  },
  {
   "cell_type": "code",
   "execution_count": 2,
   "id": "b8fee7de",
   "metadata": {
    "execution": {
     "iopub.execute_input": "2023-02-18T06:11:37.492844Z",
     "iopub.status.busy": "2023-02-18T06:11:37.492491Z",
     "iopub.status.idle": "2023-02-18T06:11:39.206864Z",
     "shell.execute_reply": "2023-02-18T06:11:39.205810Z"
    },
    "papermill": {
     "duration": 1.732814,
     "end_time": "2023-02-18T06:11:39.209382",
     "exception": false,
     "start_time": "2023-02-18T06:11:37.476568",
     "status": "completed"
    },
    "tags": []
   },
   "outputs": [],
   "source": [
    "application_record = pd.read_csv('application_record.csv')\n",
    "credit_record = pd.read_csv('credit_record.csv')"
   ]
  },
  {
   "cell_type": "code",
   "execution_count": 3,
   "id": "9172ef69",
   "metadata": {
    "execution": {
     "iopub.execute_input": "2023-02-18T06:11:39.232680Z",
     "iopub.status.busy": "2023-02-18T06:11:39.231153Z",
     "iopub.status.idle": "2023-02-18T06:11:39.266834Z",
     "shell.execute_reply": "2023-02-18T06:11:39.265708Z"
    },
    "papermill": {
     "duration": 0.050061,
     "end_time": "2023-02-18T06:11:39.269730",
     "exception": false,
     "start_time": "2023-02-18T06:11:39.219669",
     "status": "completed"
    },
    "scrolled": true,
    "tags": []
   },
   "outputs": [
    {
     "data": {
      "text/html": [
       "<div>\n",
       "<style scoped>\n",
       "    .dataframe tbody tr th:only-of-type {\n",
       "        vertical-align: middle;\n",
       "    }\n",
       "\n",
       "    .dataframe tbody tr th {\n",
       "        vertical-align: top;\n",
       "    }\n",
       "\n",
       "    .dataframe thead th {\n",
       "        text-align: right;\n",
       "    }\n",
       "</style>\n",
       "<table border=\"1\" class=\"dataframe\">\n",
       "  <thead>\n",
       "    <tr style=\"text-align: right;\">\n",
       "      <th></th>\n",
       "      <th>ID</th>\n",
       "      <th>CODE_GENDER</th>\n",
       "      <th>FLAG_OWN_CAR</th>\n",
       "      <th>FLAG_OWN_REALTY</th>\n",
       "      <th>CNT_CHILDREN</th>\n",
       "      <th>AMT_INCOME_TOTAL</th>\n",
       "      <th>NAME_INCOME_TYPE</th>\n",
       "      <th>NAME_EDUCATION_TYPE</th>\n",
       "      <th>NAME_FAMILY_STATUS</th>\n",
       "      <th>NAME_HOUSING_TYPE</th>\n",
       "      <th>DAYS_BIRTH</th>\n",
       "      <th>DAYS_EMPLOYED</th>\n",
       "      <th>FLAG_MOBIL</th>\n",
       "      <th>FLAG_WORK_PHONE</th>\n",
       "      <th>FLAG_PHONE</th>\n",
       "      <th>FLAG_EMAIL</th>\n",
       "      <th>OCCUPATION_TYPE</th>\n",
       "      <th>CNT_FAM_MEMBERS</th>\n",
       "    </tr>\n",
       "  </thead>\n",
       "  <tbody>\n",
       "    <tr>\n",
       "      <th>0</th>\n",
       "      <td>5008804</td>\n",
       "      <td>M</td>\n",
       "      <td>Y</td>\n",
       "      <td>Y</td>\n",
       "      <td>0</td>\n",
       "      <td>427500.0</td>\n",
       "      <td>Working</td>\n",
       "      <td>Higher education</td>\n",
       "      <td>Civil marriage</td>\n",
       "      <td>Rented apartment</td>\n",
       "      <td>-12005</td>\n",
       "      <td>-4542</td>\n",
       "      <td>1</td>\n",
       "      <td>1</td>\n",
       "      <td>0</td>\n",
       "      <td>0</td>\n",
       "      <td>NaN</td>\n",
       "      <td>2.0</td>\n",
       "    </tr>\n",
       "    <tr>\n",
       "      <th>1</th>\n",
       "      <td>5008805</td>\n",
       "      <td>M</td>\n",
       "      <td>Y</td>\n",
       "      <td>Y</td>\n",
       "      <td>0</td>\n",
       "      <td>427500.0</td>\n",
       "      <td>Working</td>\n",
       "      <td>Higher education</td>\n",
       "      <td>Civil marriage</td>\n",
       "      <td>Rented apartment</td>\n",
       "      <td>-12005</td>\n",
       "      <td>-4542</td>\n",
       "      <td>1</td>\n",
       "      <td>1</td>\n",
       "      <td>0</td>\n",
       "      <td>0</td>\n",
       "      <td>NaN</td>\n",
       "      <td>2.0</td>\n",
       "    </tr>\n",
       "    <tr>\n",
       "      <th>2</th>\n",
       "      <td>5008806</td>\n",
       "      <td>M</td>\n",
       "      <td>Y</td>\n",
       "      <td>Y</td>\n",
       "      <td>0</td>\n",
       "      <td>112500.0</td>\n",
       "      <td>Working</td>\n",
       "      <td>Secondary / secondary special</td>\n",
       "      <td>Married</td>\n",
       "      <td>House / apartment</td>\n",
       "      <td>-21474</td>\n",
       "      <td>-1134</td>\n",
       "      <td>1</td>\n",
       "      <td>0</td>\n",
       "      <td>0</td>\n",
       "      <td>0</td>\n",
       "      <td>Security staff</td>\n",
       "      <td>2.0</td>\n",
       "    </tr>\n",
       "    <tr>\n",
       "      <th>3</th>\n",
       "      <td>5008808</td>\n",
       "      <td>F</td>\n",
       "      <td>N</td>\n",
       "      <td>Y</td>\n",
       "      <td>0</td>\n",
       "      <td>270000.0</td>\n",
       "      <td>Commercial associate</td>\n",
       "      <td>Secondary / secondary special</td>\n",
       "      <td>Single / not married</td>\n",
       "      <td>House / apartment</td>\n",
       "      <td>-19110</td>\n",
       "      <td>-3051</td>\n",
       "      <td>1</td>\n",
       "      <td>0</td>\n",
       "      <td>1</td>\n",
       "      <td>1</td>\n",
       "      <td>Sales staff</td>\n",
       "      <td>1.0</td>\n",
       "    </tr>\n",
       "    <tr>\n",
       "      <th>4</th>\n",
       "      <td>5008809</td>\n",
       "      <td>F</td>\n",
       "      <td>N</td>\n",
       "      <td>Y</td>\n",
       "      <td>0</td>\n",
       "      <td>270000.0</td>\n",
       "      <td>Commercial associate</td>\n",
       "      <td>Secondary / secondary special</td>\n",
       "      <td>Single / not married</td>\n",
       "      <td>House / apartment</td>\n",
       "      <td>-19110</td>\n",
       "      <td>-3051</td>\n",
       "      <td>1</td>\n",
       "      <td>0</td>\n",
       "      <td>1</td>\n",
       "      <td>1</td>\n",
       "      <td>Sales staff</td>\n",
       "      <td>1.0</td>\n",
       "    </tr>\n",
       "    <tr>\n",
       "      <th>...</th>\n",
       "      <td>...</td>\n",
       "      <td>...</td>\n",
       "      <td>...</td>\n",
       "      <td>...</td>\n",
       "      <td>...</td>\n",
       "      <td>...</td>\n",
       "      <td>...</td>\n",
       "      <td>...</td>\n",
       "      <td>...</td>\n",
       "      <td>...</td>\n",
       "      <td>...</td>\n",
       "      <td>...</td>\n",
       "      <td>...</td>\n",
       "      <td>...</td>\n",
       "      <td>...</td>\n",
       "      <td>...</td>\n",
       "      <td>...</td>\n",
       "      <td>...</td>\n",
       "    </tr>\n",
       "    <tr>\n",
       "      <th>438552</th>\n",
       "      <td>6840104</td>\n",
       "      <td>M</td>\n",
       "      <td>N</td>\n",
       "      <td>Y</td>\n",
       "      <td>0</td>\n",
       "      <td>135000.0</td>\n",
       "      <td>Pensioner</td>\n",
       "      <td>Secondary / secondary special</td>\n",
       "      <td>Separated</td>\n",
       "      <td>House / apartment</td>\n",
       "      <td>-22717</td>\n",
       "      <td>365243</td>\n",
       "      <td>1</td>\n",
       "      <td>0</td>\n",
       "      <td>0</td>\n",
       "      <td>0</td>\n",
       "      <td>NaN</td>\n",
       "      <td>1.0</td>\n",
       "    </tr>\n",
       "    <tr>\n",
       "      <th>438553</th>\n",
       "      <td>6840222</td>\n",
       "      <td>F</td>\n",
       "      <td>N</td>\n",
       "      <td>N</td>\n",
       "      <td>0</td>\n",
       "      <td>103500.0</td>\n",
       "      <td>Working</td>\n",
       "      <td>Secondary / secondary special</td>\n",
       "      <td>Single / not married</td>\n",
       "      <td>House / apartment</td>\n",
       "      <td>-15939</td>\n",
       "      <td>-3007</td>\n",
       "      <td>1</td>\n",
       "      <td>0</td>\n",
       "      <td>0</td>\n",
       "      <td>0</td>\n",
       "      <td>Laborers</td>\n",
       "      <td>1.0</td>\n",
       "    </tr>\n",
       "    <tr>\n",
       "      <th>438554</th>\n",
       "      <td>6841878</td>\n",
       "      <td>F</td>\n",
       "      <td>N</td>\n",
       "      <td>N</td>\n",
       "      <td>0</td>\n",
       "      <td>54000.0</td>\n",
       "      <td>Commercial associate</td>\n",
       "      <td>Higher education</td>\n",
       "      <td>Single / not married</td>\n",
       "      <td>With parents</td>\n",
       "      <td>-8169</td>\n",
       "      <td>-372</td>\n",
       "      <td>1</td>\n",
       "      <td>1</td>\n",
       "      <td>0</td>\n",
       "      <td>0</td>\n",
       "      <td>Sales staff</td>\n",
       "      <td>1.0</td>\n",
       "    </tr>\n",
       "    <tr>\n",
       "      <th>438555</th>\n",
       "      <td>6842765</td>\n",
       "      <td>F</td>\n",
       "      <td>N</td>\n",
       "      <td>Y</td>\n",
       "      <td>0</td>\n",
       "      <td>72000.0</td>\n",
       "      <td>Pensioner</td>\n",
       "      <td>Secondary / secondary special</td>\n",
       "      <td>Married</td>\n",
       "      <td>House / apartment</td>\n",
       "      <td>-21673</td>\n",
       "      <td>365243</td>\n",
       "      <td>1</td>\n",
       "      <td>0</td>\n",
       "      <td>0</td>\n",
       "      <td>0</td>\n",
       "      <td>NaN</td>\n",
       "      <td>2.0</td>\n",
       "    </tr>\n",
       "    <tr>\n",
       "      <th>438556</th>\n",
       "      <td>6842885</td>\n",
       "      <td>F</td>\n",
       "      <td>N</td>\n",
       "      <td>Y</td>\n",
       "      <td>0</td>\n",
       "      <td>121500.0</td>\n",
       "      <td>Working</td>\n",
       "      <td>Secondary / secondary special</td>\n",
       "      <td>Married</td>\n",
       "      <td>House / apartment</td>\n",
       "      <td>-18858</td>\n",
       "      <td>-1201</td>\n",
       "      <td>1</td>\n",
       "      <td>0</td>\n",
       "      <td>1</td>\n",
       "      <td>0</td>\n",
       "      <td>Sales staff</td>\n",
       "      <td>2.0</td>\n",
       "    </tr>\n",
       "  </tbody>\n",
       "</table>\n",
       "<p>438557 rows × 18 columns</p>\n",
       "</div>"
      ],
      "text/plain": [
       "             ID CODE_GENDER FLAG_OWN_CAR FLAG_OWN_REALTY  CNT_CHILDREN  \\\n",
       "0       5008804           M            Y               Y             0   \n",
       "1       5008805           M            Y               Y             0   \n",
       "2       5008806           M            Y               Y             0   \n",
       "3       5008808           F            N               Y             0   \n",
       "4       5008809           F            N               Y             0   \n",
       "...         ...         ...          ...             ...           ...   \n",
       "438552  6840104           M            N               Y             0   \n",
       "438553  6840222           F            N               N             0   \n",
       "438554  6841878           F            N               N             0   \n",
       "438555  6842765           F            N               Y             0   \n",
       "438556  6842885           F            N               Y             0   \n",
       "\n",
       "        AMT_INCOME_TOTAL      NAME_INCOME_TYPE            NAME_EDUCATION_TYPE  \\\n",
       "0               427500.0               Working               Higher education   \n",
       "1               427500.0               Working               Higher education   \n",
       "2               112500.0               Working  Secondary / secondary special   \n",
       "3               270000.0  Commercial associate  Secondary / secondary special   \n",
       "4               270000.0  Commercial associate  Secondary / secondary special   \n",
       "...                  ...                   ...                            ...   \n",
       "438552          135000.0             Pensioner  Secondary / secondary special   \n",
       "438553          103500.0               Working  Secondary / secondary special   \n",
       "438554           54000.0  Commercial associate               Higher education   \n",
       "438555           72000.0             Pensioner  Secondary / secondary special   \n",
       "438556          121500.0               Working  Secondary / secondary special   \n",
       "\n",
       "          NAME_FAMILY_STATUS  NAME_HOUSING_TYPE  DAYS_BIRTH  DAYS_EMPLOYED  \\\n",
       "0             Civil marriage   Rented apartment      -12005          -4542   \n",
       "1             Civil marriage   Rented apartment      -12005          -4542   \n",
       "2                    Married  House / apartment      -21474          -1134   \n",
       "3       Single / not married  House / apartment      -19110          -3051   \n",
       "4       Single / not married  House / apartment      -19110          -3051   \n",
       "...                      ...                ...         ...            ...   \n",
       "438552             Separated  House / apartment      -22717         365243   \n",
       "438553  Single / not married  House / apartment      -15939          -3007   \n",
       "438554  Single / not married       With parents       -8169           -372   \n",
       "438555               Married  House / apartment      -21673         365243   \n",
       "438556               Married  House / apartment      -18858          -1201   \n",
       "\n",
       "        FLAG_MOBIL  FLAG_WORK_PHONE  FLAG_PHONE  FLAG_EMAIL OCCUPATION_TYPE  \\\n",
       "0                1                1           0           0             NaN   \n",
       "1                1                1           0           0             NaN   \n",
       "2                1                0           0           0  Security staff   \n",
       "3                1                0           1           1     Sales staff   \n",
       "4                1                0           1           1     Sales staff   \n",
       "...            ...              ...         ...         ...             ...   \n",
       "438552           1                0           0           0             NaN   \n",
       "438553           1                0           0           0        Laborers   \n",
       "438554           1                1           0           0     Sales staff   \n",
       "438555           1                0           0           0             NaN   \n",
       "438556           1                0           1           0     Sales staff   \n",
       "\n",
       "        CNT_FAM_MEMBERS  \n",
       "0                   2.0  \n",
       "1                   2.0  \n",
       "2                   2.0  \n",
       "3                   1.0  \n",
       "4                   1.0  \n",
       "...                 ...  \n",
       "438552              1.0  \n",
       "438553              1.0  \n",
       "438554              1.0  \n",
       "438555              2.0  \n",
       "438556              2.0  \n",
       "\n",
       "[438557 rows x 18 columns]"
      ]
     },
     "execution_count": 3,
     "metadata": {},
     "output_type": "execute_result"
    }
   ],
   "source": [
    "application_record"
   ]
  },
  {
   "cell_type": "markdown",
   "id": "6c869507",
   "metadata": {},
   "source": [
    "#### The application dataset having following columns:\n",
    "\n",
    "1. ID: Unique Id of the row\n",
    "2. CODE_GENDER: Gender of the applicant. M is male and F is female.\n",
    "3. FLAG_OWN_CAR: Is an applicant with a car. Y is Yes and N is NO.\n",
    "4. FLAG_OWN_REALTY: Is an applicant with realty. Y is Yes and N is No.\n",
    "5. CNT_CHILDREN: Count of children.\n",
    "6. AMT_INCOME_TOTAL: the amount of the income.\n",
    "7. NAME_INCOME_TYPE: The type of income (5 types in total).\n",
    "8. NAME_EDUCATION_TYPE: The type of education (5 types in total).\n",
    "9. NAME_FAMILY_STATUS: The type of family status (6 types in total).\n",
    "10. DAYS_BIRTH: The number of the days from birth (Negative values). \n",
    "11. DAYS_EMPLOYED: The number of the days from employed (Negative values). \n",
    "12. FLAG_MOBIL: Is an applicant with a mobile. 1 is True and 0 is False.\n",
    "13. FLAG_WORK_PHONE: Is an applicant with a work phone. 1 is True and 0 is False.\n",
    "14. FLAG_PHONE: Is an applicant with a phone. 1 is True and 0 is False.\n",
    "15. FLAG_EMAIL: Is an applicant with a email. 1 is True and 0 is False.\n",
    "16. OCCUPATION_TYPE: The type of occupation (19 types in total). \n",
    "17. CNT_FAM_MEMBERS: The count of family members."
   ]
  },
  {
   "cell_type": "code",
   "execution_count": 4,
   "id": "bee2dba2",
   "metadata": {
    "execution": {
     "iopub.execute_input": "2023-02-18T06:11:39.294039Z",
     "iopub.status.busy": "2023-02-18T06:11:39.292468Z",
     "iopub.status.idle": "2023-02-18T06:11:39.306478Z",
     "shell.execute_reply": "2023-02-18T06:11:39.305516Z"
    },
    "papermill": {
     "duration": 0.027329,
     "end_time": "2023-02-18T06:11:39.308348",
     "exception": false,
     "start_time": "2023-02-18T06:11:39.281019",
     "status": "completed"
    },
    "tags": []
   },
   "outputs": [
    {
     "data": {
      "text/html": [
       "<div>\n",
       "<style scoped>\n",
       "    .dataframe tbody tr th:only-of-type {\n",
       "        vertical-align: middle;\n",
       "    }\n",
       "\n",
       "    .dataframe tbody tr th {\n",
       "        vertical-align: top;\n",
       "    }\n",
       "\n",
       "    .dataframe thead th {\n",
       "        text-align: right;\n",
       "    }\n",
       "</style>\n",
       "<table border=\"1\" class=\"dataframe\">\n",
       "  <thead>\n",
       "    <tr style=\"text-align: right;\">\n",
       "      <th></th>\n",
       "      <th>ID</th>\n",
       "      <th>MONTHS_BALANCE</th>\n",
       "      <th>STATUS</th>\n",
       "    </tr>\n",
       "  </thead>\n",
       "  <tbody>\n",
       "    <tr>\n",
       "      <th>0</th>\n",
       "      <td>5001711</td>\n",
       "      <td>0</td>\n",
       "      <td>X</td>\n",
       "    </tr>\n",
       "    <tr>\n",
       "      <th>1</th>\n",
       "      <td>5001711</td>\n",
       "      <td>-1</td>\n",
       "      <td>0</td>\n",
       "    </tr>\n",
       "    <tr>\n",
       "      <th>2</th>\n",
       "      <td>5001711</td>\n",
       "      <td>-2</td>\n",
       "      <td>0</td>\n",
       "    </tr>\n",
       "    <tr>\n",
       "      <th>3</th>\n",
       "      <td>5001711</td>\n",
       "      <td>-3</td>\n",
       "      <td>0</td>\n",
       "    </tr>\n",
       "    <tr>\n",
       "      <th>4</th>\n",
       "      <td>5001712</td>\n",
       "      <td>0</td>\n",
       "      <td>C</td>\n",
       "    </tr>\n",
       "    <tr>\n",
       "      <th>...</th>\n",
       "      <td>...</td>\n",
       "      <td>...</td>\n",
       "      <td>...</td>\n",
       "    </tr>\n",
       "    <tr>\n",
       "      <th>1048570</th>\n",
       "      <td>5150487</td>\n",
       "      <td>-25</td>\n",
       "      <td>C</td>\n",
       "    </tr>\n",
       "    <tr>\n",
       "      <th>1048571</th>\n",
       "      <td>5150487</td>\n",
       "      <td>-26</td>\n",
       "      <td>C</td>\n",
       "    </tr>\n",
       "    <tr>\n",
       "      <th>1048572</th>\n",
       "      <td>5150487</td>\n",
       "      <td>-27</td>\n",
       "      <td>C</td>\n",
       "    </tr>\n",
       "    <tr>\n",
       "      <th>1048573</th>\n",
       "      <td>5150487</td>\n",
       "      <td>-28</td>\n",
       "      <td>C</td>\n",
       "    </tr>\n",
       "    <tr>\n",
       "      <th>1048574</th>\n",
       "      <td>5150487</td>\n",
       "      <td>-29</td>\n",
       "      <td>C</td>\n",
       "    </tr>\n",
       "  </tbody>\n",
       "</table>\n",
       "<p>1048575 rows × 3 columns</p>\n",
       "</div>"
      ],
      "text/plain": [
       "              ID  MONTHS_BALANCE STATUS\n",
       "0        5001711               0      X\n",
       "1        5001711              -1      0\n",
       "2        5001711              -2      0\n",
       "3        5001711              -3      0\n",
       "4        5001712               0      C\n",
       "...          ...             ...    ...\n",
       "1048570  5150487             -25      C\n",
       "1048571  5150487             -26      C\n",
       "1048572  5150487             -27      C\n",
       "1048573  5150487             -28      C\n",
       "1048574  5150487             -29      C\n",
       "\n",
       "[1048575 rows x 3 columns]"
      ]
     },
     "execution_count": 4,
     "metadata": {},
     "output_type": "execute_result"
    }
   ],
   "source": [
    "credit_record"
   ]
  },
  {
   "cell_type": "markdown",
   "id": "a2f1e3d2",
   "metadata": {},
   "source": [
    "#### We have the following columns in credit_record:\n",
    "\n",
    "1. ID: Unique Id of the row in application record.\n",
    "2. MONTHS_BALANCE: The number of months from record time.\n",
    "3. STATUS: Credit status for this month.\n",
    "  X: No loan for the month\n",
    "  C: paid off that month \n",
    "  0: 1-29 days past due \n",
    "  1: 30-59 days past due \n",
    "  2: 60-89 days overdue\n",
    "  3: 90-119 days overdue \n",
    "  4: 120-149 days overdue \n",
    "  5: Overdue or bad debts, write-offs for more than 150 days "
   ]
  },
  {
   "cell_type": "markdown",
   "id": "628ed56f",
   "metadata": {
    "papermill": {
     "duration": 0.010389,
     "end_time": "2023-02-18T06:11:39.329439",
     "exception": false,
     "start_time": "2023-02-18T06:11:39.319050",
     "status": "completed"
    },
    "tags": []
   },
   "source": [
    "## Creating The Target Column"
   ]
  },
  {
   "cell_type": "code",
   "execution_count": 5,
   "id": "879e2910",
   "metadata": {
    "execution": {
     "iopub.execute_input": "2023-02-18T06:11:39.351840Z",
     "iopub.status.busy": "2023-02-18T06:11:39.351269Z",
     "iopub.status.idle": "2023-02-18T06:11:39.452180Z",
     "shell.execute_reply": "2023-02-18T06:11:39.451218Z"
    },
    "jupyter": {
     "outputs_hidden": false
    },
    "papermill": {
     "duration": 0.114892,
     "end_time": "2023-02-18T06:11:39.454738",
     "exception": false,
     "start_time": "2023-02-18T06:11:39.339846",
     "status": "completed"
    },
    "tags": []
   },
   "outputs": [],
   "source": [
    "# Replace X,C values with 0 as they are identified as Good clients\n",
    "credit_record.replace(['X','C'], 0,inplace=True)"
   ]
  },
  {
   "cell_type": "code",
   "execution_count": 6,
   "id": "5bbd6096",
   "metadata": {
    "execution": {
     "iopub.execute_input": "2023-02-18T06:11:39.477832Z",
     "iopub.status.busy": "2023-02-18T06:11:39.477524Z",
     "iopub.status.idle": "2023-02-18T06:11:39.850940Z",
     "shell.execute_reply": "2023-02-18T06:11:39.849828Z"
    },
    "jupyter": {
     "outputs_hidden": false
    },
    "papermill": {
     "duration": 0.38768,
     "end_time": "2023-02-18T06:11:39.853366",
     "exception": false,
     "start_time": "2023-02-18T06:11:39.465686",
     "status": "completed"
    },
    "tags": []
   },
   "outputs": [],
   "source": [
    "credit_record.STATUS = pd.to_numeric(credit_record.STATUS)"
   ]
  },
  {
   "cell_type": "code",
   "execution_count": 7,
   "id": "ece556cb",
   "metadata": {},
   "outputs": [],
   "source": [
    "drop_ls = [credit_record.ID[i] for i in range(len(credit_record)) if credit_record.STATUS[i] != 0]"
   ]
  },
  {
   "cell_type": "code",
   "execution_count": 8,
   "id": "6a1f85fa",
   "metadata": {
    "execution": {
     "iopub.execute_input": "2023-02-18T06:11:49.801311Z",
     "iopub.status.busy": "2023-02-18T06:11:49.800953Z",
     "iopub.status.idle": "2023-02-18T06:11:49.806874Z",
     "shell.execute_reply": "2023-02-18T06:11:49.805844Z"
    },
    "jupyter": {
     "outputs_hidden": false
    },
    "papermill": {
     "duration": 0.019851,
     "end_time": "2023-02-18T06:11:49.808946",
     "exception": false,
     "start_time": "2023-02-18T06:11:49.789095",
     "status": "completed"
    },
    "tags": []
   },
   "outputs": [
    {
     "data": {
      "text/plain": [
       "14194"
      ]
     },
     "execution_count": 8,
     "metadata": {},
     "output_type": "execute_result"
    }
   ],
   "source": [
    "len(drop_ls)"
   ]
  },
  {
   "cell_type": "code",
   "execution_count": 9,
   "id": "ba51289c",
   "metadata": {},
   "outputs": [],
   "source": [
    "credit_record.loc[credit_record['ID'].isin(drop_ls), 'STATUS'] = 1"
   ]
  },
  {
   "cell_type": "code",
   "execution_count": 10,
   "id": "0176ae28",
   "metadata": {
    "execution": {
     "iopub.execute_input": "2023-02-18T06:16:22.197615Z",
     "iopub.status.busy": "2023-02-18T06:16:22.197232Z",
     "iopub.status.idle": "2023-02-18T06:16:22.217681Z",
     "shell.execute_reply": "2023-02-18T06:16:22.216775Z"
    },
    "jupyter": {
     "outputs_hidden": false
    },
    "papermill": {
     "duration": 0.034488,
     "end_time": "2023-02-18T06:16:22.219569",
     "exception": false,
     "start_time": "2023-02-18T06:16:22.185081",
     "status": "completed"
    },
    "tags": []
   },
   "outputs": [
    {
     "data": {
      "text/plain": [
       "0    904764\n",
       "1    143811\n",
       "Name: STATUS, dtype: int64"
      ]
     },
     "execution_count": 10,
     "metadata": {},
     "output_type": "execute_result"
    }
   ],
   "source": [
    "credit_record.STATUS.value_counts()"
   ]
  },
  {
   "cell_type": "code",
   "execution_count": 11,
   "id": "3dd73f66",
   "metadata": {
    "execution": {
     "iopub.execute_input": "2023-02-18T06:16:22.242224Z",
     "iopub.status.busy": "2023-02-18T06:16:22.241918Z",
     "iopub.status.idle": "2023-02-18T06:16:22.347122Z",
     "shell.execute_reply": "2023-02-18T06:16:22.346020Z"
    },
    "jupyter": {
     "outputs_hidden": false
    },
    "papermill": {
     "duration": 0.118851,
     "end_time": "2023-02-18T06:16:22.349400",
     "exception": false,
     "start_time": "2023-02-18T06:16:22.230549",
     "status": "completed"
    },
    "tags": []
   },
   "outputs": [
    {
     "data": {
      "text/html": [
       "<div>\n",
       "<style scoped>\n",
       "    .dataframe tbody tr th:only-of-type {\n",
       "        vertical-align: middle;\n",
       "    }\n",
       "\n",
       "    .dataframe tbody tr th {\n",
       "        vertical-align: top;\n",
       "    }\n",
       "\n",
       "    .dataframe thead th {\n",
       "        text-align: right;\n",
       "    }\n",
       "</style>\n",
       "<table border=\"1\" class=\"dataframe\">\n",
       "  <thead>\n",
       "    <tr style=\"text-align: right;\">\n",
       "      <th></th>\n",
       "      <th>ID</th>\n",
       "      <th>MONTHS_BALANCE</th>\n",
       "      <th>STATUS</th>\n",
       "    </tr>\n",
       "  </thead>\n",
       "  <tbody>\n",
       "    <tr>\n",
       "      <th>0</th>\n",
       "      <td>5001711</td>\n",
       "      <td>0</td>\n",
       "      <td>0</td>\n",
       "    </tr>\n",
       "    <tr>\n",
       "      <th>1</th>\n",
       "      <td>5001711</td>\n",
       "      <td>-1</td>\n",
       "      <td>0</td>\n",
       "    </tr>\n",
       "    <tr>\n",
       "      <th>2</th>\n",
       "      <td>5001711</td>\n",
       "      <td>-2</td>\n",
       "      <td>0</td>\n",
       "    </tr>\n",
       "    <tr>\n",
       "      <th>3</th>\n",
       "      <td>5001711</td>\n",
       "      <td>-3</td>\n",
       "      <td>0</td>\n",
       "    </tr>\n",
       "    <tr>\n",
       "      <th>4</th>\n",
       "      <td>5001712</td>\n",
       "      <td>0</td>\n",
       "      <td>0</td>\n",
       "    </tr>\n",
       "    <tr>\n",
       "      <th>...</th>\n",
       "      <td>...</td>\n",
       "      <td>...</td>\n",
       "      <td>...</td>\n",
       "    </tr>\n",
       "    <tr>\n",
       "      <th>1048570</th>\n",
       "      <td>5150487</td>\n",
       "      <td>-25</td>\n",
       "      <td>0</td>\n",
       "    </tr>\n",
       "    <tr>\n",
       "      <th>1048571</th>\n",
       "      <td>5150487</td>\n",
       "      <td>-26</td>\n",
       "      <td>0</td>\n",
       "    </tr>\n",
       "    <tr>\n",
       "      <th>1048572</th>\n",
       "      <td>5150487</td>\n",
       "      <td>-27</td>\n",
       "      <td>0</td>\n",
       "    </tr>\n",
       "    <tr>\n",
       "      <th>1048573</th>\n",
       "      <td>5150487</td>\n",
       "      <td>-28</td>\n",
       "      <td>0</td>\n",
       "    </tr>\n",
       "    <tr>\n",
       "      <th>1048574</th>\n",
       "      <td>5150487</td>\n",
       "      <td>-29</td>\n",
       "      <td>0</td>\n",
       "    </tr>\n",
       "  </tbody>\n",
       "</table>\n",
       "<p>1048575 rows × 3 columns</p>\n",
       "</div>"
      ],
      "text/plain": [
       "              ID  MONTHS_BALANCE  STATUS\n",
       "0        5001711               0       0\n",
       "1        5001711              -1       0\n",
       "2        5001711              -2       0\n",
       "3        5001711              -3       0\n",
       "4        5001712               0       0\n",
       "...          ...             ...     ...\n",
       "1048570  5150487             -25       0\n",
       "1048571  5150487             -26       0\n",
       "1048572  5150487             -27       0\n",
       "1048573  5150487             -28       0\n",
       "1048574  5150487             -29       0\n",
       "\n",
       "[1048575 rows x 3 columns]"
      ]
     },
     "execution_count": 11,
     "metadata": {},
     "output_type": "execute_result"
    }
   ],
   "source": [
    "credit_record.drop_duplicates(inplace=True)\n",
    "credit_record"
   ]
  },
  {
   "cell_type": "markdown",
   "id": "7c9b95a5",
   "metadata": {
    "papermill": {
     "duration": 0.010848,
     "end_time": "2023-02-18T06:16:22.371641",
     "exception": false,
     "start_time": "2023-02-18T06:16:22.360793",
     "status": "completed"
    },
    "tags": []
   },
   "source": [
    "## Merging Datasets"
   ]
  },
  {
   "cell_type": "code",
   "execution_count": 12,
   "id": "20876daa",
   "metadata": {
    "execution": {
     "iopub.execute_input": "2023-02-18T06:16:22.395012Z",
     "iopub.status.busy": "2023-02-18T06:16:22.394265Z",
     "iopub.status.idle": "2023-02-18T06:16:22.400777Z",
     "shell.execute_reply": "2023-02-18T06:16:22.399352Z"
    },
    "papermill": {
     "duration": 0.020745,
     "end_time": "2023-02-18T06:16:22.402999",
     "exception": false,
     "start_time": "2023-02-18T06:16:22.382254",
     "status": "completed"
    },
    "tags": []
   },
   "outputs": [
    {
     "name": "stdout",
     "output_type": "stream",
     "text": [
      "No. of IDs in application_record = 438557 No. of IDs in credit_record = 1048575\n"
     ]
    }
   ],
   "source": [
    "print(f'No. of IDs in application_record = {len(application_record.ID)} No. of IDs in credit_record = {len(credit_record.ID)}')"
   ]
  },
  {
   "cell_type": "code",
   "execution_count": 13,
   "id": "30bd94b6",
   "metadata": {
    "execution": {
     "iopub.execute_input": "2023-02-18T06:16:22.427657Z",
     "iopub.status.busy": "2023-02-18T06:16:22.425887Z",
     "iopub.status.idle": "2023-02-18T06:16:23.008098Z",
     "shell.execute_reply": "2023-02-18T06:16:23.007055Z"
    },
    "papermill": {
     "duration": 0.596756,
     "end_time": "2023-02-18T06:16:23.010790",
     "exception": false,
     "start_time": "2023-02-18T06:16:22.414034",
     "status": "completed"
    },
    "tags": []
   },
   "outputs": [],
   "source": [
    "dataset = application_record.merge(credit_record, on=['ID'], how='inner')\n",
    " # on to choose which column to merger on\n",
    " # how to get merge only the intersection between them"
   ]
  },
  {
   "cell_type": "code",
   "execution_count": 14,
   "id": "669cb867",
   "metadata": {},
   "outputs": [
    {
     "data": {
      "text/plain": [
       "<bound method IndexOpsMixin.value_counts of 0         5008804\n",
       "1         5008804\n",
       "2         5008804\n",
       "3         5008804\n",
       "4         5008804\n",
       "           ...   \n",
       "777710    5150337\n",
       "777711    5150337\n",
       "777712    5150337\n",
       "777713    5150337\n",
       "777714    5150337\n",
       "Name: ID, Length: 777715, dtype: int64>"
      ]
     },
     "execution_count": 14,
     "metadata": {},
     "output_type": "execute_result"
    }
   ],
   "source": [
    "dataset['ID'].value_counts"
   ]
  },
  {
   "cell_type": "code",
   "execution_count": 15,
   "id": "9e900b2c",
   "metadata": {
    "execution": {
     "iopub.execute_input": "2023-02-18T06:16:23.036670Z",
     "iopub.status.busy": "2023-02-18T06:16:23.034829Z",
     "iopub.status.idle": "2023-02-18T06:16:23.377106Z",
     "shell.execute_reply": "2023-02-18T06:16:23.375972Z"
    },
    "papermill": {
     "duration": 0.357212,
     "end_time": "2023-02-18T06:16:23.379676",
     "exception": false,
     "start_time": "2023-02-18T06:16:23.022464",
     "status": "completed"
    },
    "tags": []
   },
   "outputs": [],
   "source": [
    "## Drop ID column \n",
    "dataset.drop(['ID'],inplace=True,axis=1)"
   ]
  },
  {
   "cell_type": "code",
   "execution_count": 16,
   "id": "ab9b56ea",
   "metadata": {
    "execution": {
     "iopub.execute_input": "2023-02-18T06:16:23.404137Z",
     "iopub.status.busy": "2023-02-18T06:16:23.403558Z",
     "iopub.status.idle": "2023-02-18T06:16:24.255074Z",
     "shell.execute_reply": "2023-02-18T06:16:24.250613Z"
    },
    "jupyter": {
     "outputs_hidden": false
    },
    "papermill": {
     "duration": 0.866383,
     "end_time": "2023-02-18T06:16:24.257756",
     "exception": false,
     "start_time": "2023-02-18T06:16:23.391373",
     "status": "completed"
    },
    "tags": []
   },
   "outputs": [
    {
     "data": {
      "text/plain": [
       "412393"
      ]
     },
     "execution_count": 16,
     "metadata": {},
     "output_type": "execute_result"
    }
   ],
   "source": [
    "dataset.duplicated().sum()"
   ]
  },
  {
   "cell_type": "code",
   "execution_count": 17,
   "id": "fe9e2b2f",
   "metadata": {
    "execution": {
     "iopub.execute_input": "2023-02-18T06:16:24.293377Z",
     "iopub.status.busy": "2023-02-18T06:16:24.292905Z",
     "iopub.status.idle": "2023-02-18T06:16:25.078461Z",
     "shell.execute_reply": "2023-02-18T06:16:25.077395Z"
    },
    "jupyter": {
     "outputs_hidden": false
    },
    "papermill": {
     "duration": 0.805897,
     "end_time": "2023-02-18T06:16:25.080923",
     "exception": false,
     "start_time": "2023-02-18T06:16:24.275026",
     "status": "completed"
    },
    "tags": []
   },
   "outputs": [],
   "source": [
    "dataset.drop_duplicates(inplace=True)"
   ]
  },
  {
   "cell_type": "code",
   "execution_count": 18,
   "id": "66173945",
   "metadata": {},
   "outputs": [],
   "source": [
    "dataset.reset_index(drop=True, inplace=True)"
   ]
  },
  {
   "cell_type": "code",
   "execution_count": 19,
   "id": "e40acaae",
   "metadata": {},
   "outputs": [
    {
     "data": {
      "text/html": [
       "<div>\n",
       "<style scoped>\n",
       "    .dataframe tbody tr th:only-of-type {\n",
       "        vertical-align: middle;\n",
       "    }\n",
       "\n",
       "    .dataframe tbody tr th {\n",
       "        vertical-align: top;\n",
       "    }\n",
       "\n",
       "    .dataframe thead th {\n",
       "        text-align: right;\n",
       "    }\n",
       "</style>\n",
       "<table border=\"1\" class=\"dataframe\">\n",
       "  <thead>\n",
       "    <tr style=\"text-align: right;\">\n",
       "      <th></th>\n",
       "      <th>CODE_GENDER</th>\n",
       "      <th>FLAG_OWN_CAR</th>\n",
       "      <th>FLAG_OWN_REALTY</th>\n",
       "      <th>CNT_CHILDREN</th>\n",
       "      <th>AMT_INCOME_TOTAL</th>\n",
       "      <th>NAME_INCOME_TYPE</th>\n",
       "      <th>NAME_EDUCATION_TYPE</th>\n",
       "      <th>NAME_FAMILY_STATUS</th>\n",
       "      <th>NAME_HOUSING_TYPE</th>\n",
       "      <th>DAYS_BIRTH</th>\n",
       "      <th>DAYS_EMPLOYED</th>\n",
       "      <th>FLAG_MOBIL</th>\n",
       "      <th>FLAG_WORK_PHONE</th>\n",
       "      <th>FLAG_PHONE</th>\n",
       "      <th>FLAG_EMAIL</th>\n",
       "      <th>OCCUPATION_TYPE</th>\n",
       "      <th>CNT_FAM_MEMBERS</th>\n",
       "      <th>MONTHS_BALANCE</th>\n",
       "      <th>STATUS</th>\n",
       "    </tr>\n",
       "  </thead>\n",
       "  <tbody>\n",
       "    <tr>\n",
       "      <th>0</th>\n",
       "      <td>M</td>\n",
       "      <td>Y</td>\n",
       "      <td>Y</td>\n",
       "      <td>0</td>\n",
       "      <td>427500.0</td>\n",
       "      <td>Working</td>\n",
       "      <td>Higher education</td>\n",
       "      <td>Civil marriage</td>\n",
       "      <td>Rented apartment</td>\n",
       "      <td>-12005</td>\n",
       "      <td>-4542</td>\n",
       "      <td>1</td>\n",
       "      <td>1</td>\n",
       "      <td>0</td>\n",
       "      <td>0</td>\n",
       "      <td>NaN</td>\n",
       "      <td>2.0</td>\n",
       "      <td>0</td>\n",
       "      <td>1</td>\n",
       "    </tr>\n",
       "    <tr>\n",
       "      <th>1</th>\n",
       "      <td>M</td>\n",
       "      <td>Y</td>\n",
       "      <td>Y</td>\n",
       "      <td>0</td>\n",
       "      <td>427500.0</td>\n",
       "      <td>Working</td>\n",
       "      <td>Higher education</td>\n",
       "      <td>Civil marriage</td>\n",
       "      <td>Rented apartment</td>\n",
       "      <td>-12005</td>\n",
       "      <td>-4542</td>\n",
       "      <td>1</td>\n",
       "      <td>1</td>\n",
       "      <td>0</td>\n",
       "      <td>0</td>\n",
       "      <td>NaN</td>\n",
       "      <td>2.0</td>\n",
       "      <td>-1</td>\n",
       "      <td>1</td>\n",
       "    </tr>\n",
       "    <tr>\n",
       "      <th>2</th>\n",
       "      <td>M</td>\n",
       "      <td>Y</td>\n",
       "      <td>Y</td>\n",
       "      <td>0</td>\n",
       "      <td>427500.0</td>\n",
       "      <td>Working</td>\n",
       "      <td>Higher education</td>\n",
       "      <td>Civil marriage</td>\n",
       "      <td>Rented apartment</td>\n",
       "      <td>-12005</td>\n",
       "      <td>-4542</td>\n",
       "      <td>1</td>\n",
       "      <td>1</td>\n",
       "      <td>0</td>\n",
       "      <td>0</td>\n",
       "      <td>NaN</td>\n",
       "      <td>2.0</td>\n",
       "      <td>-2</td>\n",
       "      <td>1</td>\n",
       "    </tr>\n",
       "    <tr>\n",
       "      <th>3</th>\n",
       "      <td>M</td>\n",
       "      <td>Y</td>\n",
       "      <td>Y</td>\n",
       "      <td>0</td>\n",
       "      <td>427500.0</td>\n",
       "      <td>Working</td>\n",
       "      <td>Higher education</td>\n",
       "      <td>Civil marriage</td>\n",
       "      <td>Rented apartment</td>\n",
       "      <td>-12005</td>\n",
       "      <td>-4542</td>\n",
       "      <td>1</td>\n",
       "      <td>1</td>\n",
       "      <td>0</td>\n",
       "      <td>0</td>\n",
       "      <td>NaN</td>\n",
       "      <td>2.0</td>\n",
       "      <td>-3</td>\n",
       "      <td>1</td>\n",
       "    </tr>\n",
       "    <tr>\n",
       "      <th>4</th>\n",
       "      <td>M</td>\n",
       "      <td>Y</td>\n",
       "      <td>Y</td>\n",
       "      <td>0</td>\n",
       "      <td>427500.0</td>\n",
       "      <td>Working</td>\n",
       "      <td>Higher education</td>\n",
       "      <td>Civil marriage</td>\n",
       "      <td>Rented apartment</td>\n",
       "      <td>-12005</td>\n",
       "      <td>-4542</td>\n",
       "      <td>1</td>\n",
       "      <td>1</td>\n",
       "      <td>0</td>\n",
       "      <td>0</td>\n",
       "      <td>NaN</td>\n",
       "      <td>2.0</td>\n",
       "      <td>-4</td>\n",
       "      <td>1</td>\n",
       "    </tr>\n",
       "    <tr>\n",
       "      <th>...</th>\n",
       "      <td>...</td>\n",
       "      <td>...</td>\n",
       "      <td>...</td>\n",
       "      <td>...</td>\n",
       "      <td>...</td>\n",
       "      <td>...</td>\n",
       "      <td>...</td>\n",
       "      <td>...</td>\n",
       "      <td>...</td>\n",
       "      <td>...</td>\n",
       "      <td>...</td>\n",
       "      <td>...</td>\n",
       "      <td>...</td>\n",
       "      <td>...</td>\n",
       "      <td>...</td>\n",
       "      <td>...</td>\n",
       "      <td>...</td>\n",
       "      <td>...</td>\n",
       "      <td>...</td>\n",
       "    </tr>\n",
       "    <tr>\n",
       "      <th>365317</th>\n",
       "      <td>M</td>\n",
       "      <td>N</td>\n",
       "      <td>Y</td>\n",
       "      <td>0</td>\n",
       "      <td>112500.0</td>\n",
       "      <td>Working</td>\n",
       "      <td>Secondary / secondary special</td>\n",
       "      <td>Single / not married</td>\n",
       "      <td>Rented apartment</td>\n",
       "      <td>-9188</td>\n",
       "      <td>-1193</td>\n",
       "      <td>1</td>\n",
       "      <td>0</td>\n",
       "      <td>0</td>\n",
       "      <td>0</td>\n",
       "      <td>Laborers</td>\n",
       "      <td>1.0</td>\n",
       "      <td>-9</td>\n",
       "      <td>1</td>\n",
       "    </tr>\n",
       "    <tr>\n",
       "      <th>365318</th>\n",
       "      <td>M</td>\n",
       "      <td>N</td>\n",
       "      <td>Y</td>\n",
       "      <td>0</td>\n",
       "      <td>112500.0</td>\n",
       "      <td>Working</td>\n",
       "      <td>Secondary / secondary special</td>\n",
       "      <td>Single / not married</td>\n",
       "      <td>Rented apartment</td>\n",
       "      <td>-9188</td>\n",
       "      <td>-1193</td>\n",
       "      <td>1</td>\n",
       "      <td>0</td>\n",
       "      <td>0</td>\n",
       "      <td>0</td>\n",
       "      <td>Laborers</td>\n",
       "      <td>1.0</td>\n",
       "      <td>-10</td>\n",
       "      <td>1</td>\n",
       "    </tr>\n",
       "    <tr>\n",
       "      <th>365319</th>\n",
       "      <td>M</td>\n",
       "      <td>N</td>\n",
       "      <td>Y</td>\n",
       "      <td>0</td>\n",
       "      <td>112500.0</td>\n",
       "      <td>Working</td>\n",
       "      <td>Secondary / secondary special</td>\n",
       "      <td>Single / not married</td>\n",
       "      <td>Rented apartment</td>\n",
       "      <td>-9188</td>\n",
       "      <td>-1193</td>\n",
       "      <td>1</td>\n",
       "      <td>0</td>\n",
       "      <td>0</td>\n",
       "      <td>0</td>\n",
       "      <td>Laborers</td>\n",
       "      <td>1.0</td>\n",
       "      <td>-11</td>\n",
       "      <td>1</td>\n",
       "    </tr>\n",
       "    <tr>\n",
       "      <th>365320</th>\n",
       "      <td>M</td>\n",
       "      <td>N</td>\n",
       "      <td>Y</td>\n",
       "      <td>0</td>\n",
       "      <td>112500.0</td>\n",
       "      <td>Working</td>\n",
       "      <td>Secondary / secondary special</td>\n",
       "      <td>Single / not married</td>\n",
       "      <td>Rented apartment</td>\n",
       "      <td>-9188</td>\n",
       "      <td>-1193</td>\n",
       "      <td>1</td>\n",
       "      <td>0</td>\n",
       "      <td>0</td>\n",
       "      <td>0</td>\n",
       "      <td>Laborers</td>\n",
       "      <td>1.0</td>\n",
       "      <td>-12</td>\n",
       "      <td>1</td>\n",
       "    </tr>\n",
       "    <tr>\n",
       "      <th>365321</th>\n",
       "      <td>M</td>\n",
       "      <td>N</td>\n",
       "      <td>Y</td>\n",
       "      <td>0</td>\n",
       "      <td>112500.0</td>\n",
       "      <td>Working</td>\n",
       "      <td>Secondary / secondary special</td>\n",
       "      <td>Single / not married</td>\n",
       "      <td>Rented apartment</td>\n",
       "      <td>-9188</td>\n",
       "      <td>-1193</td>\n",
       "      <td>1</td>\n",
       "      <td>0</td>\n",
       "      <td>0</td>\n",
       "      <td>0</td>\n",
       "      <td>Laborers</td>\n",
       "      <td>1.0</td>\n",
       "      <td>-13</td>\n",
       "      <td>1</td>\n",
       "    </tr>\n",
       "  </tbody>\n",
       "</table>\n",
       "<p>365322 rows × 19 columns</p>\n",
       "</div>"
      ],
      "text/plain": [
       "       CODE_GENDER FLAG_OWN_CAR FLAG_OWN_REALTY  CNT_CHILDREN  \\\n",
       "0                M            Y               Y             0   \n",
       "1                M            Y               Y             0   \n",
       "2                M            Y               Y             0   \n",
       "3                M            Y               Y             0   \n",
       "4                M            Y               Y             0   \n",
       "...            ...          ...             ...           ...   \n",
       "365317           M            N               Y             0   \n",
       "365318           M            N               Y             0   \n",
       "365319           M            N               Y             0   \n",
       "365320           M            N               Y             0   \n",
       "365321           M            N               Y             0   \n",
       "\n",
       "        AMT_INCOME_TOTAL NAME_INCOME_TYPE            NAME_EDUCATION_TYPE  \\\n",
       "0               427500.0          Working               Higher education   \n",
       "1               427500.0          Working               Higher education   \n",
       "2               427500.0          Working               Higher education   \n",
       "3               427500.0          Working               Higher education   \n",
       "4               427500.0          Working               Higher education   \n",
       "...                  ...              ...                            ...   \n",
       "365317          112500.0          Working  Secondary / secondary special   \n",
       "365318          112500.0          Working  Secondary / secondary special   \n",
       "365319          112500.0          Working  Secondary / secondary special   \n",
       "365320          112500.0          Working  Secondary / secondary special   \n",
       "365321          112500.0          Working  Secondary / secondary special   \n",
       "\n",
       "          NAME_FAMILY_STATUS NAME_HOUSING_TYPE  DAYS_BIRTH  DAYS_EMPLOYED  \\\n",
       "0             Civil marriage  Rented apartment      -12005          -4542   \n",
       "1             Civil marriage  Rented apartment      -12005          -4542   \n",
       "2             Civil marriage  Rented apartment      -12005          -4542   \n",
       "3             Civil marriage  Rented apartment      -12005          -4542   \n",
       "4             Civil marriage  Rented apartment      -12005          -4542   \n",
       "...                      ...               ...         ...            ...   \n",
       "365317  Single / not married  Rented apartment       -9188          -1193   \n",
       "365318  Single / not married  Rented apartment       -9188          -1193   \n",
       "365319  Single / not married  Rented apartment       -9188          -1193   \n",
       "365320  Single / not married  Rented apartment       -9188          -1193   \n",
       "365321  Single / not married  Rented apartment       -9188          -1193   \n",
       "\n",
       "        FLAG_MOBIL  FLAG_WORK_PHONE  FLAG_PHONE  FLAG_EMAIL OCCUPATION_TYPE  \\\n",
       "0                1                1           0           0             NaN   \n",
       "1                1                1           0           0             NaN   \n",
       "2                1                1           0           0             NaN   \n",
       "3                1                1           0           0             NaN   \n",
       "4                1                1           0           0             NaN   \n",
       "...            ...              ...         ...         ...             ...   \n",
       "365317           1                0           0           0        Laborers   \n",
       "365318           1                0           0           0        Laborers   \n",
       "365319           1                0           0           0        Laborers   \n",
       "365320           1                0           0           0        Laborers   \n",
       "365321           1                0           0           0        Laborers   \n",
       "\n",
       "        CNT_FAM_MEMBERS  MONTHS_BALANCE  STATUS  \n",
       "0                   2.0               0       1  \n",
       "1                   2.0              -1       1  \n",
       "2                   2.0              -2       1  \n",
       "3                   2.0              -3       1  \n",
       "4                   2.0              -4       1  \n",
       "...                 ...             ...     ...  \n",
       "365317              1.0              -9       1  \n",
       "365318              1.0             -10       1  \n",
       "365319              1.0             -11       1  \n",
       "365320              1.0             -12       1  \n",
       "365321              1.0             -13       1  \n",
       "\n",
       "[365322 rows x 19 columns]"
      ]
     },
     "execution_count": 19,
     "metadata": {},
     "output_type": "execute_result"
    }
   ],
   "source": [
    "dataset"
   ]
  },
  {
   "cell_type": "markdown",
   "id": "85caf412",
   "metadata": {
    "papermill": {
     "duration": 0.012815,
     "end_time": "2023-02-18T06:16:25.162332",
     "exception": false,
     "start_time": "2023-02-18T06:16:25.149517",
     "status": "completed"
    },
    "tags": []
   },
   "source": [
    "## Getting Data's Information and Description"
   ]
  },
  {
   "cell_type": "code",
   "execution_count": 20,
   "id": "fb9d892a",
   "metadata": {
    "execution": {
     "iopub.execute_input": "2023-02-18T06:16:25.188068Z",
     "iopub.status.busy": "2023-02-18T06:16:25.187804Z",
     "iopub.status.idle": "2023-02-18T06:16:25.308674Z",
     "shell.execute_reply": "2023-02-18T06:16:25.307436Z"
    },
    "papermill": {
     "duration": 0.137773,
     "end_time": "2023-02-18T06:16:25.312424",
     "exception": false,
     "start_time": "2023-02-18T06:16:25.174651",
     "status": "completed"
    },
    "tags": []
   },
   "outputs": [
    {
     "name": "stdout",
     "output_type": "stream",
     "text": [
      "<class 'pandas.core.frame.DataFrame'>\n",
      "RangeIndex: 365322 entries, 0 to 365321\n",
      "Data columns (total 19 columns):\n",
      " #   Column               Non-Null Count   Dtype  \n",
      "---  ------               --------------   -----  \n",
      " 0   CODE_GENDER          365322 non-null  object \n",
      " 1   FLAG_OWN_CAR         365322 non-null  object \n",
      " 2   FLAG_OWN_REALTY      365322 non-null  object \n",
      " 3   CNT_CHILDREN         365322 non-null  int64  \n",
      " 4   AMT_INCOME_TOTAL     365322 non-null  float64\n",
      " 5   NAME_INCOME_TYPE     365322 non-null  object \n",
      " 6   NAME_EDUCATION_TYPE  365322 non-null  object \n",
      " 7   NAME_FAMILY_STATUS   365322 non-null  object \n",
      " 8   NAME_HOUSING_TYPE    365322 non-null  object \n",
      " 9   DAYS_BIRTH           365322 non-null  int64  \n",
      " 10  DAYS_EMPLOYED        365322 non-null  int64  \n",
      " 11  FLAG_MOBIL           365322 non-null  int64  \n",
      " 12  FLAG_WORK_PHONE      365322 non-null  int64  \n",
      " 13  FLAG_PHONE           365322 non-null  int64  \n",
      " 14  FLAG_EMAIL           365322 non-null  int64  \n",
      " 15  OCCUPATION_TYPE      252192 non-null  object \n",
      " 16  CNT_FAM_MEMBERS      365322 non-null  float64\n",
      " 17  MONTHS_BALANCE       365322 non-null  int64  \n",
      " 18  STATUS               365322 non-null  int64  \n",
      "dtypes: float64(2), int64(9), object(8)\n",
      "memory usage: 53.0+ MB\n"
     ]
    }
   ],
   "source": [
    "dataset.info()"
   ]
  },
  {
   "cell_type": "code",
   "execution_count": 21,
   "id": "acee1eae",
   "metadata": {
    "execution": {
     "iopub.execute_input": "2023-02-18T06:16:25.338526Z",
     "iopub.status.busy": "2023-02-18T06:16:25.338204Z",
     "iopub.status.idle": "2023-02-18T06:16:25.452211Z",
     "shell.execute_reply": "2023-02-18T06:16:25.450868Z"
    },
    "papermill": {
     "duration": 0.130422,
     "end_time": "2023-02-18T06:16:25.455493",
     "exception": false,
     "start_time": "2023-02-18T06:16:25.325071",
     "status": "completed"
    },
    "tags": []
   },
   "outputs": [
    {
     "data": {
      "text/html": [
       "<div>\n",
       "<style scoped>\n",
       "    .dataframe tbody tr th:only-of-type {\n",
       "        vertical-align: middle;\n",
       "    }\n",
       "\n",
       "    .dataframe tbody tr th {\n",
       "        vertical-align: top;\n",
       "    }\n",
       "\n",
       "    .dataframe thead th {\n",
       "        text-align: right;\n",
       "    }\n",
       "</style>\n",
       "<table border=\"1\" class=\"dataframe\">\n",
       "  <thead>\n",
       "    <tr style=\"text-align: right;\">\n",
       "      <th></th>\n",
       "      <th>CNT_CHILDREN</th>\n",
       "      <th>AMT_INCOME_TOTAL</th>\n",
       "      <th>DAYS_BIRTH</th>\n",
       "      <th>DAYS_EMPLOYED</th>\n",
       "      <th>FLAG_MOBIL</th>\n",
       "      <th>FLAG_WORK_PHONE</th>\n",
       "      <th>FLAG_PHONE</th>\n",
       "      <th>FLAG_EMAIL</th>\n",
       "      <th>CNT_FAM_MEMBERS</th>\n",
       "      <th>MONTHS_BALANCE</th>\n",
       "      <th>STATUS</th>\n",
       "    </tr>\n",
       "  </thead>\n",
       "  <tbody>\n",
       "    <tr>\n",
       "      <th>count</th>\n",
       "      <td>365322.000000</td>\n",
       "      <td>3.653220e+05</td>\n",
       "      <td>365322.000000</td>\n",
       "      <td>365322.000000</td>\n",
       "      <td>365322.0</td>\n",
       "      <td>365322.000000</td>\n",
       "      <td>365322.000000</td>\n",
       "      <td>365322.000000</td>\n",
       "      <td>365322.00000</td>\n",
       "      <td>365322.000000</td>\n",
       "      <td>365322.000000</td>\n",
       "    </tr>\n",
       "    <tr>\n",
       "      <th>mean</th>\n",
       "      <td>0.425742</td>\n",
       "      <td>1.848982e+05</td>\n",
       "      <td>-16161.482656</td>\n",
       "      <td>60776.306365</td>\n",
       "      <td>1.0</td>\n",
       "      <td>0.221878</td>\n",
       "      <td>0.294214</td>\n",
       "      <td>0.089595</td>\n",
       "      <td>2.19825</td>\n",
       "      <td>-21.695310</td>\n",
       "      <td>0.203226</td>\n",
       "    </tr>\n",
       "    <tr>\n",
       "      <th>std</th>\n",
       "      <td>0.768540</td>\n",
       "      <td>1.017316e+05</td>\n",
       "      <td>4144.182785</td>\n",
       "      <td>139028.719425</td>\n",
       "      <td>0.0</td>\n",
       "      <td>0.415510</td>\n",
       "      <td>0.455689</td>\n",
       "      <td>0.285601</td>\n",
       "      <td>0.92849</td>\n",
       "      <td>15.016078</td>\n",
       "      <td>0.402400</td>\n",
       "    </tr>\n",
       "    <tr>\n",
       "      <th>min</th>\n",
       "      <td>0.000000</td>\n",
       "      <td>2.700000e+04</td>\n",
       "      <td>-25152.000000</td>\n",
       "      <td>-15713.000000</td>\n",
       "      <td>1.0</td>\n",
       "      <td>0.000000</td>\n",
       "      <td>0.000000</td>\n",
       "      <td>0.000000</td>\n",
       "      <td>1.00000</td>\n",
       "      <td>-60.000000</td>\n",
       "      <td>0.000000</td>\n",
       "    </tr>\n",
       "    <tr>\n",
       "      <th>25%</th>\n",
       "      <td>0.000000</td>\n",
       "      <td>1.170000e+05</td>\n",
       "      <td>-19614.000000</td>\n",
       "      <td>-3208.000000</td>\n",
       "      <td>1.0</td>\n",
       "      <td>0.000000</td>\n",
       "      <td>0.000000</td>\n",
       "      <td>0.000000</td>\n",
       "      <td>2.00000</td>\n",
       "      <td>-33.000000</td>\n",
       "      <td>0.000000</td>\n",
       "    </tr>\n",
       "    <tr>\n",
       "      <th>50%</th>\n",
       "      <td>0.000000</td>\n",
       "      <td>1.575000e+05</td>\n",
       "      <td>-15849.000000</td>\n",
       "      <td>-1566.000000</td>\n",
       "      <td>1.0</td>\n",
       "      <td>0.000000</td>\n",
       "      <td>0.000000</td>\n",
       "      <td>0.000000</td>\n",
       "      <td>2.00000</td>\n",
       "      <td>-20.000000</td>\n",
       "      <td>0.000000</td>\n",
       "    </tr>\n",
       "    <tr>\n",
       "      <th>75%</th>\n",
       "      <td>1.000000</td>\n",
       "      <td>2.250000e+05</td>\n",
       "      <td>-12676.000000</td>\n",
       "      <td>-378.000000</td>\n",
       "      <td>1.0</td>\n",
       "      <td>0.000000</td>\n",
       "      <td>1.000000</td>\n",
       "      <td>0.000000</td>\n",
       "      <td>3.00000</td>\n",
       "      <td>-9.000000</td>\n",
       "      <td>0.000000</td>\n",
       "    </tr>\n",
       "    <tr>\n",
       "      <th>max</th>\n",
       "      <td>19.000000</td>\n",
       "      <td>1.575000e+06</td>\n",
       "      <td>-7489.000000</td>\n",
       "      <td>365243.000000</td>\n",
       "      <td>1.0</td>\n",
       "      <td>1.000000</td>\n",
       "      <td>1.000000</td>\n",
       "      <td>1.000000</td>\n",
       "      <td>20.00000</td>\n",
       "      <td>0.000000</td>\n",
       "      <td>1.000000</td>\n",
       "    </tr>\n",
       "  </tbody>\n",
       "</table>\n",
       "</div>"
      ],
      "text/plain": [
       "        CNT_CHILDREN  AMT_INCOME_TOTAL     DAYS_BIRTH  DAYS_EMPLOYED  \\\n",
       "count  365322.000000      3.653220e+05  365322.000000  365322.000000   \n",
       "mean        0.425742      1.848982e+05  -16161.482656   60776.306365   \n",
       "std         0.768540      1.017316e+05    4144.182785  139028.719425   \n",
       "min         0.000000      2.700000e+04  -25152.000000  -15713.000000   \n",
       "25%         0.000000      1.170000e+05  -19614.000000   -3208.000000   \n",
       "50%         0.000000      1.575000e+05  -15849.000000   -1566.000000   \n",
       "75%         1.000000      2.250000e+05  -12676.000000    -378.000000   \n",
       "max        19.000000      1.575000e+06   -7489.000000  365243.000000   \n",
       "\n",
       "       FLAG_MOBIL  FLAG_WORK_PHONE     FLAG_PHONE     FLAG_EMAIL  \\\n",
       "count    365322.0    365322.000000  365322.000000  365322.000000   \n",
       "mean          1.0         0.221878       0.294214       0.089595   \n",
       "std           0.0         0.415510       0.455689       0.285601   \n",
       "min           1.0         0.000000       0.000000       0.000000   \n",
       "25%           1.0         0.000000       0.000000       0.000000   \n",
       "50%           1.0         0.000000       0.000000       0.000000   \n",
       "75%           1.0         0.000000       1.000000       0.000000   \n",
       "max           1.0         1.000000       1.000000       1.000000   \n",
       "\n",
       "       CNT_FAM_MEMBERS  MONTHS_BALANCE         STATUS  \n",
       "count     365322.00000   365322.000000  365322.000000  \n",
       "mean           2.19825      -21.695310       0.203226  \n",
       "std            0.92849       15.016078       0.402400  \n",
       "min            1.00000      -60.000000       0.000000  \n",
       "25%            2.00000      -33.000000       0.000000  \n",
       "50%            2.00000      -20.000000       0.000000  \n",
       "75%            3.00000       -9.000000       0.000000  \n",
       "max           20.00000        0.000000       1.000000  "
      ]
     },
     "execution_count": 21,
     "metadata": {},
     "output_type": "execute_result"
    }
   ],
   "source": [
    "dataset.describe()"
   ]
  },
  {
   "cell_type": "code",
   "execution_count": 22,
   "id": "7ae2e3c7",
   "metadata": {
    "execution": {
     "iopub.execute_input": "2023-02-18T06:16:25.483510Z",
     "iopub.status.busy": "2023-02-18T06:16:25.483167Z",
     "iopub.status.idle": "2023-02-18T06:16:25.595509Z",
     "shell.execute_reply": "2023-02-18T06:16:25.594460Z"
    },
    "papermill": {
     "duration": 0.128751,
     "end_time": "2023-02-18T06:16:25.597906",
     "exception": false,
     "start_time": "2023-02-18T06:16:25.469155",
     "status": "completed"
    },
    "tags": []
   },
   "outputs": [
    {
     "data": {
      "text/plain": [
       "CODE_GENDER                 0\n",
       "FLAG_OWN_CAR                0\n",
       "FLAG_OWN_REALTY             0\n",
       "CNT_CHILDREN                0\n",
       "AMT_INCOME_TOTAL            0\n",
       "NAME_INCOME_TYPE            0\n",
       "NAME_EDUCATION_TYPE         0\n",
       "NAME_FAMILY_STATUS          0\n",
       "NAME_HOUSING_TYPE           0\n",
       "DAYS_BIRTH                  0\n",
       "DAYS_EMPLOYED               0\n",
       "FLAG_MOBIL                  0\n",
       "FLAG_WORK_PHONE             0\n",
       "FLAG_PHONE                  0\n",
       "FLAG_EMAIL                  0\n",
       "OCCUPATION_TYPE        113130\n",
       "CNT_FAM_MEMBERS             0\n",
       "MONTHS_BALANCE              0\n",
       "STATUS                      0\n",
       "dtype: int64"
      ]
     },
     "execution_count": 22,
     "metadata": {},
     "output_type": "execute_result"
    }
   ],
   "source": [
    "dataset.isna().sum()"
   ]
  },
  {
   "cell_type": "code",
   "execution_count": 23,
   "id": "b918c9f9",
   "metadata": {
    "execution": {
     "iopub.execute_input": "2023-02-18T06:16:25.623346Z",
     "iopub.status.busy": "2023-02-18T06:16:25.623055Z",
     "iopub.status.idle": "2023-02-18T06:16:25.735259Z",
     "shell.execute_reply": "2023-02-18T06:16:25.734259Z"
    },
    "papermill": {
     "duration": 0.127669,
     "end_time": "2023-02-18T06:16:25.737572",
     "exception": false,
     "start_time": "2023-02-18T06:16:25.609903",
     "status": "completed"
    },
    "tags": []
   },
   "outputs": [
    {
     "data": {
      "text/plain": [
       "113130"
      ]
     },
     "execution_count": 23,
     "metadata": {},
     "output_type": "execute_result"
    }
   ],
   "source": [
    "dataset.isna().sum().sum()"
   ]
  },
  {
   "cell_type": "markdown",
   "id": "3fd3e91d",
   "metadata": {
    "papermill": {
     "duration": 0.012632,
     "end_time": "2023-02-18T06:16:25.762287",
     "exception": false,
     "start_time": "2023-02-18T06:16:25.749655",
     "status": "completed"
    },
    "tags": []
   },
   "source": [
    "### Displaying Column \"OCCUPATION_TYPE\" with NULL Values"
   ]
  },
  {
   "cell_type": "code",
   "execution_count": 24,
   "id": "8973b495",
   "metadata": {
    "execution": {
     "iopub.execute_input": "2023-02-18T06:16:25.789534Z",
     "iopub.status.busy": "2023-02-18T06:16:25.788554Z",
     "iopub.status.idle": "2023-02-18T06:16:25.797178Z",
     "shell.execute_reply": "2023-02-18T06:16:25.796026Z"
    },
    "papermill": {
     "duration": 0.023965,
     "end_time": "2023-02-18T06:16:25.799192",
     "exception": false,
     "start_time": "2023-02-18T06:16:25.775227",
     "status": "completed"
    },
    "tags": []
   },
   "outputs": [
    {
     "data": {
      "text/plain": [
       "0              NaN\n",
       "1              NaN\n",
       "2              NaN\n",
       "3              NaN\n",
       "4              NaN\n",
       "            ...   \n",
       "365317    Laborers\n",
       "365318    Laborers\n",
       "365319    Laborers\n",
       "365320    Laborers\n",
       "365321    Laborers\n",
       "Name: OCCUPATION_TYPE, Length: 365322, dtype: object"
      ]
     },
     "execution_count": 24,
     "metadata": {},
     "output_type": "execute_result"
    }
   ],
   "source": [
    "dataset.OCCUPATION_TYPE"
   ]
  },
  {
   "cell_type": "code",
   "execution_count": 25,
   "id": "6d64b279",
   "metadata": {
    "execution": {
     "iopub.execute_input": "2023-02-18T06:16:25.825798Z",
     "iopub.status.busy": "2023-02-18T06:16:25.825466Z",
     "iopub.status.idle": "2023-02-18T06:16:25.848163Z",
     "shell.execute_reply": "2023-02-18T06:16:25.847046Z"
    },
    "papermill": {
     "duration": 0.038587,
     "end_time": "2023-02-18T06:16:25.850467",
     "exception": false,
     "start_time": "2023-02-18T06:16:25.811880",
     "status": "completed"
    },
    "tags": []
   },
   "outputs": [
    {
     "data": {
      "text/plain": [
       "Laborers                 62839\n",
       "Core staff               34175\n",
       "Sales staff              33786\n",
       "Managers                 31066\n",
       "Drivers                  23349\n",
       "High skill tech staff    14459\n",
       "Medicine staff           11937\n",
       "Accountants              11926\n",
       "Security staff            6851\n",
       "Cooking staff             6663\n",
       "Cleaning staff            5201\n",
       "Private service staff     2989\n",
       "Low-skill Laborers        2000\n",
       "Secretaries               1523\n",
       "Waiters/barmen staff      1272\n",
       "HR staff                   973\n",
       "IT staff                   617\n",
       "Realty agents              566\n",
       "Name: OCCUPATION_TYPE, dtype: int64"
      ]
     },
     "execution_count": 25,
     "metadata": {},
     "output_type": "execute_result"
    }
   ],
   "source": [
    "dataset.OCCUPATION_TYPE.value_counts()"
   ]
  },
  {
   "cell_type": "markdown",
   "id": "cc01ceb8",
   "metadata": {
    "papermill": {
     "duration": 0.013713,
     "end_time": "2023-02-18T06:16:25.877614",
     "exception": false,
     "start_time": "2023-02-18T06:16:25.863901",
     "status": "completed"
    },
    "tags": []
   },
   "source": [
    "### Replacing Null Values in 'OCCUPATION_TYPE' with Other"
   ]
  },
  {
   "cell_type": "code",
   "execution_count": 26,
   "id": "fc6cb194",
   "metadata": {
    "execution": {
     "iopub.execute_input": "2023-02-18T06:16:25.904771Z",
     "iopub.status.busy": "2023-02-18T06:16:25.903316Z",
     "iopub.status.idle": "2023-02-18T06:16:25.924647Z",
     "shell.execute_reply": "2023-02-18T06:16:25.923815Z"
    },
    "papermill": {
     "duration": 0.036652,
     "end_time": "2023-02-18T06:16:25.926763",
     "exception": false,
     "start_time": "2023-02-18T06:16:25.890111",
     "status": "completed"
    },
    "tags": []
   },
   "outputs": [],
   "source": [
    "dataset.OCCUPATION_TYPE.replace(np.nan, 'Other', inplace = True)"
   ]
  },
  {
   "cell_type": "code",
   "execution_count": 27,
   "id": "abd51c6f",
   "metadata": {
    "execution": {
     "iopub.execute_input": "2023-02-18T06:16:25.953353Z",
     "iopub.status.busy": "2023-02-18T06:16:25.952609Z",
     "iopub.status.idle": "2023-02-18T06:16:25.974263Z",
     "shell.execute_reply": "2023-02-18T06:16:25.973350Z"
    },
    "papermill": {
     "duration": 0.03718,
     "end_time": "2023-02-18T06:16:25.976415",
     "exception": false,
     "start_time": "2023-02-18T06:16:25.939235",
     "status": "completed"
    },
    "tags": []
   },
   "outputs": [
    {
     "data": {
      "text/plain": [
       "Other                    113130\n",
       "Laborers                  62839\n",
       "Core staff                34175\n",
       "Sales staff               33786\n",
       "Managers                  31066\n",
       "Drivers                   23349\n",
       "High skill tech staff     14459\n",
       "Medicine staff            11937\n",
       "Accountants               11926\n",
       "Security staff             6851\n",
       "Cooking staff              6663\n",
       "Cleaning staff             5201\n",
       "Private service staff      2989\n",
       "Low-skill Laborers         2000\n",
       "Secretaries                1523\n",
       "Waiters/barmen staff       1272\n",
       "HR staff                    973\n",
       "IT staff                    617\n",
       "Realty agents               566\n",
       "Name: OCCUPATION_TYPE, dtype: int64"
      ]
     },
     "execution_count": 27,
     "metadata": {},
     "output_type": "execute_result"
    }
   ],
   "source": [
    "dataset.OCCUPATION_TYPE.value_counts()"
   ]
  },
  {
   "cell_type": "markdown",
   "id": "cf74b865",
   "metadata": {},
   "source": [
    "## Data Visualization"
   ]
  },
  {
   "cell_type": "code",
   "execution_count": 28,
   "id": "d002f813",
   "metadata": {},
   "outputs": [],
   "source": [
    "import matplotlib.pyplot as plt\n",
    "import seaborn as sns"
   ]
  },
  {
   "cell_type": "code",
   "execution_count": 29,
   "id": "239b685d",
   "metadata": {},
   "outputs": [
    {
     "data": {
      "image/png": "[encoded data removed]",
      "text/plain": [
       "<Figure size 360x360 with 1 Axes>"
      ]
     },
     "metadata": {
      "needs_background": "light"
     },
     "output_type": "display_data"
    }
   ],
   "source": [
    "plt.figure(figsize=(5,5))\n",
    "sns.countplot(x='CODE_GENDER', data=dataset,hue='STATUS')\n",
    "plt.title('Distribution of each gender')\n",
    "plt.show()"
   ]
  },
  {
   "cell_type": "code",
   "execution_count": 30,
   "id": "61d2267f",
   "metadata": {},
   "outputs": [
    {
     "data": {
      "image/png": "[encoded data removed]",
      "text/plain": [
       "<Figure size 360x360 with 1 Axes>"
      ]
     },
     "metadata": {
      "needs_background": "light"
     },
     "output_type": "display_data"
    }
   ],
   "source": [
    "plt.figure(figsize=(5,5))\n",
    "sns.countplot(x='FLAG_OWN_CAR', data=dataset,hue='STATUS')\n",
    "plt.title('Distribution of Car Owner or Not')\n",
    "plt.show()"
   ]
  },
  {
   "cell_type": "code",
   "execution_count": 31,
   "id": "3ed1e75a",
   "metadata": {},
   "outputs": [
    {
     "data": {
      "image/png": "[encoded data removed]",
      "text/plain": [
       "<Figure size 360x360 with 1 Axes>"
      ]
     },
     "metadata": {
      "needs_background": "light"
     },
     "output_type": "display_data"
    }
   ],
   "source": [
    "plt.figure(figsize=(5,5))\n",
    "sns.countplot(x='FLAG_OWN_REALTY', data=dataset,hue='STATUS')\n",
    "plt.title('Distribution of Property Owner or Not')\n",
    "plt.show()"
   ]
  },
  {
   "cell_type": "code",
   "execution_count": 32,
   "id": "a70534eb",
   "metadata": {},
   "outputs": [
    {
     "data": {
      "image/png": "[encoded data removed]",
      "text/plain": [
       "<Figure size 720x360 with 1 Axes>"
      ]
     },
     "metadata": {
      "needs_background": "light"
     },
     "output_type": "display_data"
    }
   ],
   "source": [
    "plt.figure(figsize=(10,5))\n",
    "sns.countplot(x='NAME_INCOME_TYPE', data=dataset,hue='STATUS')\n",
    "plt.title('Distribution of Type Income')\n",
    "plt.show()"
   ]
  },
  {
   "cell_type": "code",
   "execution_count": 33,
   "id": "459224be",
   "metadata": {},
   "outputs": [
    {
     "data": {
      "image/png": "[encoded data removed]",
      "text/plain": [
       "<Figure size 720x360 with 1 Axes>"
      ]
     },
     "metadata": {
      "needs_background": "light"
     },
     "output_type": "display_data"
    }
   ],
   "source": [
    "plt.figure(figsize=(10,5))\n",
    "sns.countplot(x='NAME_FAMILY_STATUS', data=dataset,hue='STATUS')\n",
    "plt.title('Distribution of Marital status')\n",
    "plt.show()"
   ]
  },
  {
   "cell_type": "code",
   "execution_count": 34,
   "id": "d73511ec",
   "metadata": {},
   "outputs": [
    {
     "data": {
      "image/png": "[encoded data removed]",
      "text/plain": [
       "<Figure size 720x360 with 1 Axes>"
      ]
     },
     "metadata": {
      "needs_background": "light"
     },
     "output_type": "display_data"
    }
   ],
   "source": [
    "plt.figure(figsize=(10,5))\n",
    "sns.countplot(x='NAME_HOUSING_TYPE', data=dataset,hue='STATUS')\n",
    "plt.title('Distribution of each Housing type')\n",
    "plt.show()"
   ]
  },
  {
   "cell_type": "code",
   "execution_count": 35,
   "id": "5cc9f78f",
   "metadata": {},
   "outputs": [
    {
     "data": {
      "image/png": "[encoded data removed]",
      "text/plain": [
       "<Figure size 360x360 with 1 Axes>"
      ]
     },
     "metadata": {
      "needs_background": "light"
     },
     "output_type": "display_data"
    }
   ],
   "source": [
    "plt.figure(figsize=(5,5))\n",
    "sns.countplot(x='FLAG_WORK_PHONE', data=dataset,hue='STATUS')\n",
    "plt.title('Distribution of having Work Phone or Not')\n",
    "plt.show()"
   ]
  },
  {
   "cell_type": "code",
   "execution_count": 36,
   "id": "b6cb9f7c",
   "metadata": {},
   "outputs": [
    {
     "data": {
      "image/png": "[encoded data removed]",
      "text/plain": [
       "<Figure size 360x360 with 1 Axes>"
      ]
     },
     "metadata": {
      "needs_background": "light"
     },
     "output_type": "display_data"
    }
   ],
   "source": [
    "plt.figure(figsize=(5,5))\n",
    "sns.countplot(x='FLAG_PHONE', data=dataset,hue='STATUS')\n",
    "plt.title('Distribution of having any Phone number or Not')\n",
    "plt.show()"
   ]
  },
  {
   "cell_type": "code",
   "execution_count": 37,
   "id": "3fb47dcd",
   "metadata": {
    "scrolled": true
   },
   "outputs": [
    {
     "data": {
      "image/png": "[encoded data removed]",
      "text/plain": [
       "<Figure size 2160x720 with 1 Axes>"
      ]
     },
     "metadata": {
      "needs_background": "light"
     },
     "output_type": "display_data"
    }
   ],
   "source": [
    "plt.figure(figsize=(30,10))\n",
    "sns.countplot(x='OCCUPATION_TYPE', data=dataset,hue='STATUS')\n",
    "plt.title('Distribution of Type of Occupation')\n",
    "plt.show()"
   ]
  },
  {
   "cell_type": "code",
   "execution_count": 38,
   "id": "1bf5d098",
   "metadata": {},
   "outputs": [
    {
     "data": {
      "image/png": "[encoded data removed]",
      "text/plain": [
       "<Figure size 432x288 with 1 Axes>"
      ]
     },
     "metadata": {
      "needs_background": "light"
     },
     "output_type": "display_data"
    },
    {
     "data": {
      "image/png": "[encoded data removed]",
      "text/plain": [
       "<Figure size 432x288 with 1 Axes>"
      ]
     },
     "metadata": {
      "needs_background": "light"
     },
     "output_type": "display_data"
    },
    {
     "data": {
      "image/png": "[encoded data removed]",
      "text/plain": [
       "<Figure size 432x288 with 1 Axes>"
      ]
     },
     "metadata": {
      "needs_background": "light"
     },
     "output_type": "display_data"
    }
   ],
   "source": [
    "## Histogram for numerical variables\n",
    "import matplotlib.pyplot as plt\n",
    "\n",
    "# Create a histogram of the 'AMT_INCOME_TOTAL' column\n",
    "plt.hist(dataset['AMT_INCOME_TOTAL'], bins=20)\n",
    "plt.xlabel('Income')\n",
    "plt.ylabel('Count')\n",
    "plt.title('Distribution of Income')\n",
    "plt.show()\n",
    "\n",
    "# Create a histogram of the 'CNT_CHILDREN' column\n",
    "plt.hist(dataset['CNT_CHILDREN'], bins=10)\n",
    "plt.xlabel('Number of Children')\n",
    "plt.ylabel('Count')\n",
    "plt.title('Distribution of Number of Children')\n",
    "plt.show()\n",
    "\n",
    "# Create a histogram of the 'DAYS_BIRTH' column\n",
    "plt.hist(dataset['DAYS_BIRTH'] / -365, bins=20)\n",
    "plt.xlabel('Age')\n",
    "plt.ylabel('Count')\n",
    "plt.title('Distribution of Age')\n",
    "plt.show()"
   ]
  },
  {
   "cell_type": "code",
   "execution_count": 39,
   "id": "11428bb6",
   "metadata": {},
   "outputs": [
    {
     "data": {
      "image/png": "[encoded data removed]",
      "text/plain": [
       "<Figure size 432x288 with 1 Axes>"
      ]
     },
     "metadata": {
      "needs_background": "light"
     },
     "output_type": "display_data"
    }
   ],
   "source": [
    "## Box plot of income for each education level:\n",
    "sns.boxplot(x='NAME_EDUCATION_TYPE', y='AMT_INCOME_TOTAL', data=dataset)\n",
    "plt.xticks(rotation=45)\n",
    "plt.title('Income distribution for each education level')\n",
    "plt.show()"
   ]
  },
  {
   "cell_type": "code",
   "execution_count": 40,
   "id": "f80b0c02",
   "metadata": {},
   "outputs": [
    {
     "data": {
      "image/png": "[encoded data removed]",
      "text/plain": [
       "<Figure size 432x288 with 1 Axes>"
      ]
     },
     "metadata": {},
     "output_type": "display_data"
    }
   ],
   "source": [
    "## Pie chart of family status distribution:\n",
    "values = dataset['NAME_FAMILY_STATUS'].value_counts().tolist()\n",
    "labels = dataset['NAME_FAMILY_STATUS'].value_counts().index.tolist()\n",
    "\n",
    "plt.pie(values, labels=labels, autopct='%1.1f%%')\n",
    "plt.title('Family Status distribution')\n",
    "plt.show()"
   ]
  },
  {
   "cell_type": "code",
   "execution_count": 41,
   "id": "75bc75d5",
   "metadata": {},
   "outputs": [
    {
     "data": {
      "image/png": "[encoded data removed]",
      "text/plain": [
       "<Figure size 432x288 with 2 Axes>"
      ]
     },
     "metadata": {
      "needs_background": "light"
     },
     "output_type": "display_data"
    }
   ],
   "source": [
    "num_features = ['CNT_CHILDREN', 'AMT_INCOME_TOTAL', 'DAYS_BIRTH', 'DAYS_EMPLOYED', 'CNT_FAM_MEMBERS', 'MONTHS_BALANCE', 'STATUS']\n",
    "\n",
    "corr = dataset[num_features].corr()\n",
    "\n",
    "sns.heatmap(corr, annot=True, cmap='coolwarm')\n",
    "plt.title('Correlation between numerical features')\n",
    "plt.show()"
   ]
  },
  {
   "cell_type": "code",
   "execution_count": 42,
   "id": "536dfd4f",
   "metadata": {
    "scrolled": true
   },
   "outputs": [
    {
     "data": {
      "text/plain": [
       "<AxesSubplot:>"
      ]
     },
     "execution_count": 42,
     "metadata": {},
     "output_type": "execute_result"
    },
    {
     "data": {
      "image/png": "[encoded data removed]",
      "text/plain": [
       "<Figure size 2304x720 with 2 Axes>"
      ]
     },
     "metadata": {
      "needs_background": "light"
     },
     "output_type": "display_data"
    }
   ],
   "source": [
    "import seaborn as sns\n",
    "plt.figure(figsize=(32,10))\n",
    "sns.heatmap(dataset.corr(),annot=True,cmap='RdYlGn')"
   ]
  },
  {
   "cell_type": "markdown",
   "id": "d4a8d6bd",
   "metadata": {
    "papermill": {
     "duration": 0.01205,
     "end_time": "2023-02-18T06:16:26.000773",
     "exception": false,
     "start_time": "2023-02-18T06:16:25.988723",
     "status": "completed"
    },
    "tags": []
   },
   "source": [
    "## Label Encoding"
   ]
  },
  {
   "cell_type": "code",
   "execution_count": 43,
   "id": "2566db38",
   "metadata": {
    "execution": {
     "iopub.execute_input": "2023-02-18T06:16:26.027434Z",
     "iopub.status.busy": "2023-02-18T06:16:26.027112Z",
     "iopub.status.idle": "2023-02-18T06:16:26.907992Z",
     "shell.execute_reply": "2023-02-18T06:16:26.906812Z"
    },
    "papermill": {
     "duration": 0.89736,
     "end_time": "2023-02-18T06:16:26.911294",
     "exception": false,
     "start_time": "2023-02-18T06:16:26.013934",
     "status": "completed"
    },
    "tags": []
   },
   "outputs": [],
   "source": [
    "from sklearn.preprocessing import LabelEncoder\n",
    "le = LabelEncoder()"
   ]
  },
  {
   "cell_type": "code",
   "execution_count": 44,
   "id": "0a5aa586",
   "metadata": {},
   "outputs": [],
   "source": [
    "# Identify the categorical columns in the DataFrame\n",
    "cat_cols = [col for col in dataset.columns if dataset[col].dtype == 'object']\n",
    "\n",
    "# Apply label encoding to each categorical column\n",
    "for col in cat_cols:\n",
    "    dataset[col] = le.fit_transform(dataset[col].astype(str))"
   ]
  },
  {
   "cell_type": "code",
   "execution_count": 45,
   "id": "f806f608",
   "metadata": {
    "execution": {
     "iopub.execute_input": "2023-02-18T06:16:27.659751Z",
     "iopub.status.busy": "2023-02-18T06:16:27.659405Z",
     "iopub.status.idle": "2023-02-18T06:16:27.835930Z",
     "shell.execute_reply": "2023-02-18T06:16:27.834918Z"
    },
    "jupyter": {
     "outputs_hidden": false
    },
    "papermill": {
     "duration": 0.194123,
     "end_time": "2023-02-18T06:16:27.838564",
     "exception": false,
     "start_time": "2023-02-18T06:16:27.644441",
     "status": "completed"
    },
    "tags": []
   },
   "outputs": [],
   "source": [
    "dataset.drop_duplicates(inplace=True)"
   ]
  },
  {
   "cell_type": "code",
   "execution_count": 46,
   "id": "96bb84b5",
   "metadata": {},
   "outputs": [
    {
     "name": "stdout",
     "output_type": "stream",
     "text": [
      "<class 'pandas.core.frame.DataFrame'>\n",
      "Int64Index: 365322 entries, 0 to 365321\n",
      "Data columns (total 19 columns):\n",
      " #   Column               Non-Null Count   Dtype  \n",
      "---  ------               --------------   -----  \n",
      " 0   CODE_GENDER          365322 non-null  int32  \n",
      " 1   FLAG_OWN_CAR         365322 non-null  int32  \n",
      " 2   FLAG_OWN_REALTY      365322 non-null  int32  \n",
      " 3   CNT_CHILDREN         365322 non-null  int64  \n",
      " 4   AMT_INCOME_TOTAL     365322 non-null  float64\n",
      " 5   NAME_INCOME_TYPE     365322 non-null  int32  \n",
      " 6   NAME_EDUCATION_TYPE  365322 non-null  int32  \n",
      " 7   NAME_FAMILY_STATUS   365322 non-null  int32  \n",
      " 8   NAME_HOUSING_TYPE    365322 non-null  int32  \n",
      " 9   DAYS_BIRTH           365322 non-null  int64  \n",
      " 10  DAYS_EMPLOYED        365322 non-null  int64  \n",
      " 11  FLAG_MOBIL           365322 non-null  int64  \n",
      " 12  FLAG_WORK_PHONE      365322 non-null  int64  \n",
      " 13  FLAG_PHONE           365322 non-null  int64  \n",
      " 14  FLAG_EMAIL           365322 non-null  int64  \n",
      " 15  OCCUPATION_TYPE      365322 non-null  int32  \n",
      " 16  CNT_FAM_MEMBERS      365322 non-null  float64\n",
      " 17  MONTHS_BALANCE       365322 non-null  int64  \n",
      " 18  STATUS               365322 non-null  int64  \n",
      "dtypes: float64(2), int32(8), int64(9)\n",
      "memory usage: 44.6 MB\n"
     ]
    }
   ],
   "source": [
    "dataset.info()"
   ]
  },
  {
   "cell_type": "markdown",
   "id": "b7ecb7f5",
   "metadata": {},
   "source": [
    "#### Feature Importance"
   ]
  },
  {
   "cell_type": "code",
   "execution_count": 47,
   "id": "4fb06a07",
   "metadata": {},
   "outputs": [
    {
     "name": "stdout",
     "output_type": "stream",
     "text": [
      "CODE_GENDER: 0.018958248357368167\n",
      "FLAG_OWN_CAR: 0.017139313703513362\n",
      "FLAG_OWN_REALTY: 0.013582567440598556\n",
      "CNT_CHILDREN: 0.01850302216220005\n",
      "AMT_INCOME_TOTAL: 0.11888879497478809\n",
      "NAME_INCOME_TYPE: 0.026436482510179653\n",
      "NAME_EDUCATION_TYPE: 0.02441072074477061\n",
      "NAME_FAMILY_STATUS: 0.030952141285936666\n",
      "NAME_HOUSING_TYPE: 0.016877241923305322\n",
      "DAYS_BIRTH: 0.1908326224141583\n",
      "DAYS_EMPLOYED: 0.13569738204963674\n",
      "FLAG_MOBIL: 0.0\n",
      "FLAG_WORK_PHONE: 0.015296798984646729\n",
      "FLAG_PHONE: 0.01912753733784771\n",
      "FLAG_EMAIL: 0.009698078129060043\n",
      "OCCUPATION_TYPE: 0.06357503221441582\n",
      "CNT_FAM_MEMBERS: 0.026196051911858635\n",
      "MONTHS_BALANCE: 0.25382796385571554\n"
     ]
    }
   ],
   "source": [
    "import pandas as pd\n",
    "from sklearn.ensemble import RandomForestClassifier\n",
    "\n",
    "# Split the dataset into X (features) and y (target variable)\n",
    "X = dataset.drop('STATUS', axis=1)\n",
    "y = dataset['STATUS']\n",
    "\n",
    "# Train a random forest classifier on the dataset\n",
    "rf = RandomForestClassifier()\n",
    "rf.fit(X, y)\n",
    "\n",
    "# Print the feature importances\n",
    "for feature, importance in zip(X.columns, rf.feature_importances_):\n",
    "    print(f\"{feature}: {importance}\")\n"
   ]
  },
  {
   "cell_type": "code",
   "execution_count": 48,
   "id": "21870722",
   "metadata": {},
   "outputs": [
    {
     "data": {
      "image/png": "[encoded data removed]",
      "text/plain": [
       "<Figure size 432x288 with 1 Axes>"
      ]
     },
     "metadata": {
      "needs_background": "light"
     },
     "output_type": "display_data"
    }
   ],
   "source": [
    "import seaborn as sns\n",
    "import matplotlib.pyplot as plt\n",
    "\n",
    "feature_names = dataset.columns.tolist()\n",
    "\n",
    "# Create a dictionary of feature importances\n",
    "importances_dict = dict(zip(feature_names, rf.feature_importances_))\n",
    "\n",
    "# Convert the dictionary to a Pandas DataFrame\n",
    "importances_df = pd.DataFrame(importances_dict.items(), columns=['Feature', 'Importance'])\n",
    "\n",
    "# Sort the DataFrame by importance\n",
    "importances_df = importances_df.sort_values(by='Importance', ascending=False)\n",
    "\n",
    "# Create the horizontal bar chart\n",
    "sns.barplot(x='Importance', y='Feature', data=importances_df, color='b')\n",
    "\n",
    "# Add labels and title\n",
    "plt.xlabel('Importance')\n",
    "plt.ylabel('Feature')\n",
    "plt.title('Feature Importances')\n",
    "plt.show()\n"
   ]
  },
  {
   "cell_type": "code",
   "execution_count": 49,
   "id": "0793ee24",
   "metadata": {},
   "outputs": [],
   "source": [
    "dataset = dataset[['MONTHS_BALANCE','DAYS_BIRTH','DAYS_EMPLOYED','AMT_INCOME_TOTAL','OCCUPATION_TYPE','STATUS']]"
   ]
  },
  {
   "cell_type": "code",
   "execution_count": 50,
   "id": "f1714b7d",
   "metadata": {},
   "outputs": [
    {
     "data": {
      "text/plain": [
       "Index(['MONTHS_BALANCE', 'DAYS_BIRTH', 'DAYS_EMPLOYED', 'AMT_INCOME_TOTAL',\n",
       "       'OCCUPATION_TYPE', 'STATUS'],\n",
       "      dtype='object')"
      ]
     },
     "execution_count": 50,
     "metadata": {},
     "output_type": "execute_result"
    }
   ],
   "source": [
    "dataset.columns"
   ]
  },
  {
   "cell_type": "code",
   "execution_count": 51,
   "id": "a0333629",
   "metadata": {},
   "outputs": [],
   "source": [
    "X = dataset.drop('STATUS', axis = 1)\n",
    "y = dataset['STATUS']"
   ]
  },
  {
   "cell_type": "markdown",
   "id": "4144e6e8",
   "metadata": {},
   "source": [
    "#### Dealing with imbalanced data"
   ]
  },
  {
   "cell_type": "code",
   "execution_count": 52,
   "id": "040e20bf",
   "metadata": {},
   "outputs": [
    {
     "name": "stdout",
     "output_type": "stream",
     "text": [
      "The number of classes before fit Counter({0: 291079, 1: 74243})\n",
      "The number of classes after fit Counter({0: 74243, 1: 74243})\n"
     ]
    }
   ],
   "source": [
    "from imblearn.under_sampling import RandomUnderSampler\n",
    "from collections import Counter\n",
    "\n",
    "# Create RandomUnderSampler object\n",
    "rus = RandomUnderSampler(random_state=42)\n",
    "\n",
    "# Undersample the majority class\n",
    "x_resampled, y_resampled = rus.fit_resample(X, y)\n",
    "\n",
    "print(\"The number of classes before fit {}\".format(Counter(y)))\n",
    "print(\"The number of classes after fit {}\".format(Counter(y_resampled)))"
   ]
  },
  {
   "cell_type": "code",
   "execution_count": 53,
   "id": "7a1e878f",
   "metadata": {},
   "outputs": [
    {
     "name": "stdout",
     "output_type": "stream",
     "text": [
      "<class 'pandas.core.series.Series'>\n",
      "RangeIndex: 148486 entries, 0 to 148485\n",
      "Series name: STATUS\n",
      "Non-Null Count   Dtype\n",
      "--------------   -----\n",
      "148486 non-null  int64\n",
      "dtypes: int64(1)\n",
      "memory usage: 1.1 MB\n"
     ]
    }
   ],
   "source": [
    "y_resampled.info()"
   ]
  },
  {
   "cell_type": "markdown",
   "id": "8fb15e5c",
   "metadata": {
    "papermill": {
     "duration": 0.011961,
     "end_time": "2023-02-18T06:16:27.863567",
     "exception": false,
     "start_time": "2023-02-18T06:16:27.851606",
     "status": "completed"
    },
    "tags": []
   },
   "source": [
    "## Splitting the dataset"
   ]
  },
  {
   "cell_type": "code",
   "execution_count": 54,
   "id": "4ca20026",
   "metadata": {
    "execution": {
     "iopub.execute_input": "2023-02-18T06:16:28.017301Z",
     "iopub.status.busy": "2023-02-18T06:16:28.016880Z",
     "iopub.status.idle": "2023-02-18T06:16:28.095536Z",
     "shell.execute_reply": "2023-02-18T06:16:28.094494Z"
    },
    "jupyter": {
     "outputs_hidden": false
    },
    "papermill": {
     "duration": 0.094789,
     "end_time": "2023-02-18T06:16:28.098102",
     "exception": false,
     "start_time": "2023-02-18T06:16:28.003313",
     "status": "completed"
    },
    "tags": []
   },
   "outputs": [],
   "source": [
    "from sklearn.model_selection import train_test_split\n",
    "train_x, test_x, train_y, test_y = train_test_split(x_resampled, y_resampled, test_size=0.2, random_state=0)"
   ]
  },
  {
   "cell_type": "markdown",
   "id": "431568fd",
   "metadata": {
    "papermill": {
     "duration": 0.019097,
     "end_time": "2023-02-18T06:16:28.524048",
     "exception": false,
     "start_time": "2023-02-18T06:16:28.504951",
     "status": "completed"
    },
    "tags": []
   },
   "source": [
    "## Building Model"
   ]
  },
  {
   "cell_type": "code",
   "execution_count": 55,
   "id": "878f6aa1",
   "metadata": {},
   "outputs": [],
   "source": [
    "from sklearn.linear_model import LogisticRegression\n",
    "from sklearn.tree import DecisionTreeClassifier\n",
    "from sklearn.ensemble import RandomForestClassifier\n",
    "from sklearn.metrics import accuracy_score, precision_score, recall_score, f1_score"
   ]
  },
  {
   "cell_type": "code",
   "execution_count": 56,
   "id": "08987535",
   "metadata": {},
   "outputs": [],
   "source": [
    "algorithms = [\n",
    "    ('Logistic Regression', LogisticRegression()),\n",
    "    ('Decision Tree', DecisionTreeClassifier()),\n",
    "    ('Random Forest', RandomForestClassifier())\n",
    "]"
   ]
  },
  {
   "cell_type": "code",
   "execution_count": 57,
   "id": "355d0f70",
   "metadata": {},
   "outputs": [],
   "source": [
    "results = []\n",
    "for name, model in algorithms:\n",
    "    # Fit the model\n",
    "    model.fit(train_x, train_y)\n",
    "    \n",
    "    # Predict the labels for the test data and calculate the evaluation metrics\n",
    "    y_pred = model.predict(test_x)\n",
    "    accuracy = accuracy_score(test_y, y_pred)\n",
    "    precision = precision_score(test_y, y_pred)\n",
    "    recall = recall_score(test_y, y_pred)\n",
    "    f1 = f1_score(test_y, y_pred)\n",
    "    \n",
    "    # Add the results to the list\n",
    "    results.append((name, accuracy, precision, recall, f1))"
   ]
  },
  {
   "cell_type": "code",
   "execution_count": 58,
   "id": "59a06bcc",
   "metadata": {},
   "outputs": [
    {
     "name": "stdout",
     "output_type": "stream",
     "text": [
      "             Algorithm  Accuracy  Precision    Recall  F1 Score\n",
      "0  Logistic Regression  0.524311   0.533485  0.468119  0.498669\n",
      "1        Decision Tree  0.812075   0.837873  0.778866  0.807293\n",
      "2        Random Forest  0.848239   0.848441  0.851889  0.850161\n"
     ]
    }
   ],
   "source": [
    "df_results = pd.DataFrame(results, columns=['Algorithm', 'Accuracy', 'Precision', 'Recall', 'F1 Score'])\n",
    "print(df_results)"
   ]
  },
  {
   "cell_type": "code",
   "execution_count": 59,
   "id": "6da3a05b",
   "metadata": {},
   "outputs": [
    {
     "name": "stdout",
     "output_type": "stream",
     "text": [
      "Random Forest feature ranking:\n",
      "1. DAYS_BIRTH (0.3307)\n",
      "2. MONTHS_BALANCE (0.2404)\n",
      "3. DAYS_EMPLOYED (0.2300)\n",
      "4. AMT_INCOME_TOTAL (0.1275)\n",
      "5. OCCUPATION_TYPE (0.0715)\n"
     ]
    }
   ],
   "source": [
    "# Iterate over the list of algorithms\n",
    "for name, algorithm in algorithms:\n",
    "    if name == 'Random Forest':\n",
    "        # Fit the Random Forest Classifier\n",
    "        algorithm.fit(X, y)\n",
    "        \n",
    "        # Get the feature importance\n",
    "        importances = algorithm.feature_importances_\n",
    "\n",
    "        # Sort the feature importance in descending order\n",
    "        indices = np.argsort(importances)[::-1]\n",
    "\n",
    "        # Print the feature ranking\n",
    "        print(f\"{name} feature ranking:\")\n",
    "        for f in range(X.shape[1]):\n",
    "            print(f\"{f+1}. {X.columns[indices[f]]} ({importances[indices[f]]:.4f})\")\n"
   ]
  },
  {
   "cell_type": "code",
   "execution_count": 64,
   "id": "9a6704a1",
   "metadata": {},
   "outputs": [
    {
     "data": {
      "application/vnd.jupyter.widget-view+json": {
       "model_id": "60bce5fe11454a7096751e0c6a4d28b4",
       "version_major": 2,
       "version_minor": 0
      },
      "text/plain": [
       "Summarize dataset:   0%|          | 0/5 [00:00<?, ?it/s]"
      ]
     },
     "metadata": {},
     "output_type": "display_data"
    },
    {
     "data": {
      "application/vnd.jupyter.widget-view+json": {
       "model_id": "cefeed92708f4535ba71e8d1f74bd746",
       "version_major": 2,
       "version_minor": 0
      },
      "text/plain": [
       "Generate report structure:   0%|          | 0/1 [00:00<?, ?it/s]"
      ]
     },
     "metadata": {},
     "output_type": "display_data"
    },
    {
     "data": {
      "application/vnd.jupyter.widget-view+json": {
       "model_id": "",
       "version_major": 2,
       "version_minor": 0
      },
      "text/plain": [
       "Render widgets:   0%|          | 0/1 [00:00<?, ?it/s]"
      ]
     },
     "metadata": {},
     "output_type": "display_data"
    },
    {
     "data": {
      "application/vnd.jupyter.widget-view+json": {
       "model_id": "adcd0b9967554aad81ccd9f5b6a0a168",
       "version_major": 2,
       "version_minor": 0
      },
      "text/plain": [
       "VBox(children=(Tab(children=(Tab(children=(GridBox(children=(VBox(children=(GridspecLayout(children=(HTML(valu…"
      ]
     },
     "metadata": {},
     "output_type": "display_data"
    }
   ],
   "source": [
    "import pandas_profiling\n",
    "from pandas_profiling import ProfileReport\n",
    "\n",
    "\n",
    "# Generate an automated EDA report\n",
    "profile = ProfileReport(dataset, title='Credit_Card_Approval Dataset EDA Report', explorative=True)\n",
    "profile.to_widgets()"
   ]
  },
  {
   "cell_type": "code",
   "execution_count": 65,
   "id": "b242f18c",
   "metadata": {},
   "outputs": [],
   "source": [
    "from pycaret.classification import *"
   ]
  },
  {
   "cell_type": "code",
   "execution_count": 62,
   "id": "056387c1",
   "metadata": {},
   "outputs": [
    {
     "data": {
      "text/html": [
       "<style type=\"text/css\">\n",
       "#T_9c2f8_row8_col1 {\n",
       "  background-color: lightgreen;\n",
       "}\n",
       "</style>\n",
       "<table id=\"T_9c2f8\">\n",
       "  <thead>\n",
       "    <tr>\n",
       "      <th class=\"blank level0\" >&nbsp;</th>\n",
       "      <th id=\"T_9c2f8_level0_col0\" class=\"col_heading level0 col0\" >Description</th>\n",
       "      <th id=\"T_9c2f8_level0_col1\" class=\"col_heading level0 col1\" >Value</th>\n",
       "    </tr>\n",
       "  </thead>\n",
       "  <tbody>\n",
       "    <tr>\n",
       "      <th id=\"T_9c2f8_level0_row0\" class=\"row_heading level0 row0\" >0</th>\n",
       "      <td id=\"T_9c2f8_row0_col0\" class=\"data row0 col0\" >Session id</td>\n",
       "      <td id=\"T_9c2f8_row0_col1\" class=\"data row0 col1\" >1004</td>\n",
       "    </tr>\n",
       "    <tr>\n",
       "      <th id=\"T_9c2f8_level0_row1\" class=\"row_heading level0 row1\" >1</th>\n",
       "      <td id=\"T_9c2f8_row1_col0\" class=\"data row1 col0\" >Target</td>\n",
       "      <td id=\"T_9c2f8_row1_col1\" class=\"data row1 col1\" >STATUS</td>\n",
       "    </tr>\n",
       "    <tr>\n",
       "      <th id=\"T_9c2f8_level0_row2\" class=\"row_heading level0 row2\" >2</th>\n",
       "      <td id=\"T_9c2f8_row2_col0\" class=\"data row2 col0\" >Target type</td>\n",
       "      <td id=\"T_9c2f8_row2_col1\" class=\"data row2 col1\" >Binary</td>\n",
       "    </tr>\n",
       "    <tr>\n",
       "      <th id=\"T_9c2f8_level0_row3\" class=\"row_heading level0 row3\" >3</th>\n",
       "      <td id=\"T_9c2f8_row3_col0\" class=\"data row3 col0\" >Original data shape</td>\n",
       "      <td id=\"T_9c2f8_row3_col1\" class=\"data row3 col1\" >(365322, 6)</td>\n",
       "    </tr>\n",
       "    <tr>\n",
       "      <th id=\"T_9c2f8_level0_row4\" class=\"row_heading level0 row4\" >4</th>\n",
       "      <td id=\"T_9c2f8_row4_col0\" class=\"data row4 col0\" >Transformed data shape</td>\n",
       "      <td id=\"T_9c2f8_row4_col1\" class=\"data row4 col1\" >(365322, 6)</td>\n",
       "    </tr>\n",
       "    <tr>\n",
       "      <th id=\"T_9c2f8_level0_row5\" class=\"row_heading level0 row5\" >5</th>\n",
       "      <td id=\"T_9c2f8_row5_col0\" class=\"data row5 col0\" >Transformed train set shape</td>\n",
       "      <td id=\"T_9c2f8_row5_col1\" class=\"data row5 col1\" >(255725, 6)</td>\n",
       "    </tr>\n",
       "    <tr>\n",
       "      <th id=\"T_9c2f8_level0_row6\" class=\"row_heading level0 row6\" >6</th>\n",
       "      <td id=\"T_9c2f8_row6_col0\" class=\"data row6 col0\" >Transformed test set shape</td>\n",
       "      <td id=\"T_9c2f8_row6_col1\" class=\"data row6 col1\" >(109597, 6)</td>\n",
       "    </tr>\n",
       "    <tr>\n",
       "      <th id=\"T_9c2f8_level0_row7\" class=\"row_heading level0 row7\" >7</th>\n",
       "      <td id=\"T_9c2f8_row7_col0\" class=\"data row7 col0\" >Numeric features</td>\n",
       "      <td id=\"T_9c2f8_row7_col1\" class=\"data row7 col1\" >5</td>\n",
       "    </tr>\n",
       "    <tr>\n",
       "      <th id=\"T_9c2f8_level0_row8\" class=\"row_heading level0 row8\" >8</th>\n",
       "      <td id=\"T_9c2f8_row8_col0\" class=\"data row8 col0\" >Preprocess</td>\n",
       "      <td id=\"T_9c2f8_row8_col1\" class=\"data row8 col1\" >True</td>\n",
       "    </tr>\n",
       "    <tr>\n",
       "      <th id=\"T_9c2f8_level0_row9\" class=\"row_heading level0 row9\" >9</th>\n",
       "      <td id=\"T_9c2f8_row9_col0\" class=\"data row9 col0\" >Imputation type</td>\n",
       "      <td id=\"T_9c2f8_row9_col1\" class=\"data row9 col1\" >simple</td>\n",
       "    </tr>\n",
       "    <tr>\n",
       "      <th id=\"T_9c2f8_level0_row10\" class=\"row_heading level0 row10\" >10</th>\n",
       "      <td id=\"T_9c2f8_row10_col0\" class=\"data row10 col0\" >Numeric imputation</td>\n",
       "      <td id=\"T_9c2f8_row10_col1\" class=\"data row10 col1\" >mean</td>\n",
       "    </tr>\n",
       "    <tr>\n",
       "      <th id=\"T_9c2f8_level0_row11\" class=\"row_heading level0 row11\" >11</th>\n",
       "      <td id=\"T_9c2f8_row11_col0\" class=\"data row11 col0\" >Categorical imputation</td>\n",
       "      <td id=\"T_9c2f8_row11_col1\" class=\"data row11 col1\" >mode</td>\n",
       "    </tr>\n",
       "    <tr>\n",
       "      <th id=\"T_9c2f8_level0_row12\" class=\"row_heading level0 row12\" >12</th>\n",
       "      <td id=\"T_9c2f8_row12_col0\" class=\"data row12 col0\" >Fold Generator</td>\n",
       "      <td id=\"T_9c2f8_row12_col1\" class=\"data row12 col1\" >StratifiedKFold</td>\n",
       "    </tr>\n",
       "    <tr>\n",
       "      <th id=\"T_9c2f8_level0_row13\" class=\"row_heading level0 row13\" >13</th>\n",
       "      <td id=\"T_9c2f8_row13_col0\" class=\"data row13 col0\" >Fold Number</td>\n",
       "      <td id=\"T_9c2f8_row13_col1\" class=\"data row13 col1\" >10</td>\n",
       "    </tr>\n",
       "    <tr>\n",
       "      <th id=\"T_9c2f8_level0_row14\" class=\"row_heading level0 row14\" >14</th>\n",
       "      <td id=\"T_9c2f8_row14_col0\" class=\"data row14 col0\" >CPU Jobs</td>\n",
       "      <td id=\"T_9c2f8_row14_col1\" class=\"data row14 col1\" >-1</td>\n",
       "    </tr>\n",
       "    <tr>\n",
       "      <th id=\"T_9c2f8_level0_row15\" class=\"row_heading level0 row15\" >15</th>\n",
       "      <td id=\"T_9c2f8_row15_col0\" class=\"data row15 col0\" >Use GPU</td>\n",
       "      <td id=\"T_9c2f8_row15_col1\" class=\"data row15 col1\" >False</td>\n",
       "    </tr>\n",
       "    <tr>\n",
       "      <th id=\"T_9c2f8_level0_row16\" class=\"row_heading level0 row16\" >16</th>\n",
       "      <td id=\"T_9c2f8_row16_col0\" class=\"data row16 col0\" >Log Experiment</td>\n",
       "      <td id=\"T_9c2f8_row16_col1\" class=\"data row16 col1\" >False</td>\n",
       "    </tr>\n",
       "    <tr>\n",
       "      <th id=\"T_9c2f8_level0_row17\" class=\"row_heading level0 row17\" >17</th>\n",
       "      <td id=\"T_9c2f8_row17_col0\" class=\"data row17 col0\" >Experiment Name</td>\n",
       "      <td id=\"T_9c2f8_row17_col1\" class=\"data row17 col1\" >clf-default-name</td>\n",
       "    </tr>\n",
       "    <tr>\n",
       "      <th id=\"T_9c2f8_level0_row18\" class=\"row_heading level0 row18\" >18</th>\n",
       "      <td id=\"T_9c2f8_row18_col0\" class=\"data row18 col0\" >USI</td>\n",
       "      <td id=\"T_9c2f8_row18_col1\" class=\"data row18 col1\" >3c93</td>\n",
       "    </tr>\n",
       "  </tbody>\n",
       "</table>\n"
      ],
      "text/plain": [
       "<pandas.io.formats.style.Styler at 0x162e0cb2e20>"
      ]
     },
     "metadata": {},
     "output_type": "display_data"
    }
   ],
   "source": [
    "# Initialize the setup\n",
    "clf = setup(dataset, target='STATUS')"
   ]
  },
  {
   "cell_type": "code",
   "execution_count": 63,
   "id": "64f5df34",
   "metadata": {},
   "outputs": [
    {
     "data": {
      "text/html": [],
      "text/plain": [
       "<IPython.core.display.HTML object>"
      ]
     },
     "metadata": {},
     "output_type": "display_data"
    },
    {
     "data": {
      "text/html": [
       "<style type=\"text/css\">\n",
       "#T_39c01 th {\n",
       "  text-align: left;\n",
       "}\n",
       "#T_39c01_row0_col0, #T_39c01_row0_col4, #T_39c01_row1_col0, #T_39c01_row1_col1, #T_39c01_row1_col2, #T_39c01_row1_col3, #T_39c01_row1_col4, #T_39c01_row1_col5, #T_39c01_row1_col6, #T_39c01_row1_col7, #T_39c01_row2_col0, #T_39c01_row2_col1, #T_39c01_row2_col2, #T_39c01_row2_col3, #T_39c01_row2_col4, #T_39c01_row2_col5, #T_39c01_row2_col6, #T_39c01_row2_col7, #T_39c01_row3_col0, #T_39c01_row3_col1, #T_39c01_row3_col2, #T_39c01_row3_col3, #T_39c01_row3_col4, #T_39c01_row3_col5, #T_39c01_row3_col6, #T_39c01_row3_col7, #T_39c01_row4_col0, #T_39c01_row4_col1, #T_39c01_row4_col2, #T_39c01_row4_col3, #T_39c01_row4_col4, #T_39c01_row4_col5, #T_39c01_row4_col6, #T_39c01_row4_col7, #T_39c01_row5_col0, #T_39c01_row5_col1, #T_39c01_row5_col2, #T_39c01_row5_col3, #T_39c01_row5_col4, #T_39c01_row5_col5, #T_39c01_row5_col6, #T_39c01_row5_col7, #T_39c01_row6_col0, #T_39c01_row6_col1, #T_39c01_row6_col2, #T_39c01_row6_col3, #T_39c01_row6_col5, #T_39c01_row6_col6, #T_39c01_row6_col7, #T_39c01_row7_col0, #T_39c01_row7_col1, #T_39c01_row7_col2, #T_39c01_row7_col3, #T_39c01_row7_col4, #T_39c01_row7_col5, #T_39c01_row7_col6, #T_39c01_row7_col7, #T_39c01_row8_col0, #T_39c01_row8_col1, #T_39c01_row8_col2, #T_39c01_row8_col3, #T_39c01_row8_col4, #T_39c01_row8_col5, #T_39c01_row8_col6, #T_39c01_row8_col7, #T_39c01_row9_col0, #T_39c01_row9_col1, #T_39c01_row9_col2, #T_39c01_row9_col3, #T_39c01_row9_col4, #T_39c01_row9_col5, #T_39c01_row9_col6, #T_39c01_row9_col7, #T_39c01_row10_col0, #T_39c01_row10_col1, #T_39c01_row10_col2, #T_39c01_row10_col3, #T_39c01_row10_col4, #T_39c01_row10_col5, #T_39c01_row10_col6, #T_39c01_row10_col7, #T_39c01_row11_col0, #T_39c01_row11_col1, #T_39c01_row11_col2, #T_39c01_row11_col3, #T_39c01_row11_col4, #T_39c01_row11_col5, #T_39c01_row11_col6, #T_39c01_row11_col7, #T_39c01_row12_col0, #T_39c01_row12_col1, #T_39c01_row12_col2, #T_39c01_row12_col3, #T_39c01_row12_col4, #T_39c01_row12_col5, #T_39c01_row12_col6, #T_39c01_row12_col7, #T_39c01_row13_col0, #T_39c01_row13_col1, #T_39c01_row13_col2, #T_39c01_row13_col3, #T_39c01_row13_col4, #T_39c01_row13_col5, #T_39c01_row13_col6, #T_39c01_row13_col7 {\n",
       "  text-align: left;\n",
       "}\n",
       "#T_39c01_row0_col1, #T_39c01_row0_col2, #T_39c01_row0_col3, #T_39c01_row0_col5, #T_39c01_row0_col6, #T_39c01_row0_col7, #T_39c01_row6_col4 {\n",
       "  text-align: left;\n",
       "  background-color: yellow;\n",
       "}\n",
       "#T_39c01_row0_col8, #T_39c01_row1_col8, #T_39c01_row2_col8, #T_39c01_row3_col8, #T_39c01_row4_col8, #T_39c01_row5_col8, #T_39c01_row6_col8, #T_39c01_row7_col8, #T_39c01_row8_col8, #T_39c01_row9_col8, #T_39c01_row11_col8, #T_39c01_row12_col8, #T_39c01_row13_col8 {\n",
       "  text-align: left;\n",
       "  background-color: lightgrey;\n",
       "}\n",
       "#T_39c01_row10_col8 {\n",
       "  text-align: left;\n",
       "  background-color: yellow;\n",
       "  background-color: lightgrey;\n",
       "}\n",
       "</style>\n",
       "<table id=\"T_39c01\">\n",
       "  <thead>\n",
       "    <tr>\n",
       "      <th class=\"blank level0\" >&nbsp;</th>\n",
       "      <th id=\"T_39c01_level0_col0\" class=\"col_heading level0 col0\" >Model</th>\n",
       "      <th id=\"T_39c01_level0_col1\" class=\"col_heading level0 col1\" >Accuracy</th>\n",
       "      <th id=\"T_39c01_level0_col2\" class=\"col_heading level0 col2\" >AUC</th>\n",
       "      <th id=\"T_39c01_level0_col3\" class=\"col_heading level0 col3\" >Recall</th>\n",
       "      <th id=\"T_39c01_level0_col4\" class=\"col_heading level0 col4\" >Prec.</th>\n",
       "      <th id=\"T_39c01_level0_col5\" class=\"col_heading level0 col5\" >F1</th>\n",
       "      <th id=\"T_39c01_level0_col6\" class=\"col_heading level0 col6\" >Kappa</th>\n",
       "      <th id=\"T_39c01_level0_col7\" class=\"col_heading level0 col7\" >MCC</th>\n",
       "      <th id=\"T_39c01_level0_col8\" class=\"col_heading level0 col8\" >TT (Sec)</th>\n",
       "    </tr>\n",
       "  </thead>\n",
       "  <tbody>\n",
       "    <tr>\n",
       "      <th id=\"T_39c01_level0_row0\" class=\"row_heading level0 row0\" >knn</th>\n",
       "      <td id=\"T_39c01_row0_col0\" class=\"data row0 col0\" >K Neighbors Classifier</td>\n",
       "      <td id=\"T_39c01_row0_col1\" class=\"data row0 col1\" >0.8466</td>\n",
       "      <td id=\"T_39c01_row0_col2\" class=\"data row0 col2\" >0.9377</td>\n",
       "      <td id=\"T_39c01_row0_col3\" class=\"data row0 col3\" >0.6238</td>\n",
       "      <td id=\"T_39c01_row0_col4\" class=\"data row0 col4\" >0.6224</td>\n",
       "      <td id=\"T_39c01_row0_col5\" class=\"data row0 col5\" >0.6231</td>\n",
       "      <td id=\"T_39c01_row0_col6\" class=\"data row0 col6\" >0.5268</td>\n",
       "      <td id=\"T_39c01_row0_col7\" class=\"data row0 col7\" >0.5268</td>\n",
       "      <td id=\"T_39c01_row0_col8\" class=\"data row0 col8\" >0.8580</td>\n",
       "    </tr>\n",
       "    <tr>\n",
       "      <th id=\"T_39c01_level0_row1\" class=\"row_heading level0 row1\" >rf</th>\n",
       "      <td id=\"T_39c01_row1_col0\" class=\"data row1 col0\" >Random Forest Classifier</td>\n",
       "      <td id=\"T_39c01_row1_col1\" class=\"data row1 col1\" >0.8154</td>\n",
       "      <td id=\"T_39c01_row1_col2\" class=\"data row1 col2\" >0.9086</td>\n",
       "      <td id=\"T_39c01_row1_col3\" class=\"data row1 col3\" >0.5314</td>\n",
       "      <td id=\"T_39c01_row1_col4\" class=\"data row1 col4\" >0.5471</td>\n",
       "      <td id=\"T_39c01_row1_col5\" class=\"data row1 col5\" >0.5391</td>\n",
       "      <td id=\"T_39c01_row1_col6\" class=\"data row1 col6\" >0.4237</td>\n",
       "      <td id=\"T_39c01_row1_col7\" class=\"data row1 col7\" >0.4238</td>\n",
       "      <td id=\"T_39c01_row1_col8\" class=\"data row1 col8\" >8.8760</td>\n",
       "    </tr>\n",
       "    <tr>\n",
       "      <th id=\"T_39c01_level0_row2\" class=\"row_heading level0 row2\" >dt</th>\n",
       "      <td id=\"T_39c01_row2_col0\" class=\"data row2 col0\" >Decision Tree Classifier</td>\n",
       "      <td id=\"T_39c01_row2_col1\" class=\"data row2 col1\" >0.8137</td>\n",
       "      <td id=\"T_39c01_row2_col2\" class=\"data row2 col2\" >0.7328</td>\n",
       "      <td id=\"T_39c01_row2_col3\" class=\"data row2 col3\" >0.4939</td>\n",
       "      <td id=\"T_39c01_row2_col4\" class=\"data row2 col4\" >0.5461</td>\n",
       "      <td id=\"T_39c01_row2_col5\" class=\"data row2 col5\" >0.5187</td>\n",
       "      <td id=\"T_39c01_row2_col6\" class=\"data row2 col6\" >0.4036</td>\n",
       "      <td id=\"T_39c01_row2_col7\" class=\"data row2 col7\" >0.4044</td>\n",
       "      <td id=\"T_39c01_row2_col8\" class=\"data row2 col8\" >0.6070</td>\n",
       "    </tr>\n",
       "    <tr>\n",
       "      <th id=\"T_39c01_level0_row3\" class=\"row_heading level0 row3\" >et</th>\n",
       "      <td id=\"T_39c01_row3_col0\" class=\"data row3 col0\" >Extra Trees Classifier</td>\n",
       "      <td id=\"T_39c01_row3_col1\" class=\"data row3 col1\" >0.8071</td>\n",
       "      <td id=\"T_39c01_row3_col2\" class=\"data row3 col2\" >0.6155</td>\n",
       "      <td id=\"T_39c01_row3_col3\" class=\"data row3 col3\" >0.4843</td>\n",
       "      <td id=\"T_39c01_row3_col4\" class=\"data row3 col4\" >0.5278</td>\n",
       "      <td id=\"T_39c01_row3_col5\" class=\"data row3 col5\" >0.5051</td>\n",
       "      <td id=\"T_39c01_row3_col6\" class=\"data row3 col6\" >0.3856</td>\n",
       "      <td id=\"T_39c01_row3_col7\" class=\"data row3 col7\" >0.3862</td>\n",
       "      <td id=\"T_39c01_row3_col8\" class=\"data row3 col8\" >17.1430</td>\n",
       "    </tr>\n",
       "    <tr>\n",
       "      <th id=\"T_39c01_level0_row4\" class=\"row_heading level0 row4\" >lightgbm</th>\n",
       "      <td id=\"T_39c01_row4_col0\" class=\"data row4 col0\" >Light Gradient Boosting Machine</td>\n",
       "      <td id=\"T_39c01_row4_col1\" class=\"data row4 col1\" >0.8026</td>\n",
       "      <td id=\"T_39c01_row4_col2\" class=\"data row4 col2\" >0.7938</td>\n",
       "      <td id=\"T_39c01_row4_col3\" class=\"data row4 col3\" >0.0316</td>\n",
       "      <td id=\"T_39c01_row4_col4\" class=\"data row4 col4\" >0.9196</td>\n",
       "      <td id=\"T_39c01_row4_col5\" class=\"data row4 col5\" >0.0612</td>\n",
       "      <td id=\"T_39c01_row4_col6\" class=\"data row4 col6\" >0.0483</td>\n",
       "      <td id=\"T_39c01_row4_col7\" class=\"data row4 col7\" >0.1492</td>\n",
       "      <td id=\"T_39c01_row4_col8\" class=\"data row4 col8\" >0.8830</td>\n",
       "    </tr>\n",
       "    <tr>\n",
       "      <th id=\"T_39c01_level0_row5\" class=\"row_heading level0 row5\" >gbc</th>\n",
       "      <td id=\"T_39c01_row5_col0\" class=\"data row5 col0\" >Gradient Boosting Classifier</td>\n",
       "      <td id=\"T_39c01_row5_col1\" class=\"data row5 col1\" >0.7977</td>\n",
       "      <td id=\"T_39c01_row5_col2\" class=\"data row5 col2\" >0.6283</td>\n",
       "      <td id=\"T_39c01_row5_col3\" class=\"data row5 col3\" >0.0056</td>\n",
       "      <td id=\"T_39c01_row5_col4\" class=\"data row5 col4\" >0.8452</td>\n",
       "      <td id=\"T_39c01_row5_col5\" class=\"data row5 col5\" >0.0112</td>\n",
       "      <td id=\"T_39c01_row5_col6\" class=\"data row5 col6\" >0.0085</td>\n",
       "      <td id=\"T_39c01_row5_col7\" class=\"data row5 col7\" >0.0584</td>\n",
       "      <td id=\"T_39c01_row5_col8\" class=\"data row5 col8\" >6.8930</td>\n",
       "    </tr>\n",
       "    <tr>\n",
       "      <th id=\"T_39c01_level0_row6\" class=\"row_heading level0 row6\" >ada</th>\n",
       "      <td id=\"T_39c01_row6_col0\" class=\"data row6 col0\" >Ada Boost Classifier</td>\n",
       "      <td id=\"T_39c01_row6_col1\" class=\"data row6 col1\" >0.7969</td>\n",
       "      <td id=\"T_39c01_row6_col2\" class=\"data row6 col2\" >0.5712</td>\n",
       "      <td id=\"T_39c01_row6_col3\" class=\"data row6 col3\" >0.0006</td>\n",
       "      <td id=\"T_39c01_row6_col4\" class=\"data row6 col4\" >0.9375</td>\n",
       "      <td id=\"T_39c01_row6_col5\" class=\"data row6 col5\" >0.0012</td>\n",
       "      <td id=\"T_39c01_row6_col6\" class=\"data row6 col6\" >0.0009</td>\n",
       "      <td id=\"T_39c01_row6_col7\" class=\"data row6 col7\" >0.0194</td>\n",
       "      <td id=\"T_39c01_row6_col8\" class=\"data row6 col8\" >2.0190</td>\n",
       "    </tr>\n",
       "    <tr>\n",
       "      <th id=\"T_39c01_level0_row7\" class=\"row_heading level0 row7\" >lr</th>\n",
       "      <td id=\"T_39c01_row7_col0\" class=\"data row7 col0\" >Logistic Regression</td>\n",
       "      <td id=\"T_39c01_row7_col1\" class=\"data row7 col1\" >0.7968</td>\n",
       "      <td id=\"T_39c01_row7_col2\" class=\"data row7 col2\" >0.5231</td>\n",
       "      <td id=\"T_39c01_row7_col3\" class=\"data row7 col3\" >0.0000</td>\n",
       "      <td id=\"T_39c01_row7_col4\" class=\"data row7 col4\" >0.0000</td>\n",
       "      <td id=\"T_39c01_row7_col5\" class=\"data row7 col5\" >0.0000</td>\n",
       "      <td id=\"T_39c01_row7_col6\" class=\"data row7 col6\" >0.0000</td>\n",
       "      <td id=\"T_39c01_row7_col7\" class=\"data row7 col7\" >0.0000</td>\n",
       "      <td id=\"T_39c01_row7_col8\" class=\"data row7 col8\" >1.3110</td>\n",
       "    </tr>\n",
       "    <tr>\n",
       "      <th id=\"T_39c01_level0_row8\" class=\"row_heading level0 row8\" >ridge</th>\n",
       "      <td id=\"T_39c01_row8_col0\" class=\"data row8 col0\" >Ridge Classifier</td>\n",
       "      <td id=\"T_39c01_row8_col1\" class=\"data row8 col1\" >0.7968</td>\n",
       "      <td id=\"T_39c01_row8_col2\" class=\"data row8 col2\" >0.0000</td>\n",
       "      <td id=\"T_39c01_row8_col3\" class=\"data row8 col3\" >0.0000</td>\n",
       "      <td id=\"T_39c01_row8_col4\" class=\"data row8 col4\" >0.0000</td>\n",
       "      <td id=\"T_39c01_row8_col5\" class=\"data row8 col5\" >0.0000</td>\n",
       "      <td id=\"T_39c01_row8_col6\" class=\"data row8 col6\" >0.0000</td>\n",
       "      <td id=\"T_39c01_row8_col7\" class=\"data row8 col7\" >0.0000</td>\n",
       "      <td id=\"T_39c01_row8_col8\" class=\"data row8 col8\" >0.4900</td>\n",
       "    </tr>\n",
       "    <tr>\n",
       "      <th id=\"T_39c01_level0_row9\" class=\"row_heading level0 row9\" >lda</th>\n",
       "      <td id=\"T_39c01_row9_col0\" class=\"data row9 col0\" >Linear Discriminant Analysis</td>\n",
       "      <td id=\"T_39c01_row9_col1\" class=\"data row9 col1\" >0.7968</td>\n",
       "      <td id=\"T_39c01_row9_col2\" class=\"data row9 col2\" >0.5342</td>\n",
       "      <td id=\"T_39c01_row9_col3\" class=\"data row9 col3\" >0.0000</td>\n",
       "      <td id=\"T_39c01_row9_col4\" class=\"data row9 col4\" >0.0000</td>\n",
       "      <td id=\"T_39c01_row9_col5\" class=\"data row9 col5\" >0.0000</td>\n",
       "      <td id=\"T_39c01_row9_col6\" class=\"data row9 col6\" >0.0000</td>\n",
       "      <td id=\"T_39c01_row9_col7\" class=\"data row9 col7\" >0.0000</td>\n",
       "      <td id=\"T_39c01_row9_col8\" class=\"data row9 col8\" >0.5270</td>\n",
       "    </tr>\n",
       "    <tr>\n",
       "      <th id=\"T_39c01_level0_row10\" class=\"row_heading level0 row10\" >dummy</th>\n",
       "      <td id=\"T_39c01_row10_col0\" class=\"data row10 col0\" >Dummy Classifier</td>\n",
       "      <td id=\"T_39c01_row10_col1\" class=\"data row10 col1\" >0.7968</td>\n",
       "      <td id=\"T_39c01_row10_col2\" class=\"data row10 col2\" >0.5000</td>\n",
       "      <td id=\"T_39c01_row10_col3\" class=\"data row10 col3\" >0.0000</td>\n",
       "      <td id=\"T_39c01_row10_col4\" class=\"data row10 col4\" >0.0000</td>\n",
       "      <td id=\"T_39c01_row10_col5\" class=\"data row10 col5\" >0.0000</td>\n",
       "      <td id=\"T_39c01_row10_col6\" class=\"data row10 col6\" >0.0000</td>\n",
       "      <td id=\"T_39c01_row10_col7\" class=\"data row10 col7\" >0.0000</td>\n",
       "      <td id=\"T_39c01_row10_col8\" class=\"data row10 col8\" >0.4120</td>\n",
       "    </tr>\n",
       "    <tr>\n",
       "      <th id=\"T_39c01_level0_row11\" class=\"row_heading level0 row11\" >qda</th>\n",
       "      <td id=\"T_39c01_row11_col0\" class=\"data row11 col0\" >Quadratic Discriminant Analysis</td>\n",
       "      <td id=\"T_39c01_row11_col1\" class=\"data row11 col1\" >0.7914</td>\n",
       "      <td id=\"T_39c01_row11_col2\" class=\"data row11 col2\" >0.5308</td>\n",
       "      <td id=\"T_39c01_row11_col3\" class=\"data row11 col3\" >0.0158</td>\n",
       "      <td id=\"T_39c01_row11_col4\" class=\"data row11 col4\" >0.2725</td>\n",
       "      <td id=\"T_39c01_row11_col5\" class=\"data row11 col5\" >0.0299</td>\n",
       "      <td id=\"T_39c01_row11_col6\" class=\"data row11 col6\" >0.0078</td>\n",
       "      <td id=\"T_39c01_row11_col7\" class=\"data row11 col7\" >0.0188</td>\n",
       "      <td id=\"T_39c01_row11_col8\" class=\"data row11 col8\" >0.4980</td>\n",
       "    </tr>\n",
       "    <tr>\n",
       "      <th id=\"T_39c01_level0_row12\" class=\"row_heading level0 row12\" >nb</th>\n",
       "      <td id=\"T_39c01_row12_col0\" class=\"data row12 col0\" >Naive Bayes</td>\n",
       "      <td id=\"T_39c01_row12_col1\" class=\"data row12 col1\" >0.7913</td>\n",
       "      <td id=\"T_39c01_row12_col2\" class=\"data row12 col2\" >0.5308</td>\n",
       "      <td id=\"T_39c01_row12_col3\" class=\"data row12 col3\" >0.0162</td>\n",
       "      <td id=\"T_39c01_row12_col4\" class=\"data row12 col4\" >0.2729</td>\n",
       "      <td id=\"T_39c01_row12_col5\" class=\"data row12 col5\" >0.0306</td>\n",
       "      <td id=\"T_39c01_row12_col6\" class=\"data row12 col6\" >0.0080</td>\n",
       "      <td id=\"T_39c01_row12_col7\" class=\"data row12 col7\" >0.0191</td>\n",
       "      <td id=\"T_39c01_row12_col8\" class=\"data row12 col8\" >0.5050</td>\n",
       "    </tr>\n",
       "    <tr>\n",
       "      <th id=\"T_39c01_level0_row13\" class=\"row_heading level0 row13\" >svm</th>\n",
       "      <td id=\"T_39c01_row13_col0\" class=\"data row13 col0\" >SVM - Linear Kernel</td>\n",
       "      <td id=\"T_39c01_row13_col1\" class=\"data row13 col1\" >0.6390</td>\n",
       "      <td id=\"T_39c01_row13_col2\" class=\"data row13 col2\" >0.0000</td>\n",
       "      <td id=\"T_39c01_row13_col3\" class=\"data row13 col3\" >0.2705</td>\n",
       "      <td id=\"T_39c01_row13_col4\" class=\"data row13 col4\" >0.1323</td>\n",
       "      <td id=\"T_39c01_row13_col5\" class=\"data row13 col5\" >0.1309</td>\n",
       "      <td id=\"T_39c01_row13_col6\" class=\"data row13 col6\" >0.0011</td>\n",
       "      <td id=\"T_39c01_row13_col7\" class=\"data row13 col7\" >0.0045</td>\n",
       "      <td id=\"T_39c01_row13_col8\" class=\"data row13 col8\" >4.8140</td>\n",
       "    </tr>\n",
       "  </tbody>\n",
       "</table>\n"
      ],
      "text/plain": [
       "<pandas.io.formats.style.Styler at 0x162cf7c2d00>"
      ]
     },
     "metadata": {},
     "output_type": "display_data"
    },
    {
     "data": {
      "application/vnd.jupyter.widget-view+json": {
       "model_id": "",
       "version_major": 2,
       "version_minor": 0
      },
      "text/plain": [
       "Processing:   0%|          | 0/61 [00:00<?, ?it/s]"
      ]
     },
     "metadata": {},
     "output_type": "display_data"
    }
   ],
   "source": [
    "# Compare models\n",
    "best_model = compare_models()"
   ]
  },
  {
   "cell_type": "code",
   "execution_count": 65,
   "id": "6f688418",
   "metadata": {},
   "outputs": [
    {
     "data": {
      "text/html": [],
      "text/plain": [
       "<IPython.core.display.HTML object>"
      ]
     },
     "metadata": {},
     "output_type": "display_data"
    },
    {
     "data": {
      "text/html": [
       "<style type=\"text/css\">\n",
       "#T_5395f_row10_col0, #T_5395f_row10_col1, #T_5395f_row10_col2, #T_5395f_row10_col3, #T_5395f_row10_col4, #T_5395f_row10_col5, #T_5395f_row10_col6 {\n",
       "  background: yellow;\n",
       "}\n",
       "</style>\n",
       "<table id=\"T_5395f\">\n",
       "  <thead>\n",
       "    <tr>\n",
       "      <th class=\"blank level0\" >&nbsp;</th>\n",
       "      <th id=\"T_5395f_level0_col0\" class=\"col_heading level0 col0\" >Accuracy</th>\n",
       "      <th id=\"T_5395f_level0_col1\" class=\"col_heading level0 col1\" >AUC</th>\n",
       "      <th id=\"T_5395f_level0_col2\" class=\"col_heading level0 col2\" >Recall</th>\n",
       "      <th id=\"T_5395f_level0_col3\" class=\"col_heading level0 col3\" >Prec.</th>\n",
       "      <th id=\"T_5395f_level0_col4\" class=\"col_heading level0 col4\" >F1</th>\n",
       "      <th id=\"T_5395f_level0_col5\" class=\"col_heading level0 col5\" >Kappa</th>\n",
       "      <th id=\"T_5395f_level0_col6\" class=\"col_heading level0 col6\" >MCC</th>\n",
       "    </tr>\n",
       "    <tr>\n",
       "      <th class=\"index_name level0\" >Fold</th>\n",
       "      <th class=\"blank col0\" >&nbsp;</th>\n",
       "      <th class=\"blank col1\" >&nbsp;</th>\n",
       "      <th class=\"blank col2\" >&nbsp;</th>\n",
       "      <th class=\"blank col3\" >&nbsp;</th>\n",
       "      <th class=\"blank col4\" >&nbsp;</th>\n",
       "      <th class=\"blank col5\" >&nbsp;</th>\n",
       "      <th class=\"blank col6\" >&nbsp;</th>\n",
       "    </tr>\n",
       "  </thead>\n",
       "  <tbody>\n",
       "    <tr>\n",
       "      <th id=\"T_5395f_level0_row0\" class=\"row_heading level0 row0\" >0</th>\n",
       "      <td id=\"T_5395f_row0_col0\" class=\"data row0 col0\" >0.8566</td>\n",
       "      <td id=\"T_5395f_row0_col1\" class=\"data row0 col1\" >0.9370</td>\n",
       "      <td id=\"T_5395f_row0_col2\" class=\"data row0 col2\" >0.6256</td>\n",
       "      <td id=\"T_5395f_row0_col3\" class=\"data row0 col3\" >0.6537</td>\n",
       "      <td id=\"T_5395f_row0_col4\" class=\"data row0 col4\" >0.6393</td>\n",
       "      <td id=\"T_5395f_row0_col5\" class=\"data row0 col5\" >0.5499</td>\n",
       "      <td id=\"T_5395f_row0_col6\" class=\"data row0 col6\" >0.5501</td>\n",
       "    </tr>\n",
       "    <tr>\n",
       "      <th id=\"T_5395f_level0_row1\" class=\"row_heading level0 row1\" >1</th>\n",
       "      <td id=\"T_5395f_row1_col0\" class=\"data row1 col0\" >0.8577</td>\n",
       "      <td id=\"T_5395f_row1_col1\" class=\"data row1 col1\" >0.9385</td>\n",
       "      <td id=\"T_5395f_row1_col2\" class=\"data row1 col2\" >0.6225</td>\n",
       "      <td id=\"T_5395f_row1_col3\" class=\"data row1 col3\" >0.6586</td>\n",
       "      <td id=\"T_5395f_row1_col4\" class=\"data row1 col4\" >0.6400</td>\n",
       "      <td id=\"T_5395f_row1_col5\" class=\"data row1 col5\" >0.5514</td>\n",
       "      <td id=\"T_5395f_row1_col6\" class=\"data row1 col6\" >0.5518</td>\n",
       "    </tr>\n",
       "    <tr>\n",
       "      <th id=\"T_5395f_level0_row2\" class=\"row_heading level0 row2\" >2</th>\n",
       "      <td id=\"T_5395f_row2_col0\" class=\"data row2 col0\" >0.8573</td>\n",
       "      <td id=\"T_5395f_row2_col1\" class=\"data row2 col1\" >0.9386</td>\n",
       "      <td id=\"T_5395f_row2_col2\" class=\"data row2 col2\" >0.6288</td>\n",
       "      <td id=\"T_5395f_row2_col3\" class=\"data row2 col3\" >0.6552</td>\n",
       "      <td id=\"T_5395f_row2_col4\" class=\"data row2 col4\" >0.6417</td>\n",
       "      <td id=\"T_5395f_row2_col5\" class=\"data row2 col5\" >0.5527</td>\n",
       "      <td id=\"T_5395f_row2_col6\" class=\"data row2 col6\" >0.5529</td>\n",
       "    </tr>\n",
       "    <tr>\n",
       "      <th id=\"T_5395f_level0_row3\" class=\"row_heading level0 row3\" >3</th>\n",
       "      <td id=\"T_5395f_row3_col0\" class=\"data row3 col0\" >0.8576</td>\n",
       "      <td id=\"T_5395f_row3_col1\" class=\"data row3 col1\" >0.9379</td>\n",
       "      <td id=\"T_5395f_row3_col2\" class=\"data row3 col2\" >0.6313</td>\n",
       "      <td id=\"T_5395f_row3_col3\" class=\"data row3 col3\" >0.6554</td>\n",
       "      <td id=\"T_5395f_row3_col4\" class=\"data row3 col4\" >0.6431</td>\n",
       "      <td id=\"T_5395f_row3_col5\" class=\"data row3 col5\" >0.5543</td>\n",
       "      <td id=\"T_5395f_row3_col6\" class=\"data row3 col6\" >0.5544</td>\n",
       "    </tr>\n",
       "    <tr>\n",
       "      <th id=\"T_5395f_level0_row4\" class=\"row_heading level0 row4\" >4</th>\n",
       "      <td id=\"T_5395f_row4_col0\" class=\"data row4 col0\" >0.8575</td>\n",
       "      <td id=\"T_5395f_row4_col1\" class=\"data row4 col1\" >0.9373</td>\n",
       "      <td id=\"T_5395f_row4_col2\" class=\"data row4 col2\" >0.6275</td>\n",
       "      <td id=\"T_5395f_row4_col3\" class=\"data row4 col3\" >0.6564</td>\n",
       "      <td id=\"T_5395f_row4_col4\" class=\"data row4 col4\" >0.6416</td>\n",
       "      <td id=\"T_5395f_row4_col5\" class=\"data row4 col5\" >0.5528</td>\n",
       "      <td id=\"T_5395f_row4_col6\" class=\"data row4 col6\" >0.5530</td>\n",
       "    </tr>\n",
       "    <tr>\n",
       "      <th id=\"T_5395f_level0_row5\" class=\"row_heading level0 row5\" >5</th>\n",
       "      <td id=\"T_5395f_row5_col0\" class=\"data row5 col0\" >0.8565</td>\n",
       "      <td id=\"T_5395f_row5_col1\" class=\"data row5 col1\" >0.9372</td>\n",
       "      <td id=\"T_5395f_row5_col2\" class=\"data row5 col2\" >0.6231</td>\n",
       "      <td id=\"T_5395f_row5_col3\" class=\"data row5 col3\" >0.6543</td>\n",
       "      <td id=\"T_5395f_row5_col4\" class=\"data row5 col4\" >0.6383</td>\n",
       "      <td id=\"T_5395f_row5_col5\" class=\"data row5 col5\" >0.5488</td>\n",
       "      <td id=\"T_5395f_row5_col6\" class=\"data row5 col6\" >0.5491</td>\n",
       "    </tr>\n",
       "    <tr>\n",
       "      <th id=\"T_5395f_level0_row6\" class=\"row_heading level0 row6\" >6</th>\n",
       "      <td id=\"T_5395f_row6_col0\" class=\"data row6 col0\" >0.8557</td>\n",
       "      <td id=\"T_5395f_row6_col1\" class=\"data row6 col1\" >0.9378</td>\n",
       "      <td id=\"T_5395f_row6_col2\" class=\"data row6 col2\" >0.6225</td>\n",
       "      <td id=\"T_5395f_row6_col3\" class=\"data row6 col3\" >0.6518</td>\n",
       "      <td id=\"T_5395f_row6_col4\" class=\"data row6 col4\" >0.6368</td>\n",
       "      <td id=\"T_5395f_row6_col5\" class=\"data row6 col5\" >0.5468</td>\n",
       "      <td id=\"T_5395f_row6_col6\" class=\"data row6 col6\" >0.5471</td>\n",
       "    </tr>\n",
       "    <tr>\n",
       "      <th id=\"T_5395f_level0_row7\" class=\"row_heading level0 row7\" >7</th>\n",
       "      <td id=\"T_5395f_row7_col0\" class=\"data row7 col0\" >0.8582</td>\n",
       "      <td id=\"T_5395f_row7_col1\" class=\"data row7 col1\" >0.9384</td>\n",
       "      <td id=\"T_5395f_row7_col2\" class=\"data row7 col2\" >0.6267</td>\n",
       "      <td id=\"T_5395f_row7_col3\" class=\"data row7 col3\" >0.6590</td>\n",
       "      <td id=\"T_5395f_row7_col4\" class=\"data row7 col4\" >0.6425</td>\n",
       "      <td id=\"T_5395f_row7_col5\" class=\"data row7 col5\" >0.5541</td>\n",
       "      <td id=\"T_5395f_row7_col6\" class=\"data row7 col6\" >0.5544</td>\n",
       "    </tr>\n",
       "    <tr>\n",
       "      <th id=\"T_5395f_level0_row8\" class=\"row_heading level0 row8\" >8</th>\n",
       "      <td id=\"T_5395f_row8_col0\" class=\"data row8 col0\" >0.8591</td>\n",
       "      <td id=\"T_5395f_row8_col1\" class=\"data row8 col1\" >0.9392</td>\n",
       "      <td id=\"T_5395f_row8_col2\" class=\"data row8 col2\" >0.6292</td>\n",
       "      <td id=\"T_5395f_row8_col3\" class=\"data row8 col3\" >0.6613</td>\n",
       "      <td id=\"T_5395f_row8_col4\" class=\"data row8 col4\" >0.6448</td>\n",
       "      <td id=\"T_5395f_row8_col5\" class=\"data row8 col5\" >0.5571</td>\n",
       "      <td id=\"T_5395f_row8_col6\" class=\"data row8 col6\" >0.5573</td>\n",
       "    </tr>\n",
       "    <tr>\n",
       "      <th id=\"T_5395f_level0_row9\" class=\"row_heading level0 row9\" >9</th>\n",
       "      <td id=\"T_5395f_row9_col0\" class=\"data row9 col0\" >0.8604</td>\n",
       "      <td id=\"T_5395f_row9_col1\" class=\"data row9 col1\" >0.9402</td>\n",
       "      <td id=\"T_5395f_row9_col2\" class=\"data row9 col2\" >0.6219</td>\n",
       "      <td id=\"T_5395f_row9_col3\" class=\"data row9 col3\" >0.6680</td>\n",
       "      <td id=\"T_5395f_row9_col4\" class=\"data row9 col4\" >0.6441</td>\n",
       "      <td id=\"T_5395f_row9_col5\" class=\"data row9 col5\" >0.5574</td>\n",
       "      <td id=\"T_5395f_row9_col6\" class=\"data row9 col6\" >0.5580</td>\n",
       "    </tr>\n",
       "    <tr>\n",
       "      <th id=\"T_5395f_level0_row10\" class=\"row_heading level0 row10\" >Mean</th>\n",
       "      <td id=\"T_5395f_row10_col0\" class=\"data row10 col0\" >0.8577</td>\n",
       "      <td id=\"T_5395f_row10_col1\" class=\"data row10 col1\" >0.9382</td>\n",
       "      <td id=\"T_5395f_row10_col2\" class=\"data row10 col2\" >0.6259</td>\n",
       "      <td id=\"T_5395f_row10_col3\" class=\"data row10 col3\" >0.6574</td>\n",
       "      <td id=\"T_5395f_row10_col4\" class=\"data row10 col4\" >0.6412</td>\n",
       "      <td id=\"T_5395f_row10_col5\" class=\"data row10 col5\" >0.5525</td>\n",
       "      <td id=\"T_5395f_row10_col6\" class=\"data row10 col6\" >0.5528</td>\n",
       "    </tr>\n",
       "    <tr>\n",
       "      <th id=\"T_5395f_level0_row11\" class=\"row_heading level0 row11\" >Std</th>\n",
       "      <td id=\"T_5395f_row11_col0\" class=\"data row11 col0\" >0.0013</td>\n",
       "      <td id=\"T_5395f_row11_col1\" class=\"data row11 col1\" >0.0009</td>\n",
       "      <td id=\"T_5395f_row11_col2\" class=\"data row11 col2\" >0.0032</td>\n",
       "      <td id=\"T_5395f_row11_col3\" class=\"data row11 col3\" >0.0044</td>\n",
       "      <td id=\"T_5395f_row11_col4\" class=\"data row11 col4\" >0.0025</td>\n",
       "      <td id=\"T_5395f_row11_col5\" class=\"data row11 col5\" >0.0032</td>\n",
       "      <td id=\"T_5395f_row11_col6\" class=\"data row11 col6\" >0.0033</td>\n",
       "    </tr>\n",
       "  </tbody>\n",
       "</table>\n"
      ],
      "text/plain": [
       "<pandas.io.formats.style.Styler at 0x246a2fbad30>"
      ]
     },
     "metadata": {},
     "output_type": "display_data"
    },
    {
     "data": {
      "application/vnd.jupyter.widget-view+json": {
       "model_id": "",
       "version_major": 2,
       "version_minor": 0
      },
      "text/plain": [
       "Processing:   0%|          | 0/7 [00:00<?, ?it/s]"
      ]
     },
     "metadata": {},
     "output_type": "display_data"
    },
    {
     "name": "stdout",
     "output_type": "stream",
     "text": [
      "Fitting 10 folds for each of 10 candidates, totalling 100 fits\n"
     ]
    }
   ],
   "source": [
    "tuned_model = tune_model(best_model)"
   ]
  },
  {
   "cell_type": "code",
   "execution_count": 66,
   "id": "e3d4bce4",
   "metadata": {},
   "outputs": [
    {
     "data": {
      "text/html": [],
      "text/plain": [
       "<IPython.core.display.HTML object>"
      ]
     },
     "metadata": {},
     "output_type": "display_data"
    },
    {
     "data": {
      "image/png": "[encoded data removed]",
      "text/plain": [
       "<Figure size 432x288 with 1 Axes>"
      ]
     },
     "metadata": {
      "needs_background": "light"
     },
     "output_type": "display_data"
    }
   ],
   "source": [
    "plot_model(tuned_model, plot='confusion_matrix')"
   ]
  }
 ],
 "metadata": {
  "kernelspec": {
   "display_name": "Python 3 (ipykernel)",
   "language": "python",
   "name": "python3"
  },
  "language_info": {
   "codemirror_mode": {
    "name": "ipython",
    "version": 3
   },
   "file_extension": ".py",
   "mimetype": "text/x-python",
   "name": "python",
   "nbconvert_exporter": "python",
   "pygments_lexer": "ipython3",
   "version": "3.9.12"
  },
  "papermill": {
   "default_parameters": {},
   "duration": 302.136925,
   "end_time": "2023-02-18T06:16:31.609611",
   "environment_variables": {},
   "exception": null,
   "input_path": "__notebook__.ipynb",
   "output_path": "__notebook__.ipynb",
   "parameters": {},
   "start_time": "2023-02-18T06:11:29.472686",
   "version": "2.3.4"
  }
 },
 "nbformat": 4,
 "nbformat_minor": 5
}
