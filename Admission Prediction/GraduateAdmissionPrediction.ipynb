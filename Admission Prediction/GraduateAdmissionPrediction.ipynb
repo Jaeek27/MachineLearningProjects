{
 "cells": [
  {
   "cell_type": "markdown",
   "id": "43db03fa",
   "metadata": {},
   "source": [
    "# Understanding the data\n",
    "\n",
    "### Variables\n",
    "\n",
    "- ****Serial No.**** - Unique row ID\n",
    "- ****GRE Scores**** -  Out of 340\n",
    "- ****TOEFL Scores**** - Out of 120\n",
    "- ****University Rating**** - Out of 5\n",
    "- ****Statement of Purpose**** - Strength Out of 5\n",
    "- ****Letter of Recommendation**** - Strength Out of 5\n",
    "- ****Undergraduate GPA**** - Out of 10\n",
    "- ****Research Experience**** - Either 0 or 1\n",
    "- ****Chance of Admit**** - Ranging from 0 to 1"
   ]
  },
  {
   "cell_type": "markdown",
   "id": "1245a8b7",
   "metadata": {},
   "source": [
    "# Importing Required Libraries"
   ]
  },
  {
   "cell_type": "code",
   "execution_count": 1,
   "id": "2c5c87a9",
   "metadata": {},
   "outputs": [],
   "source": [
    "import numpy as np\n",
    "import pandas as pd\n",
    "import matplotlib.pyplot as plt\n",
    "import seaborn as sns\n",
    "from scipy import stats\n",
    "from sklearn.preprocessing import MinMaxScaler,StandardScaler\n",
    "import statsmodels.api as sm\n",
    "from statsmodels.stats.outliers_influence import variance_inflation_factor\n",
    "from sklearn.model_selection import train_test_split\n",
    "from sklearn.linear_model import LinearRegression\n",
    "from sklearn.metrics import mean_absolute_error,mean_squared_error,mean_absolute_percentage_error\n",
    "from statsmodels.stats.diagnostic import het_white"
   ]
  },
  {
   "cell_type": "code",
   "execution_count": 2,
   "id": "eb27946b",
   "metadata": {
    "execution": {
     "iopub.execute_input": "2022-04-21T15:46:47.297514Z",
     "iopub.status.busy": "2022-04-21T15:46:47.297244Z",
     "iopub.status.idle": "2022-04-21T15:46:47.313340Z",
     "shell.execute_reply": "2022-04-21T15:46:47.312567Z"
    },
    "papermill": {
     "duration": 0.11155,
     "end_time": "2022-04-21T15:46:47.315481",
     "exception": false,
     "start_time": "2022-04-21T15:46:47.203931",
     "status": "completed"
    },
    "tags": []
   },
   "outputs": [],
   "source": [
    "data = pd.read_csv('AdmissionData.csv')"
   ]
  },
  {
   "cell_type": "code",
   "execution_count": 3,
   "id": "6811ded1",
   "metadata": {
    "execution": {
     "iopub.execute_input": "2022-04-21T15:46:47.503415Z",
     "iopub.status.busy": "2022-04-21T15:46:47.502952Z",
     "iopub.status.idle": "2022-04-21T15:46:47.522486Z",
     "shell.execute_reply": "2022-04-21T15:46:47.521939Z"
    },
    "papermill": {
     "duration": 0.11485,
     "end_time": "2022-04-21T15:46:47.524462",
     "exception": false,
     "start_time": "2022-04-21T15:46:47.409612",
     "status": "completed"
    },
    "tags": []
   },
   "outputs": [
    {
     "data": {
      "text/html": [
       "<div>\n",
       "<style scoped>\n",
       "    .dataframe tbody tr th:only-of-type {\n",
       "        vertical-align: middle;\n",
       "    }\n",
       "\n",
       "    .dataframe tbody tr th {\n",
       "        vertical-align: top;\n",
       "    }\n",
       "\n",
       "    .dataframe thead th {\n",
       "        text-align: right;\n",
       "    }\n",
       "</style>\n",
       "<table border=\"1\" class=\"dataframe\">\n",
       "  <thead>\n",
       "    <tr style=\"text-align: right;\">\n",
       "      <th></th>\n",
       "      <th>Serial No.</th>\n",
       "      <th>GRE Score</th>\n",
       "      <th>TOEFL Score</th>\n",
       "      <th>University Rating</th>\n",
       "      <th>SOP</th>\n",
       "      <th>LOR</th>\n",
       "      <th>CGPA</th>\n",
       "      <th>Research</th>\n",
       "      <th>Chance of Admit</th>\n",
       "    </tr>\n",
       "  </thead>\n",
       "  <tbody>\n",
       "    <tr>\n",
       "      <th>0</th>\n",
       "      <td>1</td>\n",
       "      <td>337</td>\n",
       "      <td>118</td>\n",
       "      <td>4</td>\n",
       "      <td>4.5</td>\n",
       "      <td>4.5</td>\n",
       "      <td>9.65</td>\n",
       "      <td>1</td>\n",
       "      <td>0.92</td>\n",
       "    </tr>\n",
       "    <tr>\n",
       "      <th>1</th>\n",
       "      <td>2</td>\n",
       "      <td>324</td>\n",
       "      <td>107</td>\n",
       "      <td>4</td>\n",
       "      <td>4.0</td>\n",
       "      <td>4.5</td>\n",
       "      <td>8.87</td>\n",
       "      <td>1</td>\n",
       "      <td>0.76</td>\n",
       "    </tr>\n",
       "    <tr>\n",
       "      <th>2</th>\n",
       "      <td>3</td>\n",
       "      <td>316</td>\n",
       "      <td>104</td>\n",
       "      <td>3</td>\n",
       "      <td>3.0</td>\n",
       "      <td>3.5</td>\n",
       "      <td>8.00</td>\n",
       "      <td>1</td>\n",
       "      <td>0.72</td>\n",
       "    </tr>\n",
       "    <tr>\n",
       "      <th>3</th>\n",
       "      <td>4</td>\n",
       "      <td>322</td>\n",
       "      <td>110</td>\n",
       "      <td>3</td>\n",
       "      <td>3.5</td>\n",
       "      <td>2.5</td>\n",
       "      <td>8.67</td>\n",
       "      <td>1</td>\n",
       "      <td>0.80</td>\n",
       "    </tr>\n",
       "    <tr>\n",
       "      <th>4</th>\n",
       "      <td>5</td>\n",
       "      <td>314</td>\n",
       "      <td>103</td>\n",
       "      <td>2</td>\n",
       "      <td>2.0</td>\n",
       "      <td>3.0</td>\n",
       "      <td>8.21</td>\n",
       "      <td>0</td>\n",
       "      <td>0.65</td>\n",
       "    </tr>\n",
       "  </tbody>\n",
       "</table>\n",
       "</div>"
      ],
      "text/plain": [
       "   Serial No.  GRE Score  TOEFL Score  University Rating  SOP  LOR   CGPA  \\\n",
       "0           1        337          118                  4  4.5   4.5  9.65   \n",
       "1           2        324          107                  4  4.0   4.5  8.87   \n",
       "2           3        316          104                  3  3.0   3.5  8.00   \n",
       "3           4        322          110                  3  3.5   2.5  8.67   \n",
       "4           5        314          103                  2  2.0   3.0  8.21   \n",
       "\n",
       "   Research  Chance of Admit   \n",
       "0         1              0.92  \n",
       "1         1              0.76  \n",
       "2         1              0.72  \n",
       "3         1              0.80  \n",
       "4         0              0.65  "
      ]
     },
     "execution_count": 3,
     "metadata": {},
     "output_type": "execute_result"
    }
   ],
   "source": [
    "data.head()"
   ]
  },
  {
   "cell_type": "code",
   "execution_count": 4,
   "id": "e123e6b5",
   "metadata": {
    "execution": {
     "iopub.execute_input": "2022-04-21T15:46:47.714410Z",
     "iopub.status.busy": "2022-04-21T15:46:47.714130Z",
     "iopub.status.idle": "2022-04-21T15:46:47.737173Z",
     "shell.execute_reply": "2022-04-21T15:46:47.736366Z"
    },
    "papermill": {
     "duration": 0.122742,
     "end_time": "2022-04-21T15:46:47.739370",
     "exception": false,
     "start_time": "2022-04-21T15:46:47.616628",
     "status": "completed"
    },
    "tags": []
   },
   "outputs": [
    {
     "name": "stdout",
     "output_type": "stream",
     "text": [
      "<class 'pandas.core.frame.DataFrame'>\n",
      "RangeIndex: 500 entries, 0 to 499\n",
      "Data columns (total 9 columns):\n",
      " #   Column             Non-Null Count  Dtype  \n",
      "---  ------             --------------  -----  \n",
      " 0   Serial No.         500 non-null    int64  \n",
      " 1   GRE Score          500 non-null    int64  \n",
      " 2   TOEFL Score        500 non-null    int64  \n",
      " 3   University Rating  500 non-null    int64  \n",
      " 4   SOP                500 non-null    float64\n",
      " 5   LOR                500 non-null    float64\n",
      " 6   CGPA               500 non-null    float64\n",
      " 7   Research           500 non-null    int64  \n",
      " 8   Chance of Admit    500 non-null    float64\n",
      "dtypes: float64(4), int64(5)\n",
      "memory usage: 35.3 KB\n"
     ]
    }
   ],
   "source": [
    "data.info()"
   ]
  },
  {
   "cell_type": "markdown",
   "id": "390be36b",
   "metadata": {
    "papermill": {
     "duration": 0.092186,
     "end_time": "2022-04-21T15:46:47.925245",
     "exception": false,
     "start_time": "2022-04-21T15:46:47.833059",
     "status": "completed"
    },
    "tags": []
   },
   "source": [
    "****Here we can see that all columns are numerical in nature.****"
   ]
  },
  {
   "cell_type": "code",
   "execution_count": 5,
   "id": "81900ac8",
   "metadata": {
    "execution": {
     "iopub.execute_input": "2022-04-21T15:46:48.114623Z",
     "iopub.status.busy": "2022-04-21T15:46:48.114337Z",
     "iopub.status.idle": "2022-04-21T15:46:48.152457Z",
     "shell.execute_reply": "2022-04-21T15:46:48.151619Z"
    },
    "papermill": {
     "duration": 0.136498,
     "end_time": "2022-04-21T15:46:48.154653",
     "exception": false,
     "start_time": "2022-04-21T15:46:48.018155",
     "status": "completed"
    },
    "tags": []
   },
   "outputs": [
    {
     "data": {
      "text/html": [
       "<div>\n",
       "<style scoped>\n",
       "    .dataframe tbody tr th:only-of-type {\n",
       "        vertical-align: middle;\n",
       "    }\n",
       "\n",
       "    .dataframe tbody tr th {\n",
       "        vertical-align: top;\n",
       "    }\n",
       "\n",
       "    .dataframe thead th {\n",
       "        text-align: right;\n",
       "    }\n",
       "</style>\n",
       "<table border=\"1\" class=\"dataframe\">\n",
       "  <thead>\n",
       "    <tr style=\"text-align: right;\">\n",
       "      <th></th>\n",
       "      <th>Serial No.</th>\n",
       "      <th>GRE Score</th>\n",
       "      <th>TOEFL Score</th>\n",
       "      <th>University Rating</th>\n",
       "      <th>SOP</th>\n",
       "      <th>LOR</th>\n",
       "      <th>CGPA</th>\n",
       "      <th>Research</th>\n",
       "      <th>Chance of Admit</th>\n",
       "    </tr>\n",
       "  </thead>\n",
       "  <tbody>\n",
       "    <tr>\n",
       "      <th>count</th>\n",
       "      <td>500.000000</td>\n",
       "      <td>500.000000</td>\n",
       "      <td>500.000000</td>\n",
       "      <td>500.000000</td>\n",
       "      <td>500.000000</td>\n",
       "      <td>500.00000</td>\n",
       "      <td>500.000000</td>\n",
       "      <td>500.000000</td>\n",
       "      <td>500.00000</td>\n",
       "    </tr>\n",
       "    <tr>\n",
       "      <th>mean</th>\n",
       "      <td>250.500000</td>\n",
       "      <td>316.472000</td>\n",
       "      <td>107.192000</td>\n",
       "      <td>3.114000</td>\n",
       "      <td>3.374000</td>\n",
       "      <td>3.48400</td>\n",
       "      <td>8.576440</td>\n",
       "      <td>0.560000</td>\n",
       "      <td>0.72174</td>\n",
       "    </tr>\n",
       "    <tr>\n",
       "      <th>std</th>\n",
       "      <td>144.481833</td>\n",
       "      <td>11.295148</td>\n",
       "      <td>6.081868</td>\n",
       "      <td>1.143512</td>\n",
       "      <td>0.991004</td>\n",
       "      <td>0.92545</td>\n",
       "      <td>0.604813</td>\n",
       "      <td>0.496884</td>\n",
       "      <td>0.14114</td>\n",
       "    </tr>\n",
       "    <tr>\n",
       "      <th>min</th>\n",
       "      <td>1.000000</td>\n",
       "      <td>290.000000</td>\n",
       "      <td>92.000000</td>\n",
       "      <td>1.000000</td>\n",
       "      <td>1.000000</td>\n",
       "      <td>1.00000</td>\n",
       "      <td>6.800000</td>\n",
       "      <td>0.000000</td>\n",
       "      <td>0.34000</td>\n",
       "    </tr>\n",
       "    <tr>\n",
       "      <th>25%</th>\n",
       "      <td>125.750000</td>\n",
       "      <td>308.000000</td>\n",
       "      <td>103.000000</td>\n",
       "      <td>2.000000</td>\n",
       "      <td>2.500000</td>\n",
       "      <td>3.00000</td>\n",
       "      <td>8.127500</td>\n",
       "      <td>0.000000</td>\n",
       "      <td>0.63000</td>\n",
       "    </tr>\n",
       "    <tr>\n",
       "      <th>50%</th>\n",
       "      <td>250.500000</td>\n",
       "      <td>317.000000</td>\n",
       "      <td>107.000000</td>\n",
       "      <td>3.000000</td>\n",
       "      <td>3.500000</td>\n",
       "      <td>3.50000</td>\n",
       "      <td>8.560000</td>\n",
       "      <td>1.000000</td>\n",
       "      <td>0.72000</td>\n",
       "    </tr>\n",
       "    <tr>\n",
       "      <th>75%</th>\n",
       "      <td>375.250000</td>\n",
       "      <td>325.000000</td>\n",
       "      <td>112.000000</td>\n",
       "      <td>4.000000</td>\n",
       "      <td>4.000000</td>\n",
       "      <td>4.00000</td>\n",
       "      <td>9.040000</td>\n",
       "      <td>1.000000</td>\n",
       "      <td>0.82000</td>\n",
       "    </tr>\n",
       "    <tr>\n",
       "      <th>max</th>\n",
       "      <td>500.000000</td>\n",
       "      <td>340.000000</td>\n",
       "      <td>120.000000</td>\n",
       "      <td>5.000000</td>\n",
       "      <td>5.000000</td>\n",
       "      <td>5.00000</td>\n",
       "      <td>9.920000</td>\n",
       "      <td>1.000000</td>\n",
       "      <td>0.97000</td>\n",
       "    </tr>\n",
       "  </tbody>\n",
       "</table>\n",
       "</div>"
      ],
      "text/plain": [
       "       Serial No.   GRE Score  TOEFL Score  University Rating         SOP  \\\n",
       "count  500.000000  500.000000   500.000000         500.000000  500.000000   \n",
       "mean   250.500000  316.472000   107.192000           3.114000    3.374000   \n",
       "std    144.481833   11.295148     6.081868           1.143512    0.991004   \n",
       "min      1.000000  290.000000    92.000000           1.000000    1.000000   \n",
       "25%    125.750000  308.000000   103.000000           2.000000    2.500000   \n",
       "50%    250.500000  317.000000   107.000000           3.000000    3.500000   \n",
       "75%    375.250000  325.000000   112.000000           4.000000    4.000000   \n",
       "max    500.000000  340.000000   120.000000           5.000000    5.000000   \n",
       "\n",
       "            LOR         CGPA    Research  Chance of Admit   \n",
       "count  500.00000  500.000000  500.000000         500.00000  \n",
       "mean     3.48400    8.576440    0.560000           0.72174  \n",
       "std      0.92545    0.604813    0.496884           0.14114  \n",
       "min      1.00000    6.800000    0.000000           0.34000  \n",
       "25%      3.00000    8.127500    0.000000           0.63000  \n",
       "50%      3.50000    8.560000    1.000000           0.72000  \n",
       "75%      4.00000    9.040000    1.000000           0.82000  \n",
       "max      5.00000    9.920000    1.000000           0.97000  "
      ]
     },
     "execution_count": 5,
     "metadata": {},
     "output_type": "execute_result"
    }
   ],
   "source": [
    "data.describe()"
   ]
  },
  {
   "cell_type": "markdown",
   "id": "2b5bae91",
   "metadata": {
    "papermill": {
     "duration": 0.092839,
     "end_time": "2022-04-21T15:46:48.340450",
     "exception": false,
     "start_time": "2022-04-21T15:46:48.247611",
     "status": "completed"
    },
    "tags": []
   },
   "source": [
    "### From the above table we can say - \n",
    "- Serial is unique to each record and hence can be dropped.\n",
    "- University Rating, SOP, LOR and Research are categorical in nature."
   ]
  },
  {
   "cell_type": "markdown",
   "id": "71c21b45",
   "metadata": {
    "papermill": {
     "duration": 0.0928,
     "end_time": "2022-04-21T15:46:48.526200",
     "exception": false,
     "start_time": "2022-04-21T15:46:48.433400",
     "status": "completed"
    },
    "tags": []
   },
   "source": [
    "### Dropping 'Serial No.' column."
   ]
  },
  {
   "cell_type": "code",
   "execution_count": 6,
   "id": "48aa7861",
   "metadata": {
    "execution": {
     "iopub.execute_input": "2022-04-21T15:46:48.716389Z",
     "iopub.status.busy": "2022-04-21T15:46:48.716100Z",
     "iopub.status.idle": "2022-04-21T15:46:48.721050Z",
     "shell.execute_reply": "2022-04-21T15:46:48.720210Z"
    },
    "papermill": {
     "duration": 0.102703,
     "end_time": "2022-04-21T15:46:48.723038",
     "exception": false,
     "start_time": "2022-04-21T15:46:48.620335",
     "status": "completed"
    },
    "tags": []
   },
   "outputs": [],
   "source": [
    "data.drop(columns=['Serial No.'],inplace=True)"
   ]
  },
  {
   "cell_type": "code",
   "execution_count": 7,
   "id": "3b6c8a14",
   "metadata": {
    "execution": {
     "iopub.execute_input": "2022-04-21T15:46:48.909822Z",
     "iopub.status.busy": "2022-04-21T15:46:48.909495Z",
     "iopub.status.idle": "2022-04-21T15:46:48.923168Z",
     "shell.execute_reply": "2022-04-21T15:46:48.922299Z"
    },
    "papermill": {
     "duration": 0.109583,
     "end_time": "2022-04-21T15:46:48.925038",
     "exception": false,
     "start_time": "2022-04-21T15:46:48.815455",
     "status": "completed"
    },
    "tags": []
   },
   "outputs": [
    {
     "data": {
      "text/html": [
       "<div>\n",
       "<style scoped>\n",
       "    .dataframe tbody tr th:only-of-type {\n",
       "        vertical-align: middle;\n",
       "    }\n",
       "\n",
       "    .dataframe tbody tr th {\n",
       "        vertical-align: top;\n",
       "    }\n",
       "\n",
       "    .dataframe thead th {\n",
       "        text-align: right;\n",
       "    }\n",
       "</style>\n",
       "<table border=\"1\" class=\"dataframe\">\n",
       "  <thead>\n",
       "    <tr style=\"text-align: right;\">\n",
       "      <th></th>\n",
       "      <th>GRE Score</th>\n",
       "      <th>TOEFL Score</th>\n",
       "      <th>University Rating</th>\n",
       "      <th>SOP</th>\n",
       "      <th>LOR</th>\n",
       "      <th>CGPA</th>\n",
       "      <th>Research</th>\n",
       "      <th>Chance of Admit</th>\n",
       "    </tr>\n",
       "  </thead>\n",
       "  <tbody>\n",
       "    <tr>\n",
       "      <th>0</th>\n",
       "      <td>337</td>\n",
       "      <td>118</td>\n",
       "      <td>4</td>\n",
       "      <td>4.5</td>\n",
       "      <td>4.5</td>\n",
       "      <td>9.65</td>\n",
       "      <td>1</td>\n",
       "      <td>0.92</td>\n",
       "    </tr>\n",
       "    <tr>\n",
       "      <th>1</th>\n",
       "      <td>324</td>\n",
       "      <td>107</td>\n",
       "      <td>4</td>\n",
       "      <td>4.0</td>\n",
       "      <td>4.5</td>\n",
       "      <td>8.87</td>\n",
       "      <td>1</td>\n",
       "      <td>0.76</td>\n",
       "    </tr>\n",
       "    <tr>\n",
       "      <th>2</th>\n",
       "      <td>316</td>\n",
       "      <td>104</td>\n",
       "      <td>3</td>\n",
       "      <td>3.0</td>\n",
       "      <td>3.5</td>\n",
       "      <td>8.00</td>\n",
       "      <td>1</td>\n",
       "      <td>0.72</td>\n",
       "    </tr>\n",
       "    <tr>\n",
       "      <th>3</th>\n",
       "      <td>322</td>\n",
       "      <td>110</td>\n",
       "      <td>3</td>\n",
       "      <td>3.5</td>\n",
       "      <td>2.5</td>\n",
       "      <td>8.67</td>\n",
       "      <td>1</td>\n",
       "      <td>0.80</td>\n",
       "    </tr>\n",
       "    <tr>\n",
       "      <th>4</th>\n",
       "      <td>314</td>\n",
       "      <td>103</td>\n",
       "      <td>2</td>\n",
       "      <td>2.0</td>\n",
       "      <td>3.0</td>\n",
       "      <td>8.21</td>\n",
       "      <td>0</td>\n",
       "      <td>0.65</td>\n",
       "    </tr>\n",
       "  </tbody>\n",
       "</table>\n",
       "</div>"
      ],
      "text/plain": [
       "   GRE Score  TOEFL Score  University Rating  SOP  LOR   CGPA  Research  \\\n",
       "0        337          118                  4  4.5   4.5  9.65         1   \n",
       "1        324          107                  4  4.0   4.5  8.87         1   \n",
       "2        316          104                  3  3.0   3.5  8.00         1   \n",
       "3        322          110                  3  3.5   2.5  8.67         1   \n",
       "4        314          103                  2  2.0   3.0  8.21         0   \n",
       "\n",
       "   Chance of Admit   \n",
       "0              0.92  \n",
       "1              0.76  \n",
       "2              0.72  \n",
       "3              0.80  \n",
       "4              0.65  "
      ]
     },
     "execution_count": 7,
     "metadata": {},
     "output_type": "execute_result"
    }
   ],
   "source": [
    "data.head()"
   ]
  },
  {
   "cell_type": "code",
   "execution_count": 8,
   "id": "f31e8581",
   "metadata": {
    "execution": {
     "iopub.execute_input": "2022-04-21T15:46:49.116939Z",
     "iopub.status.busy": "2022-04-21T15:46:49.116622Z",
     "iopub.status.idle": "2022-04-21T15:46:49.123987Z",
     "shell.execute_reply": "2022-04-21T15:46:49.123430Z"
    },
    "papermill": {
     "duration": 0.105375,
     "end_time": "2022-04-21T15:46:49.125671",
     "exception": false,
     "start_time": "2022-04-21T15:46:49.020296",
     "status": "completed"
    },
    "tags": []
   },
   "outputs": [
    {
     "data": {
      "text/plain": [
       "GRE Score            0\n",
       "TOEFL Score          0\n",
       "University Rating    0\n",
       "SOP                  0\n",
       "LOR                  0\n",
       "CGPA                 0\n",
       "Research             0\n",
       "Chance of Admit      0\n",
       "dtype: int64"
      ]
     },
     "execution_count": 8,
     "metadata": {},
     "output_type": "execute_result"
    }
   ],
   "source": [
    "data.isnull().sum()"
   ]
  },
  {
   "cell_type": "markdown",
   "id": "104f69a5",
   "metadata": {
    "papermill": {
     "duration": 0.095022,
     "end_time": "2022-04-21T15:46:49.315034",
     "exception": false,
     "start_time": "2022-04-21T15:46:49.220012",
     "status": "completed"
    },
    "tags": []
   },
   "source": [
    "****No null value present in the dataset.****"
   ]
  },
  {
   "cell_type": "markdown",
   "id": "2ac2c21e",
   "metadata": {
    "papermill": {
     "duration": 0.096413,
     "end_time": "2022-04-21T15:46:49.506151",
     "exception": false,
     "start_time": "2022-04-21T15:46:49.409738",
     "status": "completed"
    },
    "tags": []
   },
   "source": [
    "<hr>"
   ]
  },
  {
   "cell_type": "markdown",
   "id": "56525a7f",
   "metadata": {
    "execution": {
     "iopub.execute_input": "2022-04-21T15:17:36.662710Z",
     "iopub.status.busy": "2022-04-21T15:17:36.662412Z",
     "iopub.status.idle": "2022-04-21T15:17:36.667826Z",
     "shell.execute_reply": "2022-04-21T15:17:36.666913Z",
     "shell.execute_reply.started": "2022-04-21T15:17:36.662680Z"
    },
    "papermill": {
     "duration": 0.09412,
     "end_time": "2022-04-21T15:46:49.698625",
     "exception": false,
     "start_time": "2022-04-21T15:46:49.604505",
     "status": "completed"
    },
    "tags": []
   },
   "source": [
    "# Data Analysis"
   ]
  },
  {
   "cell_type": "code",
   "execution_count": 11,
   "id": "cf1dabe6",
   "metadata": {
    "execution": {
     "iopub.execute_input": "2022-04-21T15:46:49.888433Z",
     "iopub.status.busy": "2022-04-21T15:46:49.888152Z",
     "iopub.status.idle": "2022-04-21T15:46:49.894834Z",
     "shell.execute_reply": "2022-04-21T15:46:49.894320Z"
    },
    "papermill": {
     "duration": 0.103231,
     "end_time": "2022-04-21T15:46:49.896428",
     "exception": false,
     "start_time": "2022-04-21T15:46:49.793197",
     "status": "completed"
    },
    "tags": []
   },
   "outputs": [
    {
     "data": {
      "text/plain": [
       "1    280\n",
       "0    220\n",
       "Name: Research, dtype: int64"
      ]
     },
     "execution_count": 11,
     "metadata": {},
     "output_type": "execute_result"
    }
   ],
   "source": [
    "data['Research'].value_counts().sort_values(ascending=False)"
   ]
  },
  {
   "cell_type": "markdown",
   "id": "8e0da730",
   "metadata": {
    "papermill": {
     "duration": 0.094733,
     "end_time": "2022-04-21T15:46:50.084742",
     "exception": false,
     "start_time": "2022-04-21T15:46:49.990009",
     "status": "completed"
    },
    "tags": []
   },
   "source": [
    "****Records with Research is more than the records without research.****"
   ]
  },
  {
   "cell_type": "code",
   "execution_count": 12,
   "id": "c3fb1da5",
   "metadata": {
    "execution": {
     "iopub.execute_input": "2022-04-21T15:46:50.275905Z",
     "iopub.status.busy": "2022-04-21T15:46:50.275639Z",
     "iopub.status.idle": "2022-04-21T15:46:50.282586Z",
     "shell.execute_reply": "2022-04-21T15:46:50.281827Z"
    },
    "papermill": {
     "duration": 0.105287,
     "end_time": "2022-04-21T15:46:50.284434",
     "exception": false,
     "start_time": "2022-04-21T15:46:50.179147",
     "status": "completed"
    },
    "tags": []
   },
   "outputs": [
    {
     "data": {
      "text/plain": [
       "1     34\n",
       "5     73\n",
       "4    105\n",
       "2    126\n",
       "3    162\n",
       "Name: University Rating, dtype: int64"
      ]
     },
     "execution_count": 12,
     "metadata": {},
     "output_type": "execute_result"
    }
   ],
   "source": [
    "data['University Rating'].value_counts(ascending=True)"
   ]
  },
  {
   "cell_type": "markdown",
   "id": "369e1a5d",
   "metadata": {
    "papermill": {
     "duration": 0.09449,
     "end_time": "2022-04-21T15:46:50.474185",
     "exception": false,
     "start_time": "2022-04-21T15:46:50.379695",
     "status": "completed"
    },
    "tags": []
   },
   "source": [
    "<b>Most of the application recieved is having University Rating as 2,3 and 4.<b>"
   ]
  },
  {
   "cell_type": "code",
   "execution_count": 13,
   "id": "2c037d78",
   "metadata": {
    "execution": {
     "iopub.execute_input": "2022-04-21T15:46:50.666020Z",
     "iopub.status.busy": "2022-04-21T15:46:50.665756Z",
     "iopub.status.idle": "2022-04-21T15:46:50.675408Z",
     "shell.execute_reply": "2022-04-21T15:46:50.674619Z"
    },
    "papermill": {
     "duration": 0.108469,
     "end_time": "2022-04-21T15:46:50.677332",
     "exception": false,
     "start_time": "2022-04-21T15:46:50.568863",
     "status": "completed"
    },
    "tags": []
   },
   "outputs": [
    {
     "data": {
      "text/plain": [
       "4.0    89\n",
       "3.5    88\n",
       "3.0    80\n",
       "2.5    64\n",
       "4.5    63\n",
       "2.0    43\n",
       "5.0    42\n",
       "1.5    25\n",
       "1.0     6\n",
       "Name: SOP, dtype: int64"
      ]
     },
     "execution_count": 13,
     "metadata": {},
     "output_type": "execute_result"
    }
   ],
   "source": [
    "data['SOP'].value_counts(ascending=False)"
   ]
  },
  {
   "cell_type": "markdown",
   "id": "a4d14447",
   "metadata": {
    "papermill": {
     "duration": 0.095978,
     "end_time": "2022-04-21T15:46:50.870644",
     "exception": false,
     "start_time": "2022-04-21T15:46:50.774666",
     "status": "completed"
    },
    "tags": []
   },
   "source": [
    "****Most common SOP strength is around 2.5 to 4.5.****"
   ]
  },
  {
   "cell_type": "code",
   "execution_count": 14,
   "id": "24e0e930",
   "metadata": {
    "execution": {
     "iopub.execute_input": "2022-04-21T15:46:51.063499Z",
     "iopub.status.busy": "2022-04-21T15:46:51.063205Z",
     "iopub.status.idle": "2022-04-21T15:46:51.070990Z",
     "shell.execute_reply": "2022-04-21T15:46:51.070368Z"
    },
    "papermill": {
     "duration": 0.106617,
     "end_time": "2022-04-21T15:46:51.072839",
     "exception": false,
     "start_time": "2022-04-21T15:46:50.966222",
     "status": "completed"
    },
    "tags": []
   },
   "outputs": [
    {
     "data": {
      "text/plain": [
       "3.0    99\n",
       "4.0    94\n",
       "3.5    86\n",
       "4.5    63\n",
       "2.5    50\n",
       "5.0    50\n",
       "2.0    46\n",
       "1.5    11\n",
       "1.0     1\n",
       "Name: LOR , dtype: int64"
      ]
     },
     "execution_count": 14,
     "metadata": {},
     "output_type": "execute_result"
    }
   ],
   "source": [
    "data['LOR '].value_counts(ascending=False)"
   ]
  },
  {
   "cell_type": "markdown",
   "id": "1285be62",
   "metadata": {
    "papermill": {
     "duration": 0.094679,
     "end_time": "2022-04-21T15:46:51.263104",
     "exception": false,
     "start_time": "2022-04-21T15:46:51.168425",
     "status": "completed"
    },
    "tags": []
   },
   "source": [
    "****LOR with strength in between 3 to 4.5 has most number of records.****"
   ]
  },
  {
   "cell_type": "code",
   "execution_count": 15,
   "id": "063acf5c",
   "metadata": {
    "execution": {
     "iopub.execute_input": "2022-04-21T15:46:51.458106Z",
     "iopub.status.busy": "2022-04-21T15:46:51.457840Z",
     "iopub.status.idle": "2022-04-21T15:46:51.474123Z",
     "shell.execute_reply": "2022-04-21T15:46:51.473318Z"
    },
    "papermill": {
     "duration": 0.116965,
     "end_time": "2022-04-21T15:46:51.475991",
     "exception": false,
     "start_time": "2022-04-21T15:46:51.359026",
     "status": "completed"
    },
    "tags": []
   },
   "outputs": [
    {
     "data": {
      "text/html": [
       "<div>\n",
       "<style scoped>\n",
       "    .dataframe tbody tr th:only-of-type {\n",
       "        vertical-align: middle;\n",
       "    }\n",
       "\n",
       "    .dataframe tbody tr th {\n",
       "        vertical-align: top;\n",
       "    }\n",
       "\n",
       "    .dataframe thead tr th {\n",
       "        text-align: left;\n",
       "    }\n",
       "</style>\n",
       "<table border=\"1\" class=\"dataframe\">\n",
       "  <thead>\n",
       "    <tr>\n",
       "      <th></th>\n",
       "      <th>University Rating</th>\n",
       "      <th>GRE Score</th>\n",
       "    </tr>\n",
       "    <tr>\n",
       "      <th></th>\n",
       "      <th></th>\n",
       "      <th>mean</th>\n",
       "    </tr>\n",
       "  </thead>\n",
       "  <tbody>\n",
       "    <tr>\n",
       "      <th>0</th>\n",
       "      <td>1</td>\n",
       "      <td>304.911765</td>\n",
       "    </tr>\n",
       "    <tr>\n",
       "      <th>1</th>\n",
       "      <td>2</td>\n",
       "      <td>309.134921</td>\n",
       "    </tr>\n",
       "    <tr>\n",
       "      <th>2</th>\n",
       "      <td>3</td>\n",
       "      <td>315.030864</td>\n",
       "    </tr>\n",
       "    <tr>\n",
       "      <th>3</th>\n",
       "      <td>4</td>\n",
       "      <td>323.304762</td>\n",
       "    </tr>\n",
       "    <tr>\n",
       "      <th>4</th>\n",
       "      <td>5</td>\n",
       "      <td>327.890411</td>\n",
       "    </tr>\n",
       "  </tbody>\n",
       "</table>\n",
       "</div>"
      ],
      "text/plain": [
       "  University Rating   GRE Score\n",
       "                           mean\n",
       "0                 1  304.911765\n",
       "1                 2  309.134921\n",
       "2                 3  315.030864\n",
       "3                 4  323.304762\n",
       "4                 5  327.890411"
      ]
     },
     "execution_count": 15,
     "metadata": {},
     "output_type": "execute_result"
    }
   ],
   "source": [
    "gre = data.groupby(['University Rating']).agg({'GRE Score':['mean']})\n",
    "gre.reset_index()"
   ]
  },
  {
   "cell_type": "markdown",
   "id": "59cca426",
   "metadata": {
    "papermill": {
     "duration": 0.097359,
     "end_time": "2022-04-21T15:46:51.669852",
     "exception": false,
     "start_time": "2022-04-21T15:46:51.572493",
     "status": "completed"
    },
    "tags": []
   },
   "source": [
    "****We can the the mean GRE score increases as the university rating increases.****"
   ]
  },
  {
   "cell_type": "code",
   "execution_count": 16,
   "id": "82c1117f",
   "metadata": {
    "execution": {
     "iopub.execute_input": "2022-04-21T15:46:51.863114Z",
     "iopub.status.busy": "2022-04-21T15:46:51.862865Z",
     "iopub.status.idle": "2022-04-21T15:46:51.875504Z",
     "shell.execute_reply": "2022-04-21T15:46:51.874936Z"
    },
    "papermill": {
     "duration": 0.111908,
     "end_time": "2022-04-21T15:46:51.877315",
     "exception": false,
     "start_time": "2022-04-21T15:46:51.765407",
     "status": "completed"
    },
    "tags": []
   },
   "outputs": [
    {
     "data": {
      "text/html": [
       "<div>\n",
       "<style scoped>\n",
       "    .dataframe tbody tr th:only-of-type {\n",
       "        vertical-align: middle;\n",
       "    }\n",
       "\n",
       "    .dataframe tbody tr th {\n",
       "        vertical-align: top;\n",
       "    }\n",
       "\n",
       "    .dataframe thead tr th {\n",
       "        text-align: left;\n",
       "    }\n",
       "</style>\n",
       "<table border=\"1\" class=\"dataframe\">\n",
       "  <thead>\n",
       "    <tr>\n",
       "      <th></th>\n",
       "      <th>University Rating</th>\n",
       "      <th>TOEFL Score</th>\n",
       "    </tr>\n",
       "    <tr>\n",
       "      <th></th>\n",
       "      <th></th>\n",
       "      <th>mean</th>\n",
       "    </tr>\n",
       "  </thead>\n",
       "  <tbody>\n",
       "    <tr>\n",
       "      <th>0</th>\n",
       "      <td>1</td>\n",
       "      <td>100.205882</td>\n",
       "    </tr>\n",
       "    <tr>\n",
       "      <th>1</th>\n",
       "      <td>2</td>\n",
       "      <td>103.444444</td>\n",
       "    </tr>\n",
       "    <tr>\n",
       "      <th>2</th>\n",
       "      <td>3</td>\n",
       "      <td>106.314815</td>\n",
       "    </tr>\n",
       "    <tr>\n",
       "      <th>3</th>\n",
       "      <td>4</td>\n",
       "      <td>110.961905</td>\n",
       "    </tr>\n",
       "    <tr>\n",
       "      <th>4</th>\n",
       "      <td>5</td>\n",
       "      <td>113.438356</td>\n",
       "    </tr>\n",
       "  </tbody>\n",
       "</table>\n",
       "</div>"
      ],
      "text/plain": [
       "  University Rating TOEFL Score\n",
       "                           mean\n",
       "0                 1  100.205882\n",
       "1                 2  103.444444\n",
       "2                 3  106.314815\n",
       "3                 4  110.961905\n",
       "4                 5  113.438356"
      ]
     },
     "execution_count": 16,
     "metadata": {},
     "output_type": "execute_result"
    }
   ],
   "source": [
    "toefl = data.groupby(['University Rating']).agg({'TOEFL Score':['mean']})\n",
    "toefl.reset_index()"
   ]
  },
  {
   "cell_type": "markdown",
   "id": "09e18af9",
   "metadata": {
    "papermill": {
     "duration": 0.097378,
     "end_time": "2022-04-21T15:46:52.070604",
     "exception": false,
     "start_time": "2022-04-21T15:46:51.973226",
     "status": "completed"
    },
    "tags": []
   },
   "source": [
    "****Similar trend can be seen in TOEFL Scores.****"
   ]
  },
  {
   "cell_type": "code",
   "execution_count": 17,
   "id": "2c5f13a2",
   "metadata": {
    "execution": {
     "iopub.execute_input": "2022-04-21T15:46:52.266789Z",
     "iopub.status.busy": "2022-04-21T15:46:52.266333Z",
     "iopub.status.idle": "2022-04-21T15:46:52.281210Z",
     "shell.execute_reply": "2022-04-21T15:46:52.280409Z"
    },
    "papermill": {
     "duration": 0.114324,
     "end_time": "2022-04-21T15:46:52.283024",
     "exception": false,
     "start_time": "2022-04-21T15:46:52.168700",
     "status": "completed"
    },
    "tags": []
   },
   "outputs": [
    {
     "data": {
      "text/html": [
       "<div>\n",
       "<style scoped>\n",
       "    .dataframe tbody tr th:only-of-type {\n",
       "        vertical-align: middle;\n",
       "    }\n",
       "\n",
       "    .dataframe tbody tr th {\n",
       "        vertical-align: top;\n",
       "    }\n",
       "\n",
       "    .dataframe thead tr th {\n",
       "        text-align: left;\n",
       "    }\n",
       "</style>\n",
       "<table border=\"1\" class=\"dataframe\">\n",
       "  <thead>\n",
       "    <tr>\n",
       "      <th></th>\n",
       "      <th>University Rating</th>\n",
       "      <th>CGPA</th>\n",
       "    </tr>\n",
       "    <tr>\n",
       "      <th></th>\n",
       "      <th></th>\n",
       "      <th>mean</th>\n",
       "    </tr>\n",
       "  </thead>\n",
       "  <tbody>\n",
       "    <tr>\n",
       "      <th>0</th>\n",
       "      <td>1</td>\n",
       "      <td>7.798529</td>\n",
       "    </tr>\n",
       "    <tr>\n",
       "      <th>1</th>\n",
       "      <td>2</td>\n",
       "      <td>8.177778</td>\n",
       "    </tr>\n",
       "    <tr>\n",
       "      <th>2</th>\n",
       "      <td>3</td>\n",
       "      <td>8.500123</td>\n",
       "    </tr>\n",
       "    <tr>\n",
       "      <th>3</th>\n",
       "      <td>4</td>\n",
       "      <td>8.936667</td>\n",
       "    </tr>\n",
       "    <tr>\n",
       "      <th>4</th>\n",
       "      <td>5</td>\n",
       "      <td>9.278082</td>\n",
       "    </tr>\n",
       "  </tbody>\n",
       "</table>\n",
       "</div>"
      ],
      "text/plain": [
       "  University Rating      CGPA\n",
       "                         mean\n",
       "0                 1  7.798529\n",
       "1                 2  8.177778\n",
       "2                 3  8.500123\n",
       "3                 4  8.936667\n",
       "4                 5  9.278082"
      ]
     },
     "execution_count": 17,
     "metadata": {},
     "output_type": "execute_result"
    }
   ],
   "source": [
    "cgpa = data.groupby(['University Rating']).agg({'CGPA':['mean']})\n",
    "cgpa.reset_index()"
   ]
  },
  {
   "cell_type": "markdown",
   "id": "89b07e16",
   "metadata": {
    "execution": {
     "iopub.execute_input": "2022-04-21T15:25:12.688580Z",
     "iopub.status.busy": "2022-04-21T15:25:12.688315Z",
     "iopub.status.idle": "2022-04-21T15:25:12.694735Z",
     "shell.execute_reply": "2022-04-21T15:25:12.693604Z",
     "shell.execute_reply.started": "2022-04-21T15:25:12.688553Z"
    },
    "papermill": {
     "duration": 0.100554,
     "end_time": "2022-04-21T15:46:52.480597",
     "exception": false,
     "start_time": "2022-04-21T15:46:52.380043",
     "status": "completed"
    },
    "tags": []
   },
   "source": [
    "****The mean CGPA also increase with increase in the University rating.****"
   ]
  },
  {
   "cell_type": "markdown",
   "id": "08a4f3d6",
   "metadata": {
    "papermill": {
     "duration": 0.097376,
     "end_time": "2022-04-21T15:46:52.673887",
     "exception": false,
     "start_time": "2022-04-21T15:46:52.576511",
     "status": "completed"
    },
    "tags": []
   },
   "source": [
    "<hr>"
   ]
  },
  {
   "cell_type": "markdown",
   "id": "3c8b6b59",
   "metadata": {
    "papermill": {
     "duration": 0.096617,
     "end_time": "2022-04-21T15:46:52.866946",
     "exception": false,
     "start_time": "2022-04-21T15:46:52.770329",
     "status": "completed"
    },
    "tags": []
   },
   "source": [
    "# Univariate Analysis"
   ]
  },
  {
   "cell_type": "code",
   "execution_count": 18,
   "id": "97dcc362",
   "metadata": {
    "execution": {
     "iopub.execute_input": "2022-04-21T15:46:53.062604Z",
     "iopub.status.busy": "2022-04-21T15:46:53.062071Z",
     "iopub.status.idle": "2022-04-21T15:46:53.380162Z",
     "shell.execute_reply": "2022-04-21T15:46:53.379332Z"
    },
    "papermill": {
     "duration": 0.418684,
     "end_time": "2022-04-21T15:46:53.382334",
     "exception": false,
     "start_time": "2022-04-21T15:46:52.963650",
     "status": "completed"
    },
    "tags": []
   },
   "outputs": [
    {
     "data": {
      "image/png": "[encoded data removed]",
      "text/plain": [
       "<Figure size 432x288 with 2 Axes>"
      ]
     },
     "metadata": {},
     "output_type": "display_data"
    }
   ],
   "source": [
    "sns.set(style=\"darkgrid\")\n",
    "f, (ax_box, ax_hist) = plt.subplots(2, sharex=True, gridspec_kw={\"height_ratios\": (.15, .85)})\n",
    "sns.boxplot(data=data,x='GRE Score', ax=ax_box)\n",
    "sns.histplot(data=data, x=\"GRE Score\", ax=ax_hist,kde=True)\n",
    "ax_box.set(xlabel='')\n",
    "plt.show()"
   ]
  },
  {
   "cell_type": "markdown",
   "id": "b8544e30",
   "metadata": {
    "papermill": {
     "duration": 0.097466,
     "end_time": "2022-04-21T15:46:53.578100",
     "exception": false,
     "start_time": "2022-04-21T15:46:53.480634",
     "status": "completed"
    },
    "tags": []
   },
   "source": [
    "### From the above graph, we can say - \n",
    "- Average GRE score is around 318.\n",
    "- 25% of the score is less than 310.\n",
    "- 75% of the score is less than 325."
   ]
  },
  {
   "cell_type": "code",
   "execution_count": 19,
   "id": "15d38581",
   "metadata": {
    "execution": {
     "iopub.execute_input": "2022-04-21T15:46:53.778026Z",
     "iopub.status.busy": "2022-04-21T15:46:53.777490Z",
     "iopub.status.idle": "2022-04-21T15:46:54.051190Z",
     "shell.execute_reply": "2022-04-21T15:46:54.050320Z"
    },
    "papermill": {
     "duration": 0.375232,
     "end_time": "2022-04-21T15:46:54.053392",
     "exception": false,
     "start_time": "2022-04-21T15:46:53.678160",
     "status": "completed"
    },
    "tags": []
   },
   "outputs": [
    {
     "data": {
      "image/png": "[encoded data removed]",
      "text/plain": [
       "<Figure size 432x288 with 2 Axes>"
      ]
     },
     "metadata": {},
     "output_type": "display_data"
    }
   ],
   "source": [
    "sns.set(style=\"darkgrid\")\n",
    "f, (ax_box, ax_hist) = plt.subplots(2, sharex=True, gridspec_kw={\"height_ratios\": (.15, .85)})\n",
    "sns.boxplot(data=data,x='TOEFL Score', ax=ax_box)\n",
    "sns.histplot(data=data, x=\"TOEFL Score\", ax=ax_hist,kde=True)\n",
    "ax_box.set(xlabel='')\n",
    "plt.show()"
   ]
  },
  {
   "cell_type": "markdown",
   "id": "6a52886f",
   "metadata": {
    "papermill": {
     "duration": 0.098601,
     "end_time": "2022-04-21T15:46:54.251985",
     "exception": false,
     "start_time": "2022-04-21T15:46:54.153384",
     "status": "completed"
    },
    "tags": []
   },
   "source": [
    "### From the above graph, we can say - \n",
    "- Average TOEFL score is around 106.\n",
    "- 25% of the score is less than 104.\n",
    "- 75% of the score is less than 112."
   ]
  },
  {
   "cell_type": "code",
   "execution_count": 20,
   "id": "904333d0",
   "metadata": {
    "execution": {
     "iopub.execute_input": "2022-04-21T15:46:54.453517Z",
     "iopub.status.busy": "2022-04-21T15:46:54.453227Z",
     "iopub.status.idle": "2022-04-21T15:46:54.904505Z",
     "shell.execute_reply": "2022-04-21T15:46:54.903642Z"
    },
    "papermill": {
     "duration": 0.555949,
     "end_time": "2022-04-21T15:46:54.906754",
     "exception": false,
     "start_time": "2022-04-21T15:46:54.350805",
     "status": "completed"
    },
    "tags": []
   },
   "outputs": [
    {
     "data": {
      "image/png": "[encoded data removed]",
      "text/plain": [
       "<Figure size 432x288 with 2 Axes>"
      ]
     },
     "metadata": {},
     "output_type": "display_data"
    }
   ],
   "source": [
    "sns.set(style=\"darkgrid\")\n",
    "f, (ax_box, ax_hist) = plt.subplots(2, sharex=True, gridspec_kw={\"height_ratios\": (.15, .85)})\n",
    "sns.boxplot(data=data,x='CGPA', ax=ax_box)\n",
    "sns.histplot(data=data, x=\"CGPA\", ax=ax_hist,kde=True)\n",
    "ax_box.set(xlabel='')\n",
    "plt.show()"
   ]
  },
  {
   "cell_type": "markdown",
   "id": "9554afc2",
   "metadata": {
    "papermill": {
     "duration": 0.101003,
     "end_time": "2022-04-21T15:46:55.108124",
     "exception": false,
     "start_time": "2022-04-21T15:46:55.007121",
     "status": "completed"
    },
    "tags": []
   },
   "source": [
    "### From the above graph, we can say - \n",
    "- Average CGPA is around 8.5.\n",
    "- 25% of the CGPA is less than 8.25.\n",
    "- 75% of the CGPA is less than 9.0."
   ]
  },
  {
   "cell_type": "code",
   "execution_count": 21,
   "id": "b3f3f853",
   "metadata": {
    "execution": {
     "iopub.execute_input": "2022-04-21T15:46:55.309926Z",
     "iopub.status.busy": "2022-04-21T15:46:55.309144Z",
     "iopub.status.idle": "2022-04-21T15:46:55.673087Z",
     "shell.execute_reply": "2022-04-21T15:46:55.672294Z"
    },
    "papermill": {
     "duration": 0.467248,
     "end_time": "2022-04-21T15:46:55.675161",
     "exception": false,
     "start_time": "2022-04-21T15:46:55.207913",
     "status": "completed"
    },
    "tags": []
   },
   "outputs": [
    {
     "data": {
      "image/png": "[encoded data removed]",
      "text/plain": [
       "<Figure size 432x288 with 2 Axes>"
      ]
     },
     "metadata": {},
     "output_type": "display_data"
    }
   ],
   "source": [
    "sns.set(style=\"darkgrid\")\n",
    "f, (ax_box, ax_hist) = plt.subplots(2, sharex=True, gridspec_kw={\"height_ratios\": (.15, .85)})\n",
    "sns.boxplot(data=data,x='Chance of Admit ', ax=ax_box)\n",
    "sns.histplot(data=data, x=\"Chance of Admit \", ax=ax_hist,kde=True)\n",
    "ax_box.set(xlabel='')\n",
    "plt.show()"
   ]
  },
  {
   "cell_type": "markdown",
   "id": "2807e51a",
   "metadata": {
    "papermill": {
     "duration": 0.100657,
     "end_time": "2022-04-21T15:46:55.877307",
     "exception": false,
     "start_time": "2022-04-21T15:46:55.776650",
     "status": "completed"
    },
    "tags": []
   },
   "source": [
    "### From the above graph, we can say - \n",
    "- Average Chance of Admit is around 0.7.\n",
    "- 25% of the score is less than 0.65.\n",
    "- 75% of the score is less than 0.82."
   ]
  },
  {
   "cell_type": "code",
   "execution_count": 22,
   "id": "a72d253b",
   "metadata": {
    "execution": {
     "iopub.execute_input": "2022-04-21T15:46:56.080836Z",
     "iopub.status.busy": "2022-04-21T15:46:56.079977Z",
     "iopub.status.idle": "2022-04-21T15:46:56.295529Z",
     "shell.execute_reply": "2022-04-21T15:46:56.294724Z"
    },
    "papermill": {
     "duration": 0.319585,
     "end_time": "2022-04-21T15:46:56.297568",
     "exception": false,
     "start_time": "2022-04-21T15:46:55.977983",
     "status": "completed"
    },
    "tags": []
   },
   "outputs": [
    {
     "data": {
      "image/png": "[encoded data removed]",
      "text/plain": [
       "<Figure size 432x288 with 1 Axes>"
      ]
     },
     "metadata": {},
     "output_type": "display_data"
    }
   ],
   "source": [
    "sns.countplot(x='SOP',data=data)\n",
    "plt.show()"
   ]
  },
  {
   "cell_type": "markdown",
   "id": "83f9adeb",
   "metadata": {
    "papermill": {
     "duration": 0.102086,
     "end_time": "2022-04-21T15:46:56.501407",
     "exception": false,
     "start_time": "2022-04-21T15:46:56.399321",
     "status": "completed"
    },
    "tags": []
   },
   "source": [
    "****As seen earlier the SOP with strength from 2.5 to 4.5 have most records.****"
   ]
  },
  {
   "cell_type": "code",
   "execution_count": 23,
   "id": "e4f043a3",
   "metadata": {
    "execution": {
     "iopub.execute_input": "2022-04-21T15:46:56.709254Z",
     "iopub.status.busy": "2022-04-21T15:46:56.708385Z",
     "iopub.status.idle": "2022-04-21T15:46:56.924134Z",
     "shell.execute_reply": "2022-04-21T15:46:56.923306Z"
    },
    "papermill": {
     "duration": 0.322463,
     "end_time": "2022-04-21T15:46:56.926249",
     "exception": false,
     "start_time": "2022-04-21T15:46:56.603786",
     "status": "completed"
    },
    "tags": []
   },
   "outputs": [
    {
     "data": {
      "image/png": "[encoded data removed]",
      "text/plain": [
       "<Figure size 432x288 with 1 Axes>"
      ]
     },
     "metadata": {},
     "output_type": "display_data"
    }
   ],
   "source": [
    "sns.countplot(x='LOR ',data=data)\n",
    "plt.show()"
   ]
  },
  {
   "cell_type": "markdown",
   "id": "732c1f64",
   "metadata": {
    "papermill": {
     "duration": 0.102664,
     "end_time": "2022-04-21T15:46:57.131670",
     "exception": false,
     "start_time": "2022-04-21T15:46:57.029006",
     "status": "completed"
    },
    "tags": []
   },
   "source": [
    "****Similarly for LOR the most common strength is from 3.0 to 4.5.****"
   ]
  },
  {
   "cell_type": "code",
   "execution_count": 24,
   "id": "06321b39",
   "metadata": {
    "execution": {
     "iopub.execute_input": "2022-04-21T15:46:57.339169Z",
     "iopub.status.busy": "2022-04-21T15:46:57.338559Z",
     "iopub.status.idle": "2022-04-21T15:46:57.531126Z",
     "shell.execute_reply": "2022-04-21T15:46:57.530524Z"
    },
    "papermill": {
     "duration": 0.299125,
     "end_time": "2022-04-21T15:46:57.533004",
     "exception": false,
     "start_time": "2022-04-21T15:46:57.233879",
     "status": "completed"
    },
    "tags": []
   },
   "outputs": [
    {
     "data": {
      "image/png": "[encoded data removed]",
      "text/plain": [
       "<Figure size 432x288 with 1 Axes>"
      ]
     },
     "metadata": {},
     "output_type": "display_data"
    }
   ],
   "source": [
    "sns.countplot(x='University Rating',data=data)\n",
    "plt.show()"
   ]
  },
  {
   "cell_type": "markdown",
   "id": "68dd453f",
   "metadata": {
    "papermill": {
     "duration": 0.102866,
     "end_time": "2022-04-21T15:46:57.737356",
     "exception": false,
     "start_time": "2022-04-21T15:46:57.634490",
     "status": "completed"
    },
    "tags": []
   },
   "source": [
    "****Most common unversity ratings are 2,3 and 4.****"
   ]
  },
  {
   "cell_type": "markdown",
   "id": "8466bfca",
   "metadata": {
    "papermill": {
     "duration": 0.104102,
     "end_time": "2022-04-21T15:46:57.943687",
     "exception": false,
     "start_time": "2022-04-21T15:46:57.839585",
     "status": "completed"
    },
    "tags": []
   },
   "source": [
    "<hr>"
   ]
  },
  {
   "cell_type": "markdown",
   "id": "7fac9f55",
   "metadata": {
    "papermill": {
     "duration": 0.103301,
     "end_time": "2022-04-21T15:46:58.151918",
     "exception": false,
     "start_time": "2022-04-21T15:46:58.048617",
     "status": "completed"
    },
    "tags": []
   },
   "source": [
    "# Bi-Variate Analysis"
   ]
  },
  {
   "cell_type": "code",
   "execution_count": 25,
   "id": "376734e8",
   "metadata": {
    "execution": {
     "iopub.execute_input": "2022-04-21T15:46:58.359082Z",
     "iopub.status.busy": "2022-04-21T15:46:58.358523Z",
     "iopub.status.idle": "2022-04-21T15:46:58.594208Z",
     "shell.execute_reply": "2022-04-21T15:46:58.593630Z"
    },
    "papermill": {
     "duration": 0.341434,
     "end_time": "2022-04-21T15:46:58.596167",
     "exception": false,
     "start_time": "2022-04-21T15:46:58.254733",
     "status": "completed"
    },
    "tags": []
   },
   "outputs": [
    {
     "data": {
      "image/png": "[encoded data removed]",
      "text/plain": [
       "<Figure size 432x288 with 1 Axes>"
      ]
     },
     "metadata": {},
     "output_type": "display_data"
    }
   ],
   "source": [
    "sns.boxplot(x='University Rating',y='Chance of Admit ',data=data)\n",
    "plt.show()"
   ]
  },
  {
   "cell_type": "markdown",
   "id": "33a11663",
   "metadata": {
    "papermill": {
     "duration": 0.104899,
     "end_time": "2022-04-21T15:46:58.804267",
     "exception": false,
     "start_time": "2022-04-21T15:46:58.699368",
     "status": "completed"
    },
    "tags": []
   },
   "source": [
    "****We can see that the avg. chance of admit increases as the university rating increases.****"
   ]
  },
  {
   "cell_type": "code",
   "execution_count": 26,
   "id": "b1529e54",
   "metadata": {
    "execution": {
     "iopub.execute_input": "2022-04-21T15:46:59.020336Z",
     "iopub.status.busy": "2022-04-21T15:46:59.019614Z",
     "iopub.status.idle": "2022-04-21T15:46:59.342138Z",
     "shell.execute_reply": "2022-04-21T15:46:59.341439Z"
    },
    "papermill": {
     "duration": 0.435429,
     "end_time": "2022-04-21T15:46:59.344750",
     "exception": false,
     "start_time": "2022-04-21T15:46:58.909321",
     "status": "completed"
    },
    "tags": []
   },
   "outputs": [
    {
     "data": {
      "image/png": "[encoded data removed]",
      "text/plain": [
       "<Figure size 432x288 with 1 Axes>"
      ]
     },
     "metadata": {},
     "output_type": "display_data"
    }
   ],
   "source": [
    "sns.boxplot(x='SOP',y='Chance of Admit ',data=data)\n",
    "plt.show()"
   ]
  },
  {
   "cell_type": "markdown",
   "id": "36e2c8d6",
   "metadata": {
    "papermill": {
     "duration": 0.105496,
     "end_time": "2022-04-21T15:46:59.566147",
     "exception": false,
     "start_time": "2022-04-21T15:46:59.460651",
     "status": "completed"
    },
    "tags": []
   },
   "source": [
    "****We can also see that the avg. chance of admit increases as the strength of SOP increases.****"
   ]
  },
  {
   "cell_type": "code",
   "execution_count": 27,
   "id": "6ffd41ab",
   "metadata": {
    "execution": {
     "iopub.execute_input": "2022-04-21T15:46:59.781844Z",
     "iopub.status.busy": "2022-04-21T15:46:59.781512Z",
     "iopub.status.idle": "2022-04-21T15:47:00.100975Z",
     "shell.execute_reply": "2022-04-21T15:47:00.100164Z"
    },
    "papermill": {
     "duration": 0.430348,
     "end_time": "2022-04-21T15:47:00.103197",
     "exception": false,
     "start_time": "2022-04-21T15:46:59.672849",
     "status": "completed"
    },
    "tags": []
   },
   "outputs": [
    {
     "data": {
      "image/png": "[encoded data removed]",
      "text/plain": [
       "<Figure size 432x288 with 1 Axes>"
      ]
     },
     "metadata": {},
     "output_type": "display_data"
    }
   ],
   "source": [
    "sns.boxplot(x='LOR ',y='Chance of Admit ',data=data)\n",
    "plt.show()"
   ]
  },
  {
   "cell_type": "markdown",
   "id": "faa2d3be",
   "metadata": {
    "papermill": {
     "duration": 0.104992,
     "end_time": "2022-04-21T15:47:00.314708",
     "exception": false,
     "start_time": "2022-04-21T15:47:00.209716",
     "status": "completed"
    },
    "tags": []
   },
   "source": [
    "****Here we can drop the record with LOR with strength 1.0 as it has only 1 record.****"
   ]
  },
  {
   "cell_type": "code",
   "execution_count": 28,
   "id": "73e1591e",
   "metadata": {
    "execution": {
     "iopub.execute_input": "2022-04-21T15:47:00.526916Z",
     "iopub.status.busy": "2022-04-21T15:47:00.526599Z",
     "iopub.status.idle": "2022-04-21T15:47:00.531946Z",
     "shell.execute_reply": "2022-04-21T15:47:00.531130Z"
    },
    "papermill": {
     "duration": 0.113579,
     "end_time": "2022-04-21T15:47:00.533727",
     "exception": false,
     "start_time": "2022-04-21T15:47:00.420148",
     "status": "completed"
    },
    "tags": []
   },
   "outputs": [],
   "source": [
    "data = data[data[\"LOR \"]!=1]"
   ]
  },
  {
   "cell_type": "code",
   "execution_count": 29,
   "id": "271b4a1e",
   "metadata": {
    "execution": {
     "iopub.execute_input": "2022-04-21T15:47:00.747830Z",
     "iopub.status.busy": "2022-04-21T15:47:00.747515Z",
     "iopub.status.idle": "2022-04-21T15:47:01.042747Z",
     "shell.execute_reply": "2022-04-21T15:47:01.041886Z"
    },
    "papermill": {
     "duration": 0.404718,
     "end_time": "2022-04-21T15:47:01.044717",
     "exception": false,
     "start_time": "2022-04-21T15:47:00.639999",
     "status": "completed"
    },
    "tags": []
   },
   "outputs": [
    {
     "data": {
      "image/png": "[encoded data removed]",
      "text/plain": [
       "<Figure size 432x288 with 1 Axes>"
      ]
     },
     "metadata": {},
     "output_type": "display_data"
    }
   ],
   "source": [
    "sns.boxplot(x='LOR ',y='Chance of Admit ',data=data)\n",
    "plt.show()"
   ]
  },
  {
   "cell_type": "markdown",
   "id": "4d9c6d86",
   "metadata": {
    "papermill": {
     "duration": 0.106225,
     "end_time": "2022-04-21T15:47:01.256838",
     "exception": false,
     "start_time": "2022-04-21T15:47:01.150613",
     "status": "completed"
    },
    "tags": []
   },
   "source": [
    "****We can see a similar trend with LOR, as the strength of LOR increases the chance of admit increases.****"
   ]
  },
  {
   "cell_type": "code",
   "execution_count": 30,
   "id": "f048a46f",
   "metadata": {
    "execution": {
     "iopub.execute_input": "2022-04-21T15:47:01.471978Z",
     "iopub.status.busy": "2022-04-21T15:47:01.471459Z",
     "iopub.status.idle": "2022-04-21T15:47:01.788385Z",
     "shell.execute_reply": "2022-04-21T15:47:01.787764Z"
    },
    "papermill": {
     "duration": 0.427194,
     "end_time": "2022-04-21T15:47:01.790685",
     "exception": false,
     "start_time": "2022-04-21T15:47:01.363491",
     "status": "completed"
    },
    "tags": []
   },
   "outputs": [
    {
     "data": {
      "image/png": "[encoded data removed]",
      "text/plain": [
       "<Figure size 432x288 with 1 Axes>"
      ]
     },
     "metadata": {},
     "output_type": "display_data"
    }
   ],
   "source": [
    "sns.scatterplot(x='GRE Score',y='Chance of Admit ',data=data,hue='Research')\n",
    "plt.show()"
   ]
  },
  {
   "cell_type": "markdown",
   "id": "b203520d",
   "metadata": {
    "papermill": {
     "duration": 0.108889,
     "end_time": "2022-04-21T15:47:02.008925",
     "exception": false,
     "start_time": "2022-04-21T15:47:01.900036",
     "status": "completed"
    },
    "tags": []
   },
   "source": [
    "****From the above graph we can say that GRE score and Chance of admit has a linear relationship.****"
   ]
  },
  {
   "cell_type": "code",
   "execution_count": 31,
   "id": "b6680d3f",
   "metadata": {
    "execution": {
     "iopub.execute_input": "2022-04-21T15:47:02.228243Z",
     "iopub.status.busy": "2022-04-21T15:47:02.227722Z",
     "iopub.status.idle": "2022-04-21T15:47:02.533409Z",
     "shell.execute_reply": "2022-04-21T15:47:02.532601Z"
    },
    "papermill": {
     "duration": 0.417477,
     "end_time": "2022-04-21T15:47:02.535682",
     "exception": false,
     "start_time": "2022-04-21T15:47:02.118205",
     "status": "completed"
    },
    "tags": []
   },
   "outputs": [
    {
     "data": {
      "image/png": "[encoded data removed]",
      "text/plain": [
       "<Figure size 432x288 with 1 Axes>"
      ]
     },
     "metadata": {},
     "output_type": "display_data"
    }
   ],
   "source": [
    "sns.scatterplot(x='TOEFL Score',y='Chance of Admit ',data=data,hue='Research')\n",
    "plt.show()"
   ]
  },
  {
   "cell_type": "markdown",
   "id": "96147cfc",
   "metadata": {
    "papermill": {
     "duration": 0.111477,
     "end_time": "2022-04-21T15:47:02.758364",
     "exception": false,
     "start_time": "2022-04-21T15:47:02.646887",
     "status": "completed"
    },
    "tags": []
   },
   "source": [
    "****From the above graph we can say that TOEFL score and Chance of admit has a linear relationship.****"
   ]
  },
  {
   "cell_type": "code",
   "execution_count": 32,
   "id": "3450d729",
   "metadata": {
    "execution": {
     "iopub.execute_input": "2022-04-21T15:47:02.981922Z",
     "iopub.status.busy": "2022-04-21T15:47:02.981516Z",
     "iopub.status.idle": "2022-04-21T15:47:03.523334Z",
     "shell.execute_reply": "2022-04-21T15:47:03.522763Z"
    },
    "papermill": {
     "duration": 0.656658,
     "end_time": "2022-04-21T15:47:03.525584",
     "exception": false,
     "start_time": "2022-04-21T15:47:02.868926",
     "status": "completed"
    },
    "tags": []
   },
   "outputs": [
    {
     "data": {
      "image/png": "[encoded data removed]",
      "text/plain": [
       "<Figure size 720x432 with 2 Axes>"
      ]
     },
     "metadata": {},
     "output_type": "display_data"
    }
   ],
   "source": [
    "plt.figure(figsize=(10,6))\n",
    "sns.heatmap(data.corr(),annot=True)\n",
    "plt.show()"
   ]
  },
  {
   "cell_type": "markdown",
   "id": "f8fbb8f0",
   "metadata": {
    "papermill": {
     "duration": 0.11483,
     "end_time": "2022-04-21T15:47:03.756517",
     "exception": false,
     "start_time": "2022-04-21T15:47:03.641687",
     "status": "completed"
    },
    "tags": []
   },
   "source": [
    "****Almost all the variables are highly co-related so we need to do VIF to drop the columns.****"
   ]
  },
  {
   "cell_type": "markdown",
   "id": "50827223",
   "metadata": {
    "papermill": {
     "duration": 0.113845,
     "end_time": "2022-04-21T15:47:03.985242",
     "exception": false,
     "start_time": "2022-04-21T15:47:03.871397",
     "status": "completed"
    },
    "tags": []
   },
   "source": [
    "## Checking for realtionship of Chance of Admit(Target Variables) with the Independant variables."
   ]
  },
  {
   "cell_type": "code",
   "execution_count": 33,
   "id": "bf462f20",
   "metadata": {
    "execution": {
     "iopub.execute_input": "2022-04-21T15:47:04.214357Z",
     "iopub.status.busy": "2022-04-21T15:47:04.213945Z",
     "iopub.status.idle": "2022-04-21T15:47:06.213130Z",
     "shell.execute_reply": "2022-04-21T15:47:06.212331Z"
    },
    "papermill": {
     "duration": 2.115554,
     "end_time": "2022-04-21T15:47:06.215193",
     "exception": false,
     "start_time": "2022-04-21T15:47:04.099639",
     "status": "completed"
    },
    "tags": []
   },
   "outputs": [
    {
     "data": {
      "image/png": "[encoded data removed]",
      "text/plain": [
       "<Figure size 1440x180 with 9 Axes>"
      ]
     },
     "metadata": {},
     "output_type": "display_data"
    }
   ],
   "source": [
    "sns.pairplot(data,y_vars=['Chance of Admit '])\n",
    "plt.show()"
   ]
  },
  {
   "cell_type": "markdown",
   "id": "40051381",
   "metadata": {
    "papermill": {
     "duration": 0.12544,
     "end_time": "2022-04-21T15:47:06.456454",
     "exception": false,
     "start_time": "2022-04-21T15:47:06.331014",
     "status": "completed"
    },
    "tags": []
   },
   "source": [
    "****From the above graphs we can see a linear realtionship between the independant and target variable.****"
   ]
  },
  {
   "cell_type": "code",
   "execution_count": 59,
   "id": "8b3cc942",
   "metadata": {},
   "outputs": [
    {
     "data": {
      "application/vnd.jupyter.widget-view+json": {
       "model_id": "145f390e3acb4e18a36504565712aedb",
       "version_major": 2,
       "version_minor": 0
      },
      "text/plain": [
       "Summarize dataset:   0%|          | 0/5 [00:00<?, ?it/s]"
      ]
     },
     "metadata": {},
     "output_type": "display_data"
    },
    {
     "data": {
      "application/vnd.jupyter.widget-view+json": {
       "model_id": "4a9a93f4c614489c915d260066b80cfe",
       "version_major": 2,
       "version_minor": 0
      },
      "text/plain": [
       "Generate report structure:   0%|          | 0/1 [00:00<?, ?it/s]"
      ]
     },
     "metadata": {},
     "output_type": "display_data"
    },
    {
     "data": {
      "application/vnd.jupyter.widget-view+json": {
       "model_id": "",
       "version_major": 2,
       "version_minor": 0
      },
      "text/plain": [
       "Render widgets:   0%|          | 0/1 [00:00<?, ?it/s]"
      ]
     },
     "metadata": {},
     "output_type": "display_data"
    },
    {
     "data": {
      "application/vnd.jupyter.widget-view+json": {
       "model_id": "bbf0bb3025ec4f67aab6f885aea6bc3f",
       "version_major": 2,
       "version_minor": 0
      },
      "text/plain": [
       "VBox(children=(Tab(children=(Tab(children=(GridBox(children=(VBox(children=(GridspecLayout(children=(HTML(valu…"
      ]
     },
     "metadata": {},
     "output_type": "display_data"
    }
   ],
   "source": [
    "from pandas_profiling import ProfileReport\n",
    "\n",
    "\n",
    "# Generate an automated EDA report\n",
    "profile = ProfileReport(data, title='Admissions Dataset EDA Report', explorative=True)\n",
    "profile.to_widgets()\n"
   ]
  },
  {
   "cell_type": "markdown",
   "id": "88e2ccdb",
   "metadata": {
    "papermill": {
     "duration": 0.115215,
     "end_time": "2022-04-21T15:47:06.701180",
     "exception": false,
     "start_time": "2022-04-21T15:47:06.585965",
     "status": "completed"
    },
    "tags": []
   },
   "source": [
    "<hr>"
   ]
  },
  {
   "cell_type": "markdown",
   "id": "b8a9ddaf",
   "metadata": {
    "papermill": {
     "duration": 0.115013,
     "end_time": "2022-04-21T15:47:06.931912",
     "exception": false,
     "start_time": "2022-04-21T15:47:06.816899",
     "status": "completed"
    },
    "tags": []
   },
   "source": [
    "# Linear Regression"
   ]
  },
  {
   "cell_type": "markdown",
   "id": "11329be4",
   "metadata": {
    "execution": {
     "iopub.execute_input": "2022-04-21T15:32:29.455303Z",
     "iopub.status.busy": "2022-04-21T15:32:29.454555Z",
     "iopub.status.idle": "2022-04-21T15:32:29.460827Z",
     "shell.execute_reply": "2022-04-21T15:32:29.460001Z",
     "shell.execute_reply.started": "2022-04-21T15:32:29.455256Z"
    },
    "papermill": {
     "duration": 0.114971,
     "end_time": "2022-04-21T15:47:07.162297",
     "exception": false,
     "start_time": "2022-04-21T15:47:07.047326",
     "status": "completed"
    },
    "tags": []
   },
   "source": [
    "## Basic Assumptions - \n",
    "1. There should be a linear relationship of input variables and output variable.\n",
    "2. Target variable is normally distributed. \n",
    "3. Independant variables have no perfect or exact relationship."
   ]
  },
  {
   "cell_type": "markdown",
   "id": "00ceaf15",
   "metadata": {
    "papermill": {
     "duration": 0.115228,
     "end_time": "2022-04-21T15:47:07.393373",
     "exception": false,
     "start_time": "2022-04-21T15:47:07.278145",
     "status": "completed"
    },
    "tags": []
   },
   "source": [
    "## Checking Assumptions\n",
    "\n",
    "### Assumption 1 - There should be a linear relationship of input variables and output variable.\n",
    "\n",
    "As already seen earlier there exists a linear relationship between input variables and output variable.\n",
    "\n",
    "### Assumption 2 - Target variable is normally distributed"
   ]
  },
  {
   "cell_type": "code",
   "execution_count": 34,
   "id": "bc14a7fe",
   "metadata": {
    "execution": {
     "iopub.execute_input": "2022-04-21T15:47:07.631419Z",
     "iopub.status.busy": "2022-04-21T15:47:07.631150Z",
     "iopub.status.idle": "2022-04-21T15:47:07.973299Z",
     "shell.execute_reply": "2022-04-21T15:47:07.972478Z"
    },
    "papermill": {
     "duration": 0.464799,
     "end_time": "2022-04-21T15:47:07.975581",
     "exception": false,
     "start_time": "2022-04-21T15:47:07.510782",
     "status": "completed"
    },
    "tags": []
   },
   "outputs": [
    {
     "data": {
      "image/png": "[encoded data removed]",
      "text/plain": [
       "<Figure size 432x288 with 2 Axes>"
      ]
     },
     "metadata": {},
     "output_type": "display_data"
    }
   ],
   "source": [
    "sns.set(style=\"darkgrid\")\n",
    "f, (ax_box, ax_hist) = plt.subplots(2, sharex=True, gridspec_kw={\"height_ratios\": (.15, .85)})\n",
    "sns.boxplot(data=data,x='Chance of Admit ', ax=ax_box)\n",
    "sns.histplot(data=data, x=\"Chance of Admit \", ax=ax_hist,kde=True)\n",
    "ax_box.set(xlabel='')\n",
    "plt.show()"
   ]
  },
  {
   "cell_type": "markdown",
   "id": "6a691278",
   "metadata": {
    "papermill": {
     "duration": 0.116689,
     "end_time": "2022-04-21T15:47:08.211438",
     "exception": false,
     "start_time": "2022-04-21T15:47:08.094749",
     "status": "completed"
    },
    "tags": []
   },
   "source": [
    "#### We can see some outliers in the data. Lets remove the outliers "
   ]
  },
  {
   "cell_type": "code",
   "execution_count": 35,
   "id": "b4748540",
   "metadata": {
    "execution": {
     "iopub.execute_input": "2022-04-21T15:47:08.446130Z",
     "iopub.status.busy": "2022-04-21T15:47:08.445616Z",
     "iopub.status.idle": "2022-04-21T15:47:08.454499Z",
     "shell.execute_reply": "2022-04-21T15:47:08.453789Z"
    },
    "papermill": {
     "duration": 0.128912,
     "end_time": "2022-04-21T15:47:08.456372",
     "exception": false,
     "start_time": "2022-04-21T15:47:08.327460",
     "status": "completed"
    },
    "tags": []
   },
   "outputs": [
    {
     "data": {
      "text/plain": [
       "(1.105, 0.3450000000000001)"
      ]
     },
     "execution_count": 35,
     "metadata": {},
     "output_type": "execute_result"
    }
   ],
   "source": [
    "Q3 = data['Chance of Admit '].quantile(0.75)\n",
    "Q1 = data['Chance of Admit '].quantile(0.25)\n",
    "IQR = Q3-Q1\n",
    "upper = Q3+(1.5*IQR)\n",
    "lower = Q1-(1.5*IQR)\n",
    "(upper,lower)"
   ]
  },
  {
   "cell_type": "code",
   "execution_count": 36,
   "id": "a671fa8d",
   "metadata": {
    "execution": {
     "iopub.execute_input": "2022-04-21T15:47:08.694526Z",
     "iopub.status.busy": "2022-04-21T15:47:08.694129Z",
     "iopub.status.idle": "2022-04-21T15:47:08.698901Z",
     "shell.execute_reply": "2022-04-21T15:47:08.698111Z"
    },
    "papermill": {
     "duration": 0.125386,
     "end_time": "2022-04-21T15:47:08.700748",
     "exception": false,
     "start_time": "2022-04-21T15:47:08.575362",
     "status": "completed"
    },
    "tags": []
   },
   "outputs": [],
   "source": [
    "data = data[(data['Chance of Admit ']>lower) & (data['Chance of Admit ']<upper)]"
   ]
  },
  {
   "cell_type": "code",
   "execution_count": 37,
   "id": "a69cf01c",
   "metadata": {
    "execution": {
     "iopub.execute_input": "2022-04-21T15:47:08.939049Z",
     "iopub.status.busy": "2022-04-21T15:47:08.938630Z",
     "iopub.status.idle": "2022-04-21T15:47:09.220187Z",
     "shell.execute_reply": "2022-04-21T15:47:09.219392Z"
    },
    "papermill": {
     "duration": 0.402479,
     "end_time": "2022-04-21T15:47:09.222218",
     "exception": false,
     "start_time": "2022-04-21T15:47:08.819739",
     "status": "completed"
    },
    "tags": []
   },
   "outputs": [
    {
     "data": {
      "image/png": "[encoded data removed]",
      "text/plain": [
       "<Figure size 432x288 with 1 Axes>"
      ]
     },
     "metadata": {},
     "output_type": "display_data"
    }
   ],
   "source": [
    "sns.histplot(data=data,x='Chance of Admit ',kde=True)\n",
    "plt.show()"
   ]
  },
  {
   "cell_type": "markdown",
   "id": "771f64ef",
   "metadata": {
    "papermill": {
     "duration": 0.117116,
     "end_time": "2022-04-21T15:47:09.459546",
     "exception": false,
     "start_time": "2022-04-21T15:47:09.342430",
     "status": "completed"
    },
    "tags": []
   },
   "source": [
    "#### The graph looks almost normal we can confirm it with Q-Q plot."
   ]
  },
  {
   "cell_type": "markdown",
   "id": "bd9fc046",
   "metadata": {
    "papermill": {
     "duration": 0.117271,
     "end_time": "2022-04-21T15:47:09.695083",
     "exception": false,
     "start_time": "2022-04-21T15:47:09.577812",
     "status": "completed"
    },
    "tags": []
   },
   "source": [
    "### Q-Q Plot"
   ]
  },
  {
   "cell_type": "code",
   "execution_count": 38,
   "id": "b0fc5dd2",
   "metadata": {
    "execution": {
     "iopub.execute_input": "2022-04-21T15:47:09.931539Z",
     "iopub.status.busy": "2022-04-21T15:47:09.931132Z",
     "iopub.status.idle": "2022-04-21T15:47:10.167938Z",
     "shell.execute_reply": "2022-04-21T15:47:10.167388Z"
    },
    "papermill": {
     "duration": 0.356694,
     "end_time": "2022-04-21T15:47:10.169666",
     "exception": false,
     "start_time": "2022-04-21T15:47:09.812972",
     "status": "completed"
    },
    "tags": []
   },
   "outputs": [
    {
     "data": {
      "image/png": "[encoded data removed]",
      "text/plain": [
       "<Figure size 720x432 with 1 Axes>"
      ]
     },
     "metadata": {},
     "output_type": "display_data"
    }
   ],
   "source": [
    "plt.figure(figsize=(10,6))\n",
    "stats.probplot(data['Chance of Admit '], plot= plt, dist=\"norm\")\n",
    "plt.title('Q-Q plot for Chance of Admit')\n",
    "plt.show()"
   ]
  },
  {
   "cell_type": "markdown",
   "id": "81685a1b",
   "metadata": {
    "papermill": {
     "duration": 0.118778,
     "end_time": "2022-04-21T15:47:10.409208",
     "exception": false,
     "start_time": "2022-04-21T15:47:10.290430",
     "status": "completed"
    },
    "tags": []
   },
   "source": [
    "<b>The data is almost along the line which means the data is almost normal</b>"
   ]
  },
  {
   "cell_type": "markdown",
   "id": "2ce22849",
   "metadata": {
    "papermill": {
     "duration": 0.118365,
     "end_time": "2022-04-21T15:47:10.646889",
     "exception": false,
     "start_time": "2022-04-21T15:47:10.528524",
     "status": "completed"
    },
    "tags": []
   },
   "source": [
    "### Standardizing the data"
   ]
  },
  {
   "cell_type": "code",
   "execution_count": 39,
   "id": "05926348",
   "metadata": {
    "execution": {
     "iopub.execute_input": "2022-04-21T15:47:10.886781Z",
     "iopub.status.busy": "2022-04-21T15:47:10.886251Z",
     "iopub.status.idle": "2022-04-21T15:47:10.896147Z",
     "shell.execute_reply": "2022-04-21T15:47:10.895606Z"
    },
    "papermill": {
     "duration": 0.132952,
     "end_time": "2022-04-21T15:47:10.898002",
     "exception": false,
     "start_time": "2022-04-21T15:47:10.765050",
     "status": "completed"
    },
    "tags": []
   },
   "outputs": [],
   "source": [
    "ss = StandardScaler()\n",
    "x = data.drop(columns=['Chance of Admit '])\n",
    "y = data['Chance of Admit ']\n",
    "cols = x.columns\n",
    "x[cols] = ss.fit_transform(x[cols])"
   ]
  },
  {
   "cell_type": "markdown",
   "id": "c8ce80d0",
   "metadata": {
    "papermill": {
     "duration": 0.118251,
     "end_time": "2022-04-21T15:47:11.134899",
     "exception": false,
     "start_time": "2022-04-21T15:47:11.016648",
     "status": "completed"
    },
    "tags": []
   },
   "source": [
    "### Assumpiton 3 - \n",
    "No Multi-colinearity : Independant variables have no perfect or exact relationship.\n",
    "\n",
    "<b>Checking Multi-colinearity using VIF<b/>"
   ]
  },
  {
   "cell_type": "code",
   "execution_count": 40,
   "id": "7a05628b",
   "metadata": {
    "execution": {
     "iopub.execute_input": "2022-04-21T15:47:11.375013Z",
     "iopub.status.busy": "2022-04-21T15:47:11.374498Z",
     "iopub.status.idle": "2022-04-21T15:47:11.391031Z",
     "shell.execute_reply": "2022-04-21T15:47:11.390295Z"
    },
    "papermill": {
     "duration": 0.139132,
     "end_time": "2022-04-21T15:47:11.393269",
     "exception": false,
     "start_time": "2022-04-21T15:47:11.254137",
     "status": "completed"
    },
    "tags": []
   },
   "outputs": [
    {
     "name": "stdout",
     "output_type": "stream",
     "text": [
      "            features       vif\n",
      "0          GRE Score  4.402221\n",
      "1        TOEFL Score  3.838492\n",
      "2  University Rating  2.600570\n",
      "3                SOP  2.835667\n",
      "4               LOR   2.004829\n",
      "5               CGPA  4.701520\n",
      "6           Research  1.483072\n"
     ]
    }
   ],
   "source": [
    "vif = pd.DataFrame()\n",
    "x_t = x\n",
    "vif['features'] = x_t.columns\n",
    "vif['vif'] = [variance_inflation_factor(x_t.values, i) for i in range(x_t.shape[1])]\n",
    "print(vif)"
   ]
  },
  {
   "cell_type": "markdown",
   "id": "7500fcf9",
   "metadata": {
    "execution": {
     "iopub.execute_input": "2022-04-21T15:36:29.303507Z",
     "iopub.status.busy": "2022-04-21T15:36:29.303230Z",
     "iopub.status.idle": "2022-04-21T15:36:29.309511Z",
     "shell.execute_reply": "2022-04-21T15:36:29.308523Z",
     "shell.execute_reply.started": "2022-04-21T15:36:29.303478Z"
    },
    "papermill": {
     "duration": 0.11908,
     "end_time": "2022-04-21T15:47:11.631837",
     "exception": false,
     "start_time": "2022-04-21T15:47:11.512757",
     "status": "completed"
    },
    "tags": []
   },
   "source": [
    "<b>There is no Feature with VIF more than 5. So we can proceed with model building.</b>"
   ]
  },
  {
   "cell_type": "markdown",
   "id": "d12843e8",
   "metadata": {
    "papermill": {
     "duration": 0.120139,
     "end_time": "2022-04-21T15:47:11.871351",
     "exception": false,
     "start_time": "2022-04-21T15:47:11.751212",
     "status": "completed"
    },
    "tags": []
   },
   "source": [
    "## Statsmodel - OLS Model"
   ]
  },
  {
   "cell_type": "code",
   "execution_count": 41,
   "id": "b7d94120",
   "metadata": {
    "execution": {
     "iopub.execute_input": "2022-04-21T15:47:12.115352Z",
     "iopub.status.busy": "2022-04-21T15:47:12.114595Z",
     "iopub.status.idle": "2022-04-21T15:47:12.132407Z",
     "shell.execute_reply": "2022-04-21T15:47:12.131509Z"
    },
    "papermill": {
     "duration": 0.141492,
     "end_time": "2022-04-21T15:47:12.134198",
     "exception": false,
     "start_time": "2022-04-21T15:47:11.992706",
     "status": "completed"
    },
    "tags": []
   },
   "outputs": [
    {
     "name": "stdout",
     "output_type": "stream",
     "text": [
      "                            OLS Regression Results                            \n",
      "==============================================================================\n",
      "Dep. Variable:       Chance of Admit    R-squared:                       0.822\n",
      "Model:                            OLS   Adj. R-squared:                  0.820\n",
      "Method:                 Least Squares   F-statistic:                     323.3\n",
      "Date:                Sat, 25 Feb 2023   Prob (F-statistic):          6.00e-179\n",
      "Time:                        19:43:32   Log-Likelihood:                 706.09\n",
      "No. Observations:                 497   AIC:                            -1396.\n",
      "Df Residuals:                     489   BIC:                            -1363.\n",
      "Df Model:                           7                                         \n",
      "Covariance Type:            nonrobust                                         \n",
      "=====================================================================================\n",
      "                        coef    std err          t      P>|t|      [0.025      0.975]\n",
      "-------------------------------------------------------------------------------------\n",
      "const                 0.7239      0.003    273.880      0.000       0.719       0.729\n",
      "GRE Score             0.0201      0.006      3.618      0.000       0.009       0.031\n",
      "TOEFL Score           0.0156      0.005      3.005      0.003       0.005       0.026\n",
      "University Rating     0.0062      0.004      1.447      0.149      -0.002       0.015\n",
      "SOP                   0.0038      0.004      0.858      0.391      -0.005       0.013\n",
      "LOR                   0.0147      0.004      3.927      0.000       0.007       0.022\n",
      "CGPA                  0.0712      0.006     12.423      0.000       0.060       0.082\n",
      "Research              0.0118      0.003      3.659      0.000       0.005       0.018\n",
      "==============================================================================\n",
      "Omnibus:                      111.275   Durbin-Watson:                   0.819\n",
      "Prob(Omnibus):                  0.000   Jarque-Bera (JB):              257.638\n",
      "Skew:                          -1.152   Prob(JB):                     1.13e-56\n",
      "Kurtosis:                       5.670   Cond. No.                         5.60\n",
      "==============================================================================\n",
      "\n",
      "Notes:\n",
      "[1] Standard Errors assume that the covariance matrix of the errors is correctly specified.\n"
     ]
    }
   ],
   "source": [
    "x_sm = sm.add_constant(x)\n",
    "sm_model = sm.OLS(y,x_sm).fit()\n",
    "print(sm_model.summary())"
   ]
  },
  {
   "cell_type": "markdown",
   "id": "df6b0873",
   "metadata": {
    "papermill": {
     "duration": 0.119423,
     "end_time": "2022-04-21T15:47:12.373456",
     "exception": false,
     "start_time": "2022-04-21T15:47:12.254033",
     "status": "completed"
    },
    "tags": []
   },
   "source": [
    "### From the above data, we can say - \n",
    "- R^2 - 0.822\n",
    "- Adj R^2 - 0.82\n",
    "- Unviersity Rating and SOP having P more than 0.05 which means it doesn't improve R^2 for us as their coef is very near to 0."
   ]
  },
  {
   "cell_type": "code",
   "execution_count": 42,
   "id": "7f0baf5d",
   "metadata": {
    "execution": {
     "iopub.execute_input": "2022-04-21T15:47:12.616740Z",
     "iopub.status.busy": "2022-04-21T15:47:12.616245Z",
     "iopub.status.idle": "2022-04-21T15:47:12.620525Z",
     "shell.execute_reply": "2022-04-21T15:47:12.619955Z"
    },
    "papermill": {
     "duration": 0.127798,
     "end_time": "2022-04-21T15:47:12.622287",
     "exception": false,
     "start_time": "2022-04-21T15:47:12.494489",
     "status": "completed"
    },
    "tags": []
   },
   "outputs": [],
   "source": [
    "new_x = x.drop(columns=['SOP','University Rating'])"
   ]
  },
  {
   "cell_type": "markdown",
   "id": "a9e258a3",
   "metadata": {
    "papermill": {
     "duration": 0.120655,
     "end_time": "2022-04-21T15:47:12.862791",
     "exception": false,
     "start_time": "2022-04-21T15:47:12.742136",
     "status": "completed"
    },
    "tags": []
   },
   "source": [
    "### Checking for the VIF for after removing variables"
   ]
  },
  {
   "cell_type": "code",
   "execution_count": 43,
   "id": "3397de7b",
   "metadata": {
    "execution": {
     "iopub.execute_input": "2022-04-21T15:47:13.107007Z",
     "iopub.status.busy": "2022-04-21T15:47:13.106526Z",
     "iopub.status.idle": "2022-04-21T15:47:13.119490Z",
     "shell.execute_reply": "2022-04-21T15:47:13.118609Z"
    },
    "papermill": {
     "duration": 0.139371,
     "end_time": "2022-04-21T15:47:13.121503",
     "exception": false,
     "start_time": "2022-04-21T15:47:12.982132",
     "status": "completed"
    },
    "tags": []
   },
   "outputs": [
    {
     "name": "stdout",
     "output_type": "stream",
     "text": [
      "      features       vif\n",
      "0    GRE Score  4.392146\n",
      "1  TOEFL Score  3.732753\n",
      "2         LOR   1.680963\n",
      "3         CGPA  4.308837\n",
      "4     Research  1.475574\n"
     ]
    }
   ],
   "source": [
    "new_vif = pd.DataFrame()\n",
    "new_x_t = new_x\n",
    "variable_sm = sm_model.model.exog\n",
    "new_vif['features'] = new_x_t.columns\n",
    "new_vif['vif'] = [variance_inflation_factor(new_x_t.values, i) for i in range(new_x_t.shape[1])]\n",
    "print(new_vif)"
   ]
  },
  {
   "cell_type": "markdown",
   "id": "efbb8c78",
   "metadata": {
    "papermill": {
     "duration": 0.122527,
     "end_time": "2022-04-21T15:47:13.370436",
     "exception": false,
     "start_time": "2022-04-21T15:47:13.247909",
     "status": "completed"
    },
    "tags": []
   },
   "source": [
    "<b>Still there is no Feature with VIF more than 5. So we can proceed with model building.</b>"
   ]
  },
  {
   "cell_type": "code",
   "execution_count": 44,
   "id": "9c7fab3b",
   "metadata": {
    "execution": {
     "iopub.execute_input": "2022-04-21T15:47:13.618854Z",
     "iopub.status.busy": "2022-04-21T15:47:13.618541Z",
     "iopub.status.idle": "2022-04-21T15:47:13.635520Z",
     "shell.execute_reply": "2022-04-21T15:47:13.634934Z"
    },
    "papermill": {
     "duration": 0.145912,
     "end_time": "2022-04-21T15:47:13.639241",
     "exception": false,
     "start_time": "2022-04-21T15:47:13.493329",
     "status": "completed"
    },
    "tags": []
   },
   "outputs": [
    {
     "name": "stdout",
     "output_type": "stream",
     "text": [
      "                            OLS Regression Results                            \n",
      "==============================================================================\n",
      "Dep. Variable:       Chance of Admit    R-squared:                       0.821\n",
      "Model:                            OLS   Adj. R-squared:                  0.819\n",
      "Method:                 Least Squares   F-statistic:                     449.6\n",
      "Date:                Sat, 25 Feb 2023   Prob (F-statistic):          1.15e-180\n",
      "Time:                        19:43:32   Log-Likelihood:                 703.89\n",
      "No. Observations:                 497   AIC:                            -1396.\n",
      "Df Residuals:                     491   BIC:                            -1371.\n",
      "Df Model:                           5                                         \n",
      "Covariance Type:            nonrobust                                         \n",
      "===============================================================================\n",
      "                  coef    std err          t      P>|t|      [0.025      0.975]\n",
      "-------------------------------------------------------------------------------\n",
      "const           0.7239      0.003    273.229      0.000       0.719       0.729\n",
      "GRE Score       0.0203      0.006      3.665      0.000       0.009       0.031\n",
      "TOEFL Score     0.0173      0.005      3.382      0.001       0.007       0.027\n",
      "LOR             0.0176      0.003      5.116      0.000       0.011       0.024\n",
      "CGPA            0.0745      0.005     13.554      0.000       0.064       0.085\n",
      "Research        0.0123      0.003      3.807      0.000       0.006       0.019\n",
      "==============================================================================\n",
      "Omnibus:                      106.557   Durbin-Watson:                   0.827\n",
      "Prob(Omnibus):                  0.000   Jarque-Bera (JB):              241.770\n",
      "Skew:                          -1.113   Prob(JB):                     3.16e-53\n",
      "Kurtosis:                       5.592   Cond. No.                         4.73\n",
      "==============================================================================\n",
      "\n",
      "Notes:\n",
      "[1] Standard Errors assume that the covariance matrix of the errors is correctly specified.\n"
     ]
    }
   ],
   "source": [
    "new_x_sm = sm.add_constant(new_x)\n",
    "new_sm_model = sm.OLS(y,new_x_sm).fit()\n",
    "print(new_sm_model.summary())"
   ]
  },
  {
   "cell_type": "markdown",
   "id": "2387e162",
   "metadata": {
    "papermill": {
     "duration": 0.122279,
     "end_time": "2022-04-21T15:47:13.884810",
     "exception": false,
     "start_time": "2022-04-21T15:47:13.762531",
     "status": "completed"
    },
    "tags": []
   },
   "source": [
    "### From the above data, we can say - \n",
    "- R^2 - 0.821\n",
    "- Adj R^2 - 0.819\n",
    "- Now the R^2 is having more significance."
   ]
  },
  {
   "cell_type": "markdown",
   "id": "ab054f0b",
   "metadata": {
    "execution": {
     "iopub.execute_input": "2022-04-21T15:39:34.439374Z",
     "iopub.status.busy": "2022-04-21T15:39:34.439094Z",
     "iopub.status.idle": "2022-04-21T15:39:34.443924Z",
     "shell.execute_reply": "2022-04-21T15:39:34.442849Z",
     "shell.execute_reply.started": "2022-04-21T15:39:34.439345Z"
    },
    "papermill": {
     "duration": 0.121476,
     "end_time": "2022-04-21T15:47:14.129687",
     "exception": false,
     "start_time": "2022-04-21T15:47:14.008211",
     "status": "completed"
    },
    "tags": []
   },
   "source": [
    "# Evaluating the model we trained"
   ]
  },
  {
   "cell_type": "code",
   "execution_count": 45,
   "id": "53d049de",
   "metadata": {
    "execution": {
     "iopub.execute_input": "2022-04-21T15:47:14.372825Z",
     "iopub.status.busy": "2022-04-21T15:47:14.372514Z",
     "iopub.status.idle": "2022-04-21T15:47:14.378631Z",
     "shell.execute_reply": "2022-04-21T15:47:14.377838Z"
    },
    "papermill": {
     "duration": 0.129968,
     "end_time": "2022-04-21T15:47:14.380503",
     "exception": false,
     "start_time": "2022-04-21T15:47:14.250535",
     "status": "completed"
    },
    "tags": []
   },
   "outputs": [],
   "source": [
    "x_train,x_test,y_train,y_test = train_test_split(new_x,y,test_size=0.2,random_state=1)"
   ]
  },
  {
   "cell_type": "code",
   "execution_count": 46,
   "id": "c6bd4780",
   "metadata": {
    "execution": {
     "iopub.execute_input": "2022-04-21T15:47:14.625642Z",
     "iopub.status.busy": "2022-04-21T15:47:14.625333Z",
     "iopub.status.idle": "2022-04-21T15:47:14.650755Z",
     "shell.execute_reply": "2022-04-21T15:47:14.649604Z"
    },
    "papermill": {
     "duration": 0.149696,
     "end_time": "2022-04-21T15:47:14.652795",
     "exception": false,
     "start_time": "2022-04-21T15:47:14.503099",
     "status": "completed"
    },
    "tags": []
   },
   "outputs": [
    {
     "name": "stdout",
     "output_type": "stream",
     "text": [
      "Score: 0.8217996954288399\n"
     ]
    }
   ],
   "source": [
    "lr = LinearRegression()\n",
    "lr.fit(x_train,y_train)\n",
    "print('Score:',lr.score(x_train,y_train))"
   ]
  },
  {
   "cell_type": "code",
   "execution_count": 47,
   "id": "d639c0b0",
   "metadata": {
    "execution": {
     "iopub.execute_input": "2022-04-21T15:47:14.897597Z",
     "iopub.status.busy": "2022-04-21T15:47:14.897136Z",
     "iopub.status.idle": "2022-04-21T15:47:14.903213Z",
     "shell.execute_reply": "2022-04-21T15:47:14.902441Z"
    },
    "papermill": {
     "duration": 0.13121,
     "end_time": "2022-04-21T15:47:14.905038",
     "exception": false,
     "start_time": "2022-04-21T15:47:14.773828",
     "status": "completed"
    },
    "tags": []
   },
   "outputs": [],
   "source": [
    "y_pred = lr.predict(x_test)"
   ]
  },
  {
   "cell_type": "code",
   "execution_count": 48,
   "id": "9d359efc",
   "metadata": {
    "execution": {
     "iopub.execute_input": "2022-04-21T15:47:15.153027Z",
     "iopub.status.busy": "2022-04-21T15:47:15.152719Z",
     "iopub.status.idle": "2022-04-21T15:47:15.162409Z",
     "shell.execute_reply": "2022-04-21T15:47:15.161450Z"
    },
    "papermill": {
     "duration": 0.136548,
     "end_time": "2022-04-21T15:47:15.164945",
     "exception": false,
     "start_time": "2022-04-21T15:47:15.028397",
     "status": "completed"
    },
    "tags": []
   },
   "outputs": [
    {
     "name": "stdout",
     "output_type": "stream",
     "text": [
      "Mean Absolute Error : 0.04147037495847901\n",
      "Mean Squared Error : 0.0034141454229344266\n",
      "Root Mean Squared Error : 0.05843068905065579\n",
      "Mean Absolute Percentage Error : 0.06370614652531759\n"
     ]
    }
   ],
   "source": [
    "print(\"Mean Absolute Error :\",mean_absolute_error(y_test,y_pred))\n",
    "print(\"Mean Squared Error :\",mean_squared_error(y_test,y_pred))\n",
    "print(\"Root Mean Squared Error :\",np.sqrt(mean_squared_error(y_test,y_pred)))\n",
    "print(\"Mean Absolute Percentage Error :\",mean_absolute_percentage_error(y_test,y_pred))"
   ]
  },
  {
   "cell_type": "code",
   "execution_count": null,
   "id": "3360bb0e",
   "metadata": {},
   "outputs": [],
   "source": []
  },
  {
   "cell_type": "markdown",
   "id": "7fc4451f",
   "metadata": {
    "papermill": {
     "duration": 0.122035,
     "end_time": "2022-04-21T15:47:15.654273",
     "exception": false,
     "start_time": "2022-04-21T15:47:15.532238",
     "status": "completed"
    },
    "tags": []
   },
   "source": [
    "### Checking Residuals"
   ]
  },
  {
   "cell_type": "code",
   "execution_count": 49,
   "id": "e62eae4a",
   "metadata": {
    "execution": {
     "iopub.execute_input": "2022-04-21T15:47:15.900383Z",
     "iopub.status.busy": "2022-04-21T15:47:15.900123Z",
     "iopub.status.idle": "2022-04-21T15:47:15.906086Z",
     "shell.execute_reply": "2022-04-21T15:47:15.905280Z"
    },
    "papermill": {
     "duration": 0.131234,
     "end_time": "2022-04-21T15:47:15.907970",
     "exception": false,
     "start_time": "2022-04-21T15:47:15.776736",
     "status": "completed"
    },
    "tags": []
   },
   "outputs": [],
   "source": [
    "pred = lr.predict(x_train)\n",
    "errors = pred-y_train"
   ]
  },
  {
   "cell_type": "code",
   "execution_count": 50,
   "id": "78dc571f",
   "metadata": {
    "execution": {
     "iopub.execute_input": "2022-04-21T15:47:16.209396Z",
     "iopub.status.busy": "2022-04-21T15:47:16.209114Z",
     "iopub.status.idle": "2022-04-21T15:47:16.484267Z",
     "shell.execute_reply": "2022-04-21T15:47:16.483457Z"
    },
    "papermill": {
     "duration": 0.457891,
     "end_time": "2022-04-21T15:47:16.486190",
     "exception": false,
     "start_time": "2022-04-21T15:47:16.028299",
     "status": "completed"
    },
    "tags": []
   },
   "outputs": [
    {
     "data": {
      "image/png": "[encoded data removed]",
      "text/plain": [
       "<Figure size 432x288 with 1 Axes>"
      ]
     },
     "metadata": {},
     "output_type": "display_data"
    }
   ],
   "source": [
    "sns.histplot(errors,kde=True)\n",
    "plt.show()"
   ]
  },
  {
   "cell_type": "markdown",
   "id": "f079c8df",
   "metadata": {
    "papermill": {
     "duration": 0.123626,
     "end_time": "2022-04-21T15:47:16.733238",
     "exception": false,
     "start_time": "2022-04-21T15:47:16.609612",
     "status": "completed"
    },
    "tags": []
   },
   "source": [
    "### Checking for normality with Q-Q Plot¶"
   ]
  },
  {
   "cell_type": "code",
   "execution_count": 51,
   "id": "16ec32cb",
   "metadata": {
    "execution": {
     "iopub.execute_input": "2022-04-21T15:47:16.985495Z",
     "iopub.status.busy": "2022-04-21T15:47:16.985203Z",
     "iopub.status.idle": "2022-04-21T15:47:17.221468Z",
     "shell.execute_reply": "2022-04-21T15:47:17.220605Z"
    },
    "papermill": {
     "duration": 0.367242,
     "end_time": "2022-04-21T15:47:17.223472",
     "exception": false,
     "start_time": "2022-04-21T15:47:16.856230",
     "status": "completed"
    },
    "tags": []
   },
   "outputs": [
    {
     "data": {
      "image/png": "[encoded data removed]",
      "text/plain": [
       "<Figure size 720x432 with 1 Axes>"
      ]
     },
     "metadata": {},
     "output_type": "display_data"
    }
   ],
   "source": [
    "plt.figure(figsize=(10,6))\n",
    "stats.probplot(errors, plot= plt, dist=\"norm\")\n",
    "plt.title('Q-Q plot for Residuals')\n",
    "plt.show()"
   ]
  },
  {
   "cell_type": "markdown",
   "id": "4075da7d",
   "metadata": {
    "papermill": {
     "duration": 0.142151,
     "end_time": "2022-04-21T15:47:17.492805",
     "exception": false,
     "start_time": "2022-04-21T15:47:17.350654",
     "status": "completed"
    },
    "tags": []
   },
   "source": [
    "<b>Error almost follows the Normal distribution.</b>"
   ]
  },
  {
   "cell_type": "code",
   "execution_count": 52,
   "id": "7228ad0b",
   "metadata": {
    "execution": {
     "iopub.execute_input": "2022-04-21T15:47:17.745541Z",
     "iopub.status.busy": "2022-04-21T15:47:17.745227Z",
     "iopub.status.idle": "2022-04-21T15:47:17.988981Z",
     "shell.execute_reply": "2022-04-21T15:47:17.988082Z"
    },
    "papermill": {
     "duration": 0.372913,
     "end_time": "2022-04-21T15:47:17.990988",
     "exception": false,
     "start_time": "2022-04-21T15:47:17.618075",
     "status": "completed"
    },
    "tags": []
   },
   "outputs": [
    {
     "data": {
      "image/png": "[encoded data removed]",
      "text/plain": [
       "<Figure size 432x288 with 1 Axes>"
      ]
     },
     "metadata": {},
     "output_type": "display_data"
    }
   ],
   "source": [
    "sns.scatterplot(x=pred,y=errors)\n",
    "plt.xlabel('Predicted values')\n",
    "plt.ylabel('Residuals')\n",
    "plt.show()"
   ]
  },
  {
   "cell_type": "markdown",
   "id": "edd22304",
   "metadata": {
    "papermill": {
     "duration": 0.129354,
     "end_time": "2022-04-21T15:47:18.248296",
     "exception": false,
     "start_time": "2022-04-21T15:47:18.118942",
     "status": "completed"
    },
    "tags": []
   },
   "source": [
    "<b>It doesn't have a perfect homoscedasticity. Reason for this might be the less amount of data present.</b>"
   ]
  },
  {
   "cell_type": "markdown",
   "id": "3634f0b1",
   "metadata": {
    "papermill": {
     "duration": 0.125308,
     "end_time": "2022-04-21T15:47:18.753933",
     "exception": false,
     "start_time": "2022-04-21T15:47:18.628625",
     "status": "completed"
    },
    "tags": []
   },
   "source": [
    "## Creating a new dataframe with some dummy data to predict the 'Chance of admit'"
   ]
  },
  {
   "cell_type": "code",
   "execution_count": 53,
   "id": "f8459321",
   "metadata": {
    "execution": {
     "iopub.execute_input": "2022-04-21T15:47:19.010845Z",
     "iopub.status.busy": "2022-04-21T15:47:19.010278Z",
     "iopub.status.idle": "2022-04-21T15:47:19.016416Z",
     "shell.execute_reply": "2022-04-21T15:47:19.015861Z"
    },
    "papermill": {
     "duration": 0.138348,
     "end_time": "2022-04-21T15:47:19.018352",
     "exception": false,
     "start_time": "2022-04-21T15:47:18.880004",
     "status": "completed"
    },
    "tags": []
   },
   "outputs": [],
   "source": [
    "dummy_data = np.array([[320,112,3,4,2,9,1],[320,112,2,3,4,9,0],[320,112,4,4,5,6,1],[310,112,5,2,2,8,1],[320,105,1,2,2,8,1],[290,100,2,2,5,9,1]])"
   ]
  },
  {
   "cell_type": "code",
   "execution_count": 54,
   "id": "56fc1ac5",
   "metadata": {
    "execution": {
     "iopub.execute_input": "2022-04-21T15:47:19.273497Z",
     "iopub.status.busy": "2022-04-21T15:47:19.272968Z",
     "iopub.status.idle": "2022-04-21T15:47:19.278026Z",
     "shell.execute_reply": "2022-04-21T15:47:19.277427Z"
    },
    "papermill": {
     "duration": 0.134539,
     "end_time": "2022-04-21T15:47:19.279982",
     "exception": false,
     "start_time": "2022-04-21T15:47:19.145443",
     "status": "completed"
    },
    "tags": []
   },
   "outputs": [],
   "source": [
    "ddata = pd.DataFrame(data=dummy_data,columns=['GRE Score','TOEFL Score','University Rating','SOP','LOR ','CGPA','Research'])"
   ]
  },
  {
   "cell_type": "code",
   "execution_count": 55,
   "id": "1bc77fcb",
   "metadata": {
    "execution": {
     "iopub.execute_input": "2022-04-21T15:47:19.535034Z",
     "iopub.status.busy": "2022-04-21T15:47:19.534445Z",
     "iopub.status.idle": "2022-04-21T15:47:19.542149Z",
     "shell.execute_reply": "2022-04-21T15:47:19.541603Z"
    },
    "papermill": {
     "duration": 0.137655,
     "end_time": "2022-04-21T15:47:19.544045",
     "exception": false,
     "start_time": "2022-04-21T15:47:19.406390",
     "status": "completed"
    },
    "tags": []
   },
   "outputs": [],
   "source": [
    "new_cols = ddata.columns\n",
    "ddata[new_cols] = ss.transform(ddata[new_cols])"
   ]
  },
  {
   "cell_type": "code",
   "execution_count": 56,
   "id": "0b8fd984",
   "metadata": {
    "execution": {
     "iopub.execute_input": "2022-04-21T15:47:19.797092Z",
     "iopub.status.busy": "2022-04-21T15:47:19.796463Z",
     "iopub.status.idle": "2022-04-21T15:47:19.802220Z",
     "shell.execute_reply": "2022-04-21T15:47:19.801704Z"
    },
    "papermill": {
     "duration": 0.13502,
     "end_time": "2022-04-21T15:47:19.804100",
     "exception": false,
     "start_time": "2022-04-21T15:47:19.669080",
     "status": "completed"
    },
    "tags": []
   },
   "outputs": [],
   "source": [
    "ddata.drop(columns=['University Rating','SOP'],inplace=True)"
   ]
  },
  {
   "cell_type": "code",
   "execution_count": 57,
   "id": "77613a91",
   "metadata": {
    "execution": {
     "iopub.execute_input": "2022-04-21T15:47:20.060170Z",
     "iopub.status.busy": "2022-04-21T15:47:20.059526Z",
     "iopub.status.idle": "2022-04-21T15:47:20.070477Z",
     "shell.execute_reply": "2022-04-21T15:47:20.069945Z"
    },
    "papermill": {
     "duration": 0.142021,
     "end_time": "2022-04-21T15:47:20.072684",
     "exception": false,
     "start_time": "2022-04-21T15:47:19.930663",
     "status": "completed"
    },
    "tags": []
   },
   "outputs": [
    {
     "data": {
      "text/html": [
       "<div>\n",
       "<style scoped>\n",
       "    .dataframe tbody tr th:only-of-type {\n",
       "        vertical-align: middle;\n",
       "    }\n",
       "\n",
       "    .dataframe tbody tr th {\n",
       "        vertical-align: top;\n",
       "    }\n",
       "\n",
       "    .dataframe thead th {\n",
       "        text-align: right;\n",
       "    }\n",
       "</style>\n",
       "<table border=\"1\" class=\"dataframe\">\n",
       "  <thead>\n",
       "    <tr style=\"text-align: right;\">\n",
       "      <th></th>\n",
       "      <th>GRE Score</th>\n",
       "      <th>TOEFL Score</th>\n",
       "      <th>LOR</th>\n",
       "      <th>CGPA</th>\n",
       "      <th>Research</th>\n",
       "    </tr>\n",
       "  </thead>\n",
       "  <tbody>\n",
       "    <tr>\n",
       "      <th>0</th>\n",
       "      <td>0.304345</td>\n",
       "      <td>0.786140</td>\n",
       "      <td>-1.626526</td>\n",
       "      <td>0.695228</td>\n",
       "      <td>0.880341</td>\n",
       "    </tr>\n",
       "    <tr>\n",
       "      <th>1</th>\n",
       "      <td>0.304345</td>\n",
       "      <td>0.786140</td>\n",
       "      <td>0.552405</td>\n",
       "      <td>0.695228</td>\n",
       "      <td>-1.135924</td>\n",
       "    </tr>\n",
       "    <tr>\n",
       "      <th>2</th>\n",
       "      <td>0.304345</td>\n",
       "      <td>0.786140</td>\n",
       "      <td>1.641871</td>\n",
       "      <td>-4.298434</td>\n",
       "      <td>0.880341</td>\n",
       "    </tr>\n",
       "    <tr>\n",
       "      <th>3</th>\n",
       "      <td>-0.586464</td>\n",
       "      <td>0.786140</td>\n",
       "      <td>-1.626526</td>\n",
       "      <td>-0.969326</td>\n",
       "      <td>0.880341</td>\n",
       "    </tr>\n",
       "    <tr>\n",
       "      <th>4</th>\n",
       "      <td>0.304345</td>\n",
       "      <td>-0.374718</td>\n",
       "      <td>-1.626526</td>\n",
       "      <td>-0.969326</td>\n",
       "      <td>0.880341</td>\n",
       "    </tr>\n",
       "  </tbody>\n",
       "</table>\n",
       "</div>"
      ],
      "text/plain": [
       "   GRE Score  TOEFL Score      LOR       CGPA  Research\n",
       "0   0.304345     0.786140 -1.626526  0.695228  0.880341\n",
       "1   0.304345     0.786140  0.552405  0.695228 -1.135924\n",
       "2   0.304345     0.786140  1.641871 -4.298434  0.880341\n",
       "3  -0.586464     0.786140 -1.626526 -0.969326  0.880341\n",
       "4   0.304345    -0.374718 -1.626526 -0.969326  0.880341"
      ]
     },
     "execution_count": 57,
     "metadata": {},
     "output_type": "execute_result"
    }
   ],
   "source": [
    "ddata.head()"
   ]
  },
  {
   "cell_type": "code",
   "execution_count": 58,
   "id": "b943ec78",
   "metadata": {
    "execution": {
     "iopub.execute_input": "2022-04-21T15:47:20.326632Z",
     "iopub.status.busy": "2022-04-21T15:47:20.325996Z",
     "iopub.status.idle": "2022-04-21T15:47:20.333114Z",
     "shell.execute_reply": "2022-04-21T15:47:20.332275Z"
    },
    "papermill": {
     "duration": 0.136859,
     "end_time": "2022-04-21T15:47:20.335654",
     "exception": false,
     "start_time": "2022-04-21T15:47:20.198795",
     "status": "completed"
    },
    "tags": []
   },
   "outputs": [
    {
     "name": "stdout",
     "output_type": "stream",
     "text": [
      "[0.77753241 0.79382138 0.46197852 0.63558348 0.62949461 0.74752096]\n"
     ]
    }
   ],
   "source": [
    "pred = lr.predict(ddata)\n",
    "print(pred)"
   ]
  },
  {
   "cell_type": "markdown",
   "id": "9dc137fd",
   "metadata": {
    "papermill": {
     "duration": 0.126092,
     "end_time": "2022-04-21T15:47:20.589275",
     "exception": false,
     "start_time": "2022-04-21T15:47:20.463183",
     "status": "completed"
    },
    "tags": []
   },
   "source": [
    "### The above predicted value tells us - \n",
    "- First two records had great GRE and TOEFL score as well as the LOR and CGPA was high so the chance of admit is high.\n",
    "- But since we can see that the CGPA is more relevant, with the last predicted value the GRE Score and TOEFL score were low but got a good chance of admit as it had higher CGPA. "
   ]
  },
  {
   "cell_type": "markdown",
   "id": "5f5765c2",
   "metadata": {
    "papermill": {
     "duration": 0.128997,
     "end_time": "2022-04-21T15:47:21.099513",
     "exception": false,
     "start_time": "2022-04-21T15:47:20.970516",
     "status": "completed"
    },
    "tags": []
   },
   "source": [
    "# Recommendation - \n",
    "- For better chance of admit we can recommend student some good GRE and TOEFL study material as it is really important for having the good score there.\n",
    "- We can even give awareness to student to study hard and get more CGPA during their under-graduation as it will impact the chance of admit significantly.\n",
    "- Research is a good add on with some good research recommendation which students can perform during undergraduation can help them boost their profile.\n",
    "- As well as with good CGPA and research the student might also get good LOR which again will boost the chance of admit."
   ]
  }
 ],
 "metadata": {
  "kernelspec": {
   "display_name": "Python 3 (ipykernel)",
   "language": "python",
   "name": "python3"
  },
  "language_info": {
   "codemirror_mode": {
    "name": "ipython",
    "version": 3
   },
   "file_extension": ".py",
   "mimetype": "text/x-python",
   "name": "python",
   "nbconvert_exporter": "python",
   "pygments_lexer": "ipython3",
   "version": "3.9.12"
  },
  "papermill": {
   "default_parameters": {},
   "duration": 47.295388,
   "end_time": "2022-04-21T15:47:22.299514",
   "environment_variables": {},
   "exception": null,
   "input_path": "__notebook__.ipynb",
   "output_path": "__notebook__.ipynb",
   "parameters": {},
   "start_time": "2022-04-21T15:46:35.004126",
   "version": "2.3.4"
  }
 },
 "nbformat": 4,
 "nbformat_minor": 5
}
